{
 "cells": [
  {
   "cell_type": "code",
   "execution_count": 1,
   "id": "32aa5e18",
   "metadata": {},
   "outputs": [],
   "source": [
    "%load_ext autoreload\n",
    "%autoreload 2\n",
    "import pickle\n",
    "from MARBLE import utils, plotting, net, preprocessing, postprocessing, geometry\n",
    "\n",
    "import matplotlib.pyplot as plt"
   ]
  },
  {
   "cell_type": "markdown",
   "id": "af697c21",
   "metadata": {},
   "source": [
    "# Visualise a single condition in a single session"
   ]
  },
  {
   "cell_type": "code",
   "execution_count": 2,
   "id": "68c987c1",
   "metadata": {},
   "outputs": [],
   "source": [
    "#pos, vel, time, cond_labels = pickle.load(open('../outputs/spiking_data/raw_data_session_1.pkl','rb'))\n",
    "\n",
    "data = []\n",
    "for i in range(2):\n",
    "    data.append(pickle.load(open('../outputs/spiking_data/data_object_session_{}.pkl'.format(i),'rb')))"
   ]
  },
  {
   "cell_type": "code",
   "execution_count": null,
   "id": "6af38dbd",
   "metadata": {},
   "outputs": [
    {
     "name": "stdout",
     "output_type": "stream",
     "text": [
      "---- Embedding dimension: 5\n",
      "---- Signal dimension: 5\n",
      "\n",
      "Vector computations are disabled\n",
      "\n",
      "---- Computing kernels ... Done \n",
      "---- Computing eigendecomposition ... "
     ]
    }
   ],
   "source": [
    "from torch_geometric.data import Batch\n",
    "from torch_geometric.transforms import RandomNodeSplit\n",
    "batch = Batch.from_data_list(data, exclude_keys=['L','gauges','dist','gamma', 'manifold', 'emb','clusters'])\n",
    "split = RandomNodeSplit(split='train_rest', num_val=0.1, num_test=0.1)\n",
    "split(batch)\n",
    "    \n",
    "batch = preprocessing(batch, vector=False, compute_laplacian=True, n_evec=128)"
   ]
  },
  {
   "cell_type": "markdown",
   "id": "2e333c65",
   "metadata": {},
   "source": [
    "# Train model on all conditions and sessions"
   ]
  },
  {
   "cell_type": "code",
   "execution_count": null,
   "id": "91607702",
   "metadata": {},
   "outputs": [],
   "source": [
    "par = {'epochs': 150, #optimisation epochs\n",
    "       'order': 2, #order of derivatives\n",
    "       'hidden_channels': 32, #number of internal dimensions in MLP\n",
    "       'out_channels': 8,\n",
    "       'inner_product_features': False,\n",
    "       'diffusion': True,\n",
    "      }\n",
    "    \n",
    "model = net(batch, par=par)\n",
    "    \n",
    "model.run_training(batch, use_best=True, outdir='../outputs/spiking_data/all_sessions') "
   ]
  },
  {
   "cell_type": "code",
   "execution_count": null,
   "id": "3e05a706",
   "metadata": {},
   "outputs": [],
   "source": [
    "data = model.evaluate(data)\n",
    "data = postprocessing(data)"
   ]
  },
  {
   "cell_type": "code",
   "execution_count": null,
   "id": "48af88ff",
   "metadata": {},
   "outputs": [],
   "source": [
    "conditions = ['DownLeft','Left','UpLeft','Up','UpRight','Right','DownRight']\n",
    "plotting.embedding(data, data.y.numpy().astype(int), titles=conditions)"
   ]
  },
  {
   "cell_type": "code",
   "execution_count": null,
   "id": "6bd418db",
   "metadata": {},
   "outputs": [],
   "source": [
    "plt.imshow(data.dist); plt.colorbar()  "
   ]
  },
  {
   "cell_type": "code",
   "execution_count": null,
   "id": "5f923c4b",
   "metadata": {},
   "outputs": [],
   "source": [
    "emb_MDS, _ = geometry.embed(data.dist, embed_typ = 'MDS')\n",
    "labels = [i for i in range(len(conditions))]\n",
    "plotting.embedding(emb_MDS, labels, titles=conditions, s=30, alpha=1)"
   ]
  },
  {
   "cell_type": "code",
   "execution_count": null,
   "id": "4c67ad4f",
   "metadata": {},
   "outputs": [],
   "source": [
    "import numpy as np\n",
    "from sklearn.decomposition import PCA\n",
    "rates = pickle.load(open('../outputs/spiking_data/rate_data_1ms.pkl','rb'))       \n",
    "\n",
    "# definingf the set of conditions     \n",
    "conditions=['DownLeft','Left','UpLeft','Up','UpRight','Right','DownRight']    \n",
    "    \n",
    "# list of days\n",
    "days = rates.keys()\n",
    "    \n",
    "# define some parameters\n",
    "pca_n = 5\n",
    "      \n",
    "# storing all distance matrices\n",
    "embeddings = []\n",
    "distance_matrices = []\n",
    "    \n",
    "\n",
    "times = [];\n",
    "all_condition_labels = [];\n",
    "    \n",
    "# loop over each day\n",
    "for day in days:\n",
    "        \n",
    "        # first stack all trials from that day together and fit pca\n",
    "        print(day)\n",
    "        pos = []            \n",
    "        # loop over each condition on that day\n",
    "        for c, cond in enumerate(conditions):\n",
    "\n",
    "            # go cue at 500ms\n",
    "            data = rates[day][cond][:,500:,:]\n",
    "            \n",
    "            # loop over all trials\n",
    "            for trial in data:\n",
    "                # store each trial as time x channels\n",
    "                pos.append(trial)\n",
    "              \n",
    "        # stacking all trials into a single array (time x channels)\n",
    "        pos = np.vstack(pos)\n",
    "        print(pos.shape)\n",
    "        \n",
    "        # fit PCA to all data across all conditions on a given day simultaneously\n",
    "        pca = PCA(n_components=pca_n)\n",
    "        pca.fit(pos)     \n",
    "        print(pca.explained_variance_ratio_)  "
   ]
  },
  {
   "cell_type": "code",
   "execution_count": null,
   "id": "92fe51d9",
   "metadata": {},
   "outputs": [],
   "source": [
    "rates[day][cond].shape"
   ]
  },
  {
   "cell_type": "code",
   "execution_count": null,
   "id": "f929d938",
   "metadata": {},
   "outputs": [],
   "source": []
  }
 ],
 "metadata": {
  "kernelspec": {
   "display_name": "Python 3 (ipykernel)",
   "language": "python",
   "name": "python3"
  },
  "language_info": {
   "codemirror_mode": {
    "name": "ipython",
    "version": 3
   },
   "file_extension": ".py",
   "mimetype": "text/x-python",
   "name": "python",
   "nbconvert_exporter": "python",
   "pygments_lexer": "ipython3",
   "version": "3.9.13"
  }
 },
 "nbformat": 4,
 "nbformat_minor": 5
}
