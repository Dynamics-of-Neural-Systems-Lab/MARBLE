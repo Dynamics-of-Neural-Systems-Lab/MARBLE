{
 "cells": [
  {
   "cell_type": "code",
   "execution_count": 2,
   "id": "523226bd",
   "metadata": {},
   "outputs": [],
   "source": [
    "import pickle\n",
    "from MARBLE import utils"
   ]
  },
  {
   "cell_type": "code",
   "execution_count": null,
   "id": "3662f39f",
   "metadata": {},
   "outputs": [],
   "source": [
    "pos, vel = pickle.load(open('../outputs/spiking_data/data_object.pkl','rb'))"
   ]
  },
  {
   "cell_type": "code",
   "execution_count": null,
   "id": "49154f51",
   "metadata": {},
   "outputs": [],
   "source": [
    "data = utils.construct_dataset(pos, features=vel, graph_type='cknn', k=40, stop_crit=0.05, \n",
    "                                   n_geodesic_nb=10, compute_cl=True, vector=False)"
   ]
  },
  {
   "cell_type": "code",
   "execution_count": null,
   "id": "3d155312",
   "metadata": {},
   "outputs": [],
   "source": [
    "axes = plotting.fields(data, col=4, alpha=1, width=7, scale=2, titles=titles, view=[70,20])"
   ]
  },
  {
   "cell_type": "code",
   "execution_count": 23,
   "id": "2bc50bd8",
   "metadata": {},
   "outputs": [],
   "source": [
    "rates =  pickle.load(open('../outputs/spiking_data/rate_data.pkl','rb'))       "
   ]
  },
  {
   "cell_type": "code",
   "execution_count": 24,
   "id": "f06a2145",
   "metadata": {},
   "outputs": [],
   "source": [
    "def start_at_gocue(rates, t = 500):\n",
    "    \n",
    "    days, conditions = rates.keys(), rates[0].keys()\n",
    "    \n",
    "    for d in days:\n",
    "        for c in conditions:\n",
    "            rates[d][c] = rates[d][c][:,:,t:]\n",
    "        \n",
    "    return rates"
   ]
  },
  {
   "cell_type": "code",
   "execution_count": 25,
   "id": "7cfc9f76",
   "metadata": {},
   "outputs": [],
   "source": [
    "rates = start_at_gocue(rates, t = 500)"
   ]
  },
  {
   "cell_type": "code",
   "execution_count": 27,
   "id": "ad5fed0a",
   "metadata": {},
   "outputs": [],
   "source": [
    "def fit_pca(rates, pca_n = 3):\n",
    "    \n",
    "    days, conditions = rates.keys(), rates[0].keys()\n",
    "    \n",
    "    pos = []\n",
    "    for d in days:\n",
    "        for c in conditions:\n",
    "            trials = rates[d][c]\n",
    "            for t in trials:\n",
    "                pos.append(t.T)\n",
    "                \n",
    "    # fit pca\n",
    "    pca = PCA(n_components=pca_n)\n",
    "    pca.fit(np.vstack(pos))\n",
    "    print(pca.explained_variance_ratio_)\n",
    "    \n",
    "    return pca"
   ]
  },
  {
   "cell_type": "code",
   "execution_count": 28,
   "id": "c8eb15b8",
   "metadata": {},
   "outputs": [
    {
     "name": "stdout",
     "output_type": "stream",
     "text": [
      "[0.31895829 0.08622739 0.07281958]\n"
     ]
    }
   ],
   "source": [
    "pca = fit_pca(rates)"
   ]
  },
  {
   "cell_type": "code",
   "execution_count": 51,
   "id": "1160898d",
   "metadata": {},
   "outputs": [],
   "source": [
    "def compute_velocity(rates, pca):\n",
    "    \n",
    "    days, conditions = rates.keys(), rates[0].keys()\n",
    "    \n",
    "    # create empty list of lists for each condition\n",
    "    pos = [[] for u in range(len(conditions))]\n",
    "    vel = [[] for u in range(len(conditions))]      \n",
    "      \n",
    "    # loop over each day\n",
    "    for d in days:\n",
    "     \n",
    "        # loop over conditions\n",
    "        for i, c in enumerate(conditions):\n",
    "            \n",
    "            trials = rates[d][c]   \n",
    "                       \n",
    "            # loop over all trials\n",
    "            for t in trials:\n",
    "                p = pca.transform(t.T)\n",
    "                v = np.diff(p, axis=0)\n",
    "                p = p[:-1,:]\n",
    "                \n",
    "                pos[i].append(p)\n",
    "                vel[i].append(v)\n",
    "    \n",
    "    return pos, vel"
   ]
  },
  {
   "cell_type": "code",
   "execution_count": 52,
   "id": "8d8ac13c",
   "metadata": {},
   "outputs": [],
   "source": [
    "pos, vel = compute_velocity(rates, pca)"
   ]
  },
  {
   "cell_type": "code",
   "execution_count": 53,
   "id": "a0cbc390",
   "metadata": {},
   "outputs": [],
   "source": [
    "def remove_outliers(pos, vel):\n",
    "        \n",
    "    for i, (p_c, v_c) in tqdm(enumerate(zip(pos, vel))): \n",
    "        for j, (p, v) in enumerate(zip(p_c, v_c)):\n",
    "    \n",
    "            p, v = _remove_outliers(p, v)\n",
    "            pos[i][j], vel[i][j] = p, v\n",
    "    \n",
    "    return pos, vel\n",
    "\n",
    "\n",
    "def _remove_outliers(pos, vel):\n",
    "    \"\"\"  function for removing outliers \"\"\"\n",
    "    clf = LocalOutlierFactor(n_neighbors=10)        \n",
    "    # remove positional outliers\n",
    "    outliers = clf.fit_predict(pos)\n",
    "    vel = vel[outliers==1]\n",
    "    pos = pos[outliers==1]            \n",
    "    # remove velocity outliers\n",
    "    outliers = clf.fit_predict(vel)\n",
    "    vel = vel[outliers==1]\n",
    "    pos = pos[outliers==1]         \n",
    "    return pos, vel"
   ]
  },
  {
   "cell_type": "code",
   "execution_count": 54,
   "id": "da8faaf4",
   "metadata": {},
   "outputs": [
    {
     "name": "stderr",
     "output_type": "stream",
     "text": [
      "5it [00:49,  9.96s/it]\n"
     ]
    },
    {
     "ename": "KeyboardInterrupt",
     "evalue": "",
     "output_type": "error",
     "traceback": [
      "\u001b[0;31m---------------------------------------------------------------------------\u001b[0m",
      "\u001b[0;31mKeyboardInterrupt\u001b[0m                         Traceback (most recent call last)",
      "Cell \u001b[0;32mIn[54], line 1\u001b[0m\n\u001b[0;32m----> 1\u001b[0m \u001b[43mremove_outliers\u001b[49m\u001b[43m(\u001b[49m\u001b[43mpos\u001b[49m\u001b[43m,\u001b[49m\u001b[43m \u001b[49m\u001b[43mvel\u001b[49m\u001b[43m)\u001b[49m\n",
      "Cell \u001b[0;32mIn[53], line 6\u001b[0m, in \u001b[0;36mremove_outliers\u001b[0;34m(pos, vel)\u001b[0m\n\u001b[1;32m      3\u001b[0m \u001b[38;5;28;01mfor\u001b[39;00m i, (p_c, v_c) \u001b[38;5;129;01min\u001b[39;00m tqdm(\u001b[38;5;28menumerate\u001b[39m(\u001b[38;5;28mzip\u001b[39m(pos, vel))): \n\u001b[1;32m      4\u001b[0m     \u001b[38;5;28;01mfor\u001b[39;00m j, (p, v) \u001b[38;5;129;01min\u001b[39;00m \u001b[38;5;28menumerate\u001b[39m(\u001b[38;5;28mzip\u001b[39m(p_c, v_c)):\n\u001b[0;32m----> 6\u001b[0m         p, v \u001b[38;5;241m=\u001b[39m \u001b[43m_remove_outliers\u001b[49m\u001b[43m(\u001b[49m\u001b[43mp\u001b[49m\u001b[43m,\u001b[49m\u001b[43m \u001b[49m\u001b[43mv\u001b[49m\u001b[43m)\u001b[49m\n\u001b[1;32m      7\u001b[0m         pos[i][j], vel[i][j] \u001b[38;5;241m=\u001b[39m p, v\n\u001b[1;32m      9\u001b[0m \u001b[38;5;28;01mreturn\u001b[39;00m pos, vel\n",
      "Cell \u001b[0;32mIn[53], line 20\u001b[0m, in \u001b[0;36m_remove_outliers\u001b[0;34m(pos, vel)\u001b[0m\n\u001b[1;32m     18\u001b[0m pos \u001b[38;5;241m=\u001b[39m pos[outliers\u001b[38;5;241m==\u001b[39m\u001b[38;5;241m1\u001b[39m]            \n\u001b[1;32m     19\u001b[0m \u001b[38;5;66;03m# remove velocity outliers\u001b[39;00m\n\u001b[0;32m---> 20\u001b[0m outliers \u001b[38;5;241m=\u001b[39m \u001b[43mclf\u001b[49m\u001b[38;5;241;43m.\u001b[39;49m\u001b[43mfit_predict\u001b[49m\u001b[43m(\u001b[49m\u001b[43mvel\u001b[49m\u001b[43m)\u001b[49m\n\u001b[1;32m     21\u001b[0m vel \u001b[38;5;241m=\u001b[39m vel[outliers\u001b[38;5;241m==\u001b[39m\u001b[38;5;241m1\u001b[39m]\n\u001b[1;32m     22\u001b[0m pos \u001b[38;5;241m=\u001b[39m pos[outliers\u001b[38;5;241m==\u001b[39m\u001b[38;5;241m1\u001b[39m]         \n",
      "File \u001b[0;32m/mnt/scratch/lts2/gosztolai/miniconda3/envs/MARBLE/lib/python3.9/site-packages/sklearn/neighbors/_lof.py:245\u001b[0m, in \u001b[0;36mLocalOutlierFactor.fit_predict\u001b[0;34m(self, X, y)\u001b[0m\n\u001b[1;32m    221\u001b[0m \u001b[38;5;124;03m\"\"\"Fit the model to the training set X and return the labels.\u001b[39;00m\n\u001b[1;32m    222\u001b[0m \n\u001b[1;32m    223\u001b[0m \u001b[38;5;124;03m**Not available for novelty detection (when novelty is set to True).**\u001b[39;00m\n\u001b[0;32m   (...)\u001b[0m\n\u001b[1;32m    239\u001b[0m \u001b[38;5;124;03m    Returns -1 for anomalies/outliers and 1 for inliers.\u001b[39;00m\n\u001b[1;32m    240\u001b[0m \u001b[38;5;124;03m\"\"\"\u001b[39;00m\n\u001b[1;32m    242\u001b[0m \u001b[38;5;66;03m# As fit_predict would be different from fit.predict, fit_predict is\u001b[39;00m\n\u001b[1;32m    243\u001b[0m \u001b[38;5;66;03m# only available for outlier detection (novelty=False)\u001b[39;00m\n\u001b[0;32m--> 245\u001b[0m \u001b[38;5;28;01mreturn\u001b[39;00m \u001b[38;5;28;43mself\u001b[39;49m\u001b[38;5;241;43m.\u001b[39;49m\u001b[43mfit\u001b[49m\u001b[43m(\u001b[49m\u001b[43mX\u001b[49m\u001b[43m)\u001b[49m\u001b[38;5;241m.\u001b[39m_predict()\n",
      "File \u001b[0;32m/mnt/scratch/lts2/gosztolai/miniconda3/envs/MARBLE/lib/python3.9/site-packages/sklearn/neighbors/_lof.py:282\u001b[0m, in \u001b[0;36mLocalOutlierFactor.fit\u001b[0;34m(self, X, y)\u001b[0m\n\u001b[1;32m    274\u001b[0m     warnings\u001b[38;5;241m.\u001b[39mwarn(\n\u001b[1;32m    275\u001b[0m         \u001b[38;5;124m\"\u001b[39m\u001b[38;5;124mn_neighbors (\u001b[39m\u001b[38;5;132;01m%s\u001b[39;00m\u001b[38;5;124m) is greater than the \u001b[39m\u001b[38;5;124m\"\u001b[39m\n\u001b[1;32m    276\u001b[0m         \u001b[38;5;124m\"\u001b[39m\u001b[38;5;124mtotal number of samples (\u001b[39m\u001b[38;5;132;01m%s\u001b[39;00m\u001b[38;5;124m). n_neighbors \u001b[39m\u001b[38;5;124m\"\u001b[39m\n\u001b[1;32m    277\u001b[0m         \u001b[38;5;124m\"\u001b[39m\u001b[38;5;124mwill be set to (n_samples - 1) for estimation.\u001b[39m\u001b[38;5;124m\"\u001b[39m\n\u001b[1;32m    278\u001b[0m         \u001b[38;5;241m%\u001b[39m (\u001b[38;5;28mself\u001b[39m\u001b[38;5;241m.\u001b[39mn_neighbors, n_samples)\n\u001b[1;32m    279\u001b[0m     )\n\u001b[1;32m    280\u001b[0m \u001b[38;5;28mself\u001b[39m\u001b[38;5;241m.\u001b[39mn_neighbors_ \u001b[38;5;241m=\u001b[39m \u001b[38;5;28mmax\u001b[39m(\u001b[38;5;241m1\u001b[39m, \u001b[38;5;28mmin\u001b[39m(\u001b[38;5;28mself\u001b[39m\u001b[38;5;241m.\u001b[39mn_neighbors, n_samples \u001b[38;5;241m-\u001b[39m \u001b[38;5;241m1\u001b[39m))\n\u001b[0;32m--> 282\u001b[0m \u001b[38;5;28mself\u001b[39m\u001b[38;5;241m.\u001b[39m_distances_fit_X_, _neighbors_indices_fit_X_ \u001b[38;5;241m=\u001b[39m \u001b[38;5;28;43mself\u001b[39;49m\u001b[38;5;241;43m.\u001b[39;49m\u001b[43mkneighbors\u001b[49m\u001b[43m(\u001b[49m\n\u001b[1;32m    283\u001b[0m \u001b[43m    \u001b[49m\u001b[43mn_neighbors\u001b[49m\u001b[38;5;241;43m=\u001b[39;49m\u001b[38;5;28;43mself\u001b[39;49m\u001b[38;5;241;43m.\u001b[39;49m\u001b[43mn_neighbors_\u001b[49m\n\u001b[1;32m    284\u001b[0m \u001b[43m\u001b[49m\u001b[43m)\u001b[49m\n\u001b[1;32m    286\u001b[0m \u001b[38;5;28mself\u001b[39m\u001b[38;5;241m.\u001b[39m_lrd \u001b[38;5;241m=\u001b[39m \u001b[38;5;28mself\u001b[39m\u001b[38;5;241m.\u001b[39m_local_reachability_density(\n\u001b[1;32m    287\u001b[0m     \u001b[38;5;28mself\u001b[39m\u001b[38;5;241m.\u001b[39m_distances_fit_X_, _neighbors_indices_fit_X_\n\u001b[1;32m    288\u001b[0m )\n\u001b[1;32m    290\u001b[0m \u001b[38;5;66;03m# Compute lof score over training samples to define offset_:\u001b[39;00m\n",
      "File \u001b[0;32m/mnt/scratch/lts2/gosztolai/miniconda3/envs/MARBLE/lib/python3.9/site-packages/sklearn/neighbors/_base.py:814\u001b[0m, in \u001b[0;36mKNeighborsMixin.kneighbors\u001b[0;34m(self, X, n_neighbors, return_distance)\u001b[0m\n\u001b[1;32m    808\u001b[0m     \u001b[38;5;28;01mif\u001b[39;00m issparse(X):\n\u001b[1;32m    809\u001b[0m         \u001b[38;5;28;01mraise\u001b[39;00m \u001b[38;5;167;01mValueError\u001b[39;00m(\n\u001b[1;32m    810\u001b[0m             \u001b[38;5;124m\"\u001b[39m\u001b[38;5;132;01m%s\u001b[39;00m\u001b[38;5;124m does not work with sparse matrices. Densify the data, \u001b[39m\u001b[38;5;124m\"\u001b[39m\n\u001b[1;32m    811\u001b[0m             \u001b[38;5;124m\"\u001b[39m\u001b[38;5;124mor set algorithm=\u001b[39m\u001b[38;5;124m'\u001b[39m\u001b[38;5;124mbrute\u001b[39m\u001b[38;5;124m'\u001b[39m\u001b[38;5;124m\"\u001b[39m\n\u001b[1;32m    812\u001b[0m             \u001b[38;5;241m%\u001b[39m \u001b[38;5;28mself\u001b[39m\u001b[38;5;241m.\u001b[39m_fit_method\n\u001b[1;32m    813\u001b[0m         )\n\u001b[0;32m--> 814\u001b[0m     chunked_results \u001b[38;5;241m=\u001b[39m \u001b[43mParallel\u001b[49m\u001b[43m(\u001b[49m\u001b[43mn_jobs\u001b[49m\u001b[43m,\u001b[49m\u001b[43m \u001b[49m\u001b[43mprefer\u001b[49m\u001b[38;5;241;43m=\u001b[39;49m\u001b[38;5;124;43m\"\u001b[39;49m\u001b[38;5;124;43mthreads\u001b[39;49m\u001b[38;5;124;43m\"\u001b[39;49m\u001b[43m)\u001b[49m(\n\u001b[1;32m    815\u001b[0m         delayed(_tree_query_parallel_helper)(\n\u001b[1;32m    816\u001b[0m             \u001b[38;5;28mself\u001b[39m\u001b[38;5;241m.\u001b[39m_tree, X[s], n_neighbors, return_distance\n\u001b[1;32m    817\u001b[0m         )\n\u001b[1;32m    818\u001b[0m         \u001b[38;5;28;01mfor\u001b[39;00m s \u001b[38;5;129;01min\u001b[39;00m gen_even_slices(X\u001b[38;5;241m.\u001b[39mshape[\u001b[38;5;241m0\u001b[39m], n_jobs)\n\u001b[1;32m    819\u001b[0m     )\n\u001b[1;32m    820\u001b[0m \u001b[38;5;28;01melse\u001b[39;00m:\n\u001b[1;32m    821\u001b[0m     \u001b[38;5;28;01mraise\u001b[39;00m \u001b[38;5;167;01mValueError\u001b[39;00m(\u001b[38;5;124m\"\u001b[39m\u001b[38;5;124minternal: _fit_method not recognized\u001b[39m\u001b[38;5;124m\"\u001b[39m)\n",
      "File \u001b[0;32m/mnt/scratch/lts2/gosztolai/miniconda3/envs/MARBLE/lib/python3.9/site-packages/joblib/parallel.py:643\u001b[0m, in \u001b[0;36mParallel.__init__\u001b[0;34m(self, n_jobs, backend, verbose, timeout, pre_dispatch, batch_size, temp_folder, max_nbytes, mmap_mode, prefer, require)\u001b[0m\n\u001b[1;32m    639\u001b[0m \u001b[38;5;28;01mdef\u001b[39;00m \u001b[38;5;21m__init__\u001b[39m(\u001b[38;5;28mself\u001b[39m, n_jobs\u001b[38;5;241m=\u001b[39m\u001b[38;5;28;01mNone\u001b[39;00m, backend\u001b[38;5;241m=\u001b[39m\u001b[38;5;28;01mNone\u001b[39;00m, verbose\u001b[38;5;241m=\u001b[39m\u001b[38;5;241m0\u001b[39m, timeout\u001b[38;5;241m=\u001b[39m\u001b[38;5;28;01mNone\u001b[39;00m,\n\u001b[1;32m    640\u001b[0m              pre_dispatch\u001b[38;5;241m=\u001b[39m\u001b[38;5;124m'\u001b[39m\u001b[38;5;124m2 * n_jobs\u001b[39m\u001b[38;5;124m'\u001b[39m, batch_size\u001b[38;5;241m=\u001b[39m\u001b[38;5;124m'\u001b[39m\u001b[38;5;124mauto\u001b[39m\u001b[38;5;124m'\u001b[39m,\n\u001b[1;32m    641\u001b[0m              temp_folder\u001b[38;5;241m=\u001b[39m\u001b[38;5;28;01mNone\u001b[39;00m, max_nbytes\u001b[38;5;241m=\u001b[39m\u001b[38;5;124m'\u001b[39m\u001b[38;5;124m1M\u001b[39m\u001b[38;5;124m'\u001b[39m, mmap_mode\u001b[38;5;241m=\u001b[39m\u001b[38;5;124m'\u001b[39m\u001b[38;5;124mr\u001b[39m\u001b[38;5;124m'\u001b[39m,\n\u001b[1;32m    642\u001b[0m              prefer\u001b[38;5;241m=\u001b[39m\u001b[38;5;28;01mNone\u001b[39;00m, require\u001b[38;5;241m=\u001b[39m\u001b[38;5;28;01mNone\u001b[39;00m):\n\u001b[0;32m--> 643\u001b[0m     active_backend, context_n_jobs \u001b[38;5;241m=\u001b[39m \u001b[43mget_active_backend\u001b[49m\u001b[43m(\u001b[49m\n\u001b[1;32m    644\u001b[0m \u001b[43m        \u001b[49m\u001b[43mprefer\u001b[49m\u001b[38;5;241;43m=\u001b[39;49m\u001b[43mprefer\u001b[49m\u001b[43m,\u001b[49m\u001b[43m \u001b[49m\u001b[43mrequire\u001b[49m\u001b[38;5;241;43m=\u001b[39;49m\u001b[43mrequire\u001b[49m\u001b[43m,\u001b[49m\u001b[43m \u001b[49m\u001b[43mverbose\u001b[49m\u001b[38;5;241;43m=\u001b[39;49m\u001b[43mverbose\u001b[49m\u001b[43m)\u001b[49m\n\u001b[1;32m    645\u001b[0m     nesting_level \u001b[38;5;241m=\u001b[39m active_backend\u001b[38;5;241m.\u001b[39mnesting_level\n\u001b[1;32m    646\u001b[0m     \u001b[38;5;28;01mif\u001b[39;00m backend \u001b[38;5;129;01mis\u001b[39;00m \u001b[38;5;28;01mNone\u001b[39;00m \u001b[38;5;129;01mand\u001b[39;00m n_jobs \u001b[38;5;129;01mis\u001b[39;00m \u001b[38;5;28;01mNone\u001b[39;00m:\n\u001b[1;32m    647\u001b[0m         \u001b[38;5;66;03m# If we are under a parallel_backend context manager, look up\u001b[39;00m\n\u001b[1;32m    648\u001b[0m         \u001b[38;5;66;03m# the default number of jobs and use that instead:\u001b[39;00m\n",
      "File \u001b[0;32m/mnt/scratch/lts2/gosztolai/miniconda3/envs/MARBLE/lib/python3.9/site-packages/joblib/parallel.py:113\u001b[0m, in \u001b[0;36mget_active_backend\u001b[0;34m(prefer, require, verbose)\u001b[0m\n\u001b[1;32m    111\u001b[0m backend \u001b[38;5;241m=\u001b[39m BACKENDS[DEFAULT_BACKEND](nesting_level\u001b[38;5;241m=\u001b[39m\u001b[38;5;241m0\u001b[39m)\n\u001b[1;32m    112\u001b[0m supports_sharedmem \u001b[38;5;241m=\u001b[39m \u001b[38;5;28mgetattr\u001b[39m(backend, \u001b[38;5;124m'\u001b[39m\u001b[38;5;124msupports_sharedmem\u001b[39m\u001b[38;5;124m'\u001b[39m, \u001b[38;5;28;01mFalse\u001b[39;00m)\n\u001b[0;32m--> 113\u001b[0m uses_threads \u001b[38;5;241m=\u001b[39m \u001b[38;5;28;43mgetattr\u001b[39;49m\u001b[43m(\u001b[49m\u001b[43mbackend\u001b[49m\u001b[43m,\u001b[49m\u001b[43m \u001b[49m\u001b[38;5;124;43m'\u001b[39;49m\u001b[38;5;124;43muses_threads\u001b[39;49m\u001b[38;5;124;43m'\u001b[39;49m\u001b[43m,\u001b[49m\u001b[43m \u001b[49m\u001b[38;5;28;43;01mFalse\u001b[39;49;00m\u001b[43m)\u001b[49m\n\u001b[1;32m    114\u001b[0m \u001b[38;5;28;01mif\u001b[39;00m ((require \u001b[38;5;241m==\u001b[39m \u001b[38;5;124m'\u001b[39m\u001b[38;5;124msharedmem\u001b[39m\u001b[38;5;124m'\u001b[39m \u001b[38;5;129;01mand\u001b[39;00m \u001b[38;5;129;01mnot\u001b[39;00m supports_sharedmem) \u001b[38;5;129;01mor\u001b[39;00m\n\u001b[1;32m    115\u001b[0m         (prefer \u001b[38;5;241m==\u001b[39m \u001b[38;5;124m'\u001b[39m\u001b[38;5;124mthreads\u001b[39m\u001b[38;5;124m'\u001b[39m \u001b[38;5;129;01mand\u001b[39;00m \u001b[38;5;129;01mnot\u001b[39;00m uses_threads)):\n\u001b[1;32m    116\u001b[0m     \u001b[38;5;66;03m# Make sure the selected default backend match the soft hints and\u001b[39;00m\n\u001b[1;32m    117\u001b[0m     \u001b[38;5;66;03m# hard constraints:\u001b[39;00m\n\u001b[1;32m    118\u001b[0m     backend \u001b[38;5;241m=\u001b[39m BACKENDS[DEFAULT_THREAD_BACKEND](nesting_level\u001b[38;5;241m=\u001b[39m\u001b[38;5;241m0\u001b[39m)\n",
      "\u001b[0;31mKeyboardInterrupt\u001b[0m: "
     ]
    }
   ],
   "source": [
    "remove_outliers(pos, vel)"
   ]
  },
  {
   "cell_type": "code",
   "execution_count": 8,
   "id": "77c40e24",
   "metadata": {},
   "outputs": [
    {
     "name": "stderr",
     "output_type": "stream",
     "text": [
      "100%|███████████████████████████████████████████████████████████| 44/44 [00:00<00:00, 16749.81it/s]\n"
     ]
    },
    {
     "name": "stdout",
     "output_type": "stream",
     "text": [
      "[0.29664557 0.10035803 0.0684394 ]\n"
     ]
    }
   ],
   "source": [
    "pca = main()"
   ]
  },
  {
   "cell_type": "code",
   "execution_count": 9,
   "id": "14579122",
   "metadata": {},
   "outputs": [],
   "source": [
    "def main(pca):        \n",
    "    # create empty list of lists for each condition\n",
    "    pos = [[] for u in range(len(conditions))]\n",
    "    vel = [[] for u in range(len(conditions))]      \n",
    "      \n",
    "    # loop over each day\n",
    "    for day in tqdm(days):\n",
    "     \n",
    "        # loop over conditions\n",
    "        for c, cond in enumerate(conditions):\n",
    "            \n",
    "            # go cue at 500ms \n",
    "            data = rates[day][cond][:,:,500:]           \n",
    "                       \n",
    "            # loop over all trials\n",
    "            for t in range(data.shape[0]):\n",
    "                \n",
    "                # extra trial\n",
    "                trial = data[t,:,:]\n",
    "                \n",
    "                # transform to time x channels\n",
    "                trial = trial.T\n",
    "                \n",
    "                # embed in fitted pca space\n",
    "                trial = pca.transform(trial)\n",
    "                \n",
    "                # take all points except last\n",
    "                pos[c].append(trial[:-1,:])\n",
    "                \n",
    "                # extract vectors between coordinates\n",
    "                vel[c].append(get_vector_array(trial))\n",
    "                \n",
    "        # remove outliers\n",
    "        if rm_outliers:\n",
    "            pos[c], vel[c] = remove_outliers(pos[c], vel[c])    \n",
    "                        \n",
    "    # stack the trials within each condition\n",
    "    pos = [np.vstack(u) for u in pos] # trials x time x channels\n",
    "    vel = [np.vstack(u) for u in vel] # trials x time x channels\n",
    "    \n",
    "#with open('../outputs/spiking_data/dataobject.pkl', 'wb') as handle:\n",
    "#    pickle.dump([pos, vel], handle, protocol=pickle.HIGHEST_PROTOCOL)\n",
    "    "
   ]
  },
  {
   "cell_type": "code",
   "execution_count": null,
   "id": "e3d1b589",
   "metadata": {},
   "outputs": [],
   "source": [
    "main()"
   ]
  }
 ],
 "metadata": {
  "kernelspec": {
   "display_name": "Python 3 (ipykernel)",
   "language": "python",
   "name": "python3"
  },
  "language_info": {
   "codemirror_mode": {
    "name": "ipython",
    "version": 3
   },
   "file_extension": ".py",
   "mimetype": "text/x-python",
   "name": "python",
   "nbconvert_exporter": "python",
   "pygments_lexer": "ipython3",
   "version": "3.9.13"
  }
 },
 "nbformat": 4,
 "nbformat_minor": 5
}
