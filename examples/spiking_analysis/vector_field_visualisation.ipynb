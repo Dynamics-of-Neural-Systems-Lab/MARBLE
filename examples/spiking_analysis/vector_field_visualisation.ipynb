{
 "cells": [
  {
   "cell_type": "code",
   "execution_count": 1,
   "id": "32aa5e18",
   "metadata": {},
   "outputs": [],
   "source": [
    "%load_ext autoreload\n",
    "%autoreload 2\n",
    "import pickle\n",
    "from MARBLE import utils, plotting, net, preprocessing, postprocessing, geometry\n",
    "\n",
    "import matplotlib.pyplot as plt"
   ]
  },
  {
   "cell_type": "markdown",
   "id": "af697c21",
   "metadata": {},
   "source": [
    "# Visualise a single condition in a single session"
   ]
  },
  {
   "cell_type": "code",
   "execution_count": 18,
   "id": "68c987c1",
   "metadata": {},
   "outputs": [],
   "source": [
    "#pos, vel, time, cond_labels = pickle.load(open('../outputs/spiking_data/raw_data_session_1.pkl','rb'))\n",
    "\n",
    "data = []\n",
    "for i in range(2):\n",
    "    data.append(pickle.load(open('../outputs/spiking_data/data_object_session_{}.pkl'.format(i),'rb')))"
   ]
  },
  {
   "cell_type": "code",
   "execution_count": 3,
   "id": "0f23017e",
   "metadata": {},
   "outputs": [
    {
     "name": "stdout",
     "output_type": "stream",
     "text": [
      "---- Embedding dimension: 5\n",
      "---- Signal dimension: 5\n",
      "\n",
      "Vector computations are disabled\n",
      "\n",
      "---- Computing kernels ... Done \n",
      "---- Computing eigendecomposition ... Done \n"
     ]
    }
   ],
   "source": [
    "from torch_geometric.data import Batch\n",
    "from torch_geometric.transforms import RandomNodeSplit\n",
    "batch = Batch.from_data_list(data, exclude_keys=['L','gauges','dist','gamma', 'manifold', 'emb','clusters'])\n",
    "split = RandomNodeSplit(split='train_rest', num_val=0.1, num_test=0.1)\n",
    "split(batch)\n",
    "    \n",
    "batch = preprocessing(batch, vector=False, compute_laplacian=False, n_evec=128)"
   ]
  },
  {
   "cell_type": "markdown",
   "id": "2e333c65",
   "metadata": {},
   "source": [
    "# Train model on all conditions and sessions"
   ]
  },
  {
   "cell_type": "code",
   "execution_count": 5,
   "id": "91607702",
   "metadata": {},
   "outputs": [
    {
     "name": "stdout",
     "output_type": "stream",
     "text": [
      "\n",
      "---- Settings: \n",
      "\n",
      "epochs : 150\n",
      "order : 2\n",
      "hidden_channels : 32\n",
      "out_channels : 8\n",
      "inner_product_features : False\n",
      "diffusion : False\n",
      "batch_size : 64\n",
      "lr : 0.01\n",
      "momentum : 0.9\n",
      "include_positions : False\n",
      "frac_sampled_nb : -1\n",
      "dropout : 0.0\n",
      "n_lin_layers : 2\n",
      "bias : True\n",
      "vec_norm : False\n",
      "batch_norm : None\n",
      "seed : 0\n",
      "processes : 1\n",
      "dim_signal : 5\n",
      "dim_emb : 5\n",
      "n_sampled_nb : -1\n",
      "\n",
      "---- Number of features to pass to the MLP:  155\n",
      "---- Total number of parameters:  5257\n",
      "\n",
      "---- Training network ...\n",
      "\n",
      "Epoch: 1, Training loss: 1.3827, Validation loss: 1.3802, lr: 0.0100 *\n",
      "Epoch: 2, Training loss: 1.3642, Validation loss: 1.3233, lr: 0.0100 *\n",
      "Epoch: 3, Training loss: 1.2990, Validation loss: 1.2707, lr: 0.0100 *\n",
      "Epoch: 4, Training loss: 1.2504, Validation loss: 1.2671, lr: 0.0100 *\n",
      "Epoch: 5, Training loss: 1.2310, Validation loss: 1.2468, lr: 0.0100 *\n",
      "Epoch: 6, Training loss: 1.2060, Validation loss: 1.2173, lr: 0.0100 *\n",
      "Epoch: 7, Training loss: 1.2044, Validation loss: 1.2218, lr: 0.0100\n",
      "Epoch: 8, Training loss: 1.1894, Validation loss: 1.2143, lr: 0.0100 *\n",
      "Epoch: 9, Training loss: 1.1788, Validation loss: 1.1919, lr: 0.0100 *\n",
      "Epoch: 10, Training loss: 1.1615, Validation loss: 1.1744, lr: 0.0100 *\n",
      "Epoch: 11, Training loss: 1.1564, Validation loss: 1.1692, lr: 0.0100 *\n",
      "Epoch: 12, Training loss: 1.1404, Validation loss: 1.1717, lr: 0.0100\n",
      "Epoch: 13, Training loss: 1.1379, Validation loss: 1.1610, lr: 0.0100 *\n",
      "Epoch: 14, Training loss: 1.1347, Validation loss: 1.1610, lr: 0.0100\n",
      "Epoch: 15, Training loss: 1.1342, Validation loss: 1.1335, lr: 0.0100 *\n",
      "Epoch: 16, Training loss: 1.1171, Validation loss: 1.1472, lr: 0.0100\n",
      "Epoch: 17, Training loss: 1.1144, Validation loss: 1.1605, lr: 0.0100\n",
      "Epoch: 18, Training loss: 1.1147, Validation loss: 1.1476, lr: 0.0100\n",
      "Epoch: 19, Training loss: 1.1127, Validation loss: 1.1138, lr: 0.0100 *\n",
      "Epoch: 20, Training loss: 1.1124, Validation loss: 1.1158, lr: 0.0100\n",
      "Epoch: 21, Training loss: 1.1161, Validation loss: 1.1225, lr: 0.0100\n",
      "Epoch: 22, Training loss: 1.1024, Validation loss: 1.1036, lr: 0.0100 *\n",
      "Epoch: 23, Training loss: 1.1080, Validation loss: 1.1161, lr: 0.0100\n",
      "Epoch: 24, Training loss: 1.1014, Validation loss: 1.1292, lr: 0.0100\n",
      "Epoch: 25, Training loss: 1.0929, Validation loss: 1.1207, lr: 0.0100\n",
      "Epoch: 26, Training loss: 1.1027, Validation loss: 1.0939, lr: 0.0100 *\n",
      "Epoch: 27, Training loss: 1.0942, Validation loss: 1.1104, lr: 0.0100\n",
      "Epoch: 28, Training loss: 1.1022, Validation loss: 1.0975, lr: 0.0100\n",
      "Epoch: 29, Training loss: 1.0931, Validation loss: 1.1155, lr: 0.0100\n",
      "Epoch: 30, Training loss: 1.0933, Validation loss: 1.1162, lr: 0.0100\n",
      "Epoch: 31, Training loss: 1.0904, Validation loss: 1.0987, lr: 0.0100\n",
      "Epoch: 32, Training loss: 1.0853, Validation loss: 1.0984, lr: 0.0100\n",
      "Epoch: 33, Training loss: 1.0826, Validation loss: 1.0913, lr: 0.0100 *\n",
      "Epoch: 34, Training loss: 1.0801, Validation loss: 1.0909, lr: 0.0100 *\n",
      "Epoch: 35, Training loss: 1.0837, Validation loss: 1.1233, lr: 0.0100\n",
      "Epoch: 36, Training loss: 1.0792, Validation loss: 1.1108, lr: 0.0100\n",
      "Epoch: 37, Training loss: 1.0862, Validation loss: 1.1067, lr: 0.0100\n",
      "Epoch: 38, Training loss: 1.0755, Validation loss: 1.1058, lr: 0.0100\n",
      "Epoch: 39, Training loss: 1.0732, Validation loss: 1.1050, lr: 0.0100\n",
      "Epoch: 40, Training loss: 1.0816, Validation loss: 1.1127, lr: 0.0100\n",
      "Epoch: 41, Training loss: 1.0848, Validation loss: 1.1353, lr: 0.0100\n",
      "Epoch: 42, Training loss: 1.0802, Validation loss: 1.1056, lr: 0.0100\n",
      "Epoch: 43, Training loss: 1.0696, Validation loss: 1.0805, lr: 0.0100 *\n",
      "Epoch: 44, Training loss: 1.0764, Validation loss: 1.0763, lr: 0.0100 *\n",
      "Epoch: 45, Training loss: 1.0739, Validation loss: 1.1054, lr: 0.0100\n",
      "Epoch: 46, Training loss: 1.0799, Validation loss: 1.1040, lr: 0.0100\n",
      "Epoch: 47, Training loss: 1.0665, Validation loss: 1.0898, lr: 0.0100\n",
      "Epoch: 48, Training loss: 1.0708, Validation loss: 1.0899, lr: 0.0100\n",
      "Epoch: 49, Training loss: 1.0758, Validation loss: 1.0702, lr: 0.0100 *\n",
      "Epoch: 50, Training loss: 1.0675, Validation loss: 1.1017, lr: 0.0100\n",
      "Epoch: 51, Training loss: 1.0748, Validation loss: 1.1145, lr: 0.0100\n",
      "Epoch: 52, Training loss: 1.0729, Validation loss: 1.1030, lr: 0.0100\n",
      "Epoch: 53, Training loss: 1.0693, Validation loss: 1.0784, lr: 0.0100\n",
      "Epoch: 54, Training loss: 1.0834, Validation loss: 1.0936, lr: 0.0100\n",
      "Epoch: 55, Training loss: 1.0707, Validation loss: 1.0687, lr: 0.0100 *\n",
      "Epoch: 56, Training loss: 1.0673, Validation loss: 1.0894, lr: 0.0100\n",
      "Epoch: 57, Training loss: 1.0681, Validation loss: 1.1042, lr: 0.0100\n",
      "Epoch: 58, Training loss: 1.0659, Validation loss: 1.0831, lr: 0.0100\n",
      "Epoch: 59, Training loss: 1.0689, Validation loss: 1.0967, lr: 0.0100\n",
      "Epoch: 60, Training loss: 1.0734, Validation loss: 1.1258, lr: 0.0100\n",
      "Epoch: 61, Training loss: 1.0647, Validation loss: 1.1106, lr: 0.0100\n",
      "Epoch: 62, Training loss: 1.0692, Validation loss: 1.0688, lr: 0.0100\n",
      "Epoch: 63, Training loss: 1.0741, Validation loss: 1.0826, lr: 0.0100\n",
      "Epoch: 64, Training loss: 1.0695, Validation loss: 1.0918, lr: 0.0100\n",
      "Epoch: 65, Training loss: 1.0666, Validation loss: 1.0639, lr: 0.0100 *\n",
      "Epoch: 66, Training loss: 1.0690, Validation loss: 1.0803, lr: 0.0100\n",
      "Epoch: 67, Training loss: 1.0718, Validation loss: 1.0993, lr: 0.0100\n",
      "Epoch: 68, Training loss: 1.0668, Validation loss: 1.0833, lr: 0.0100\n",
      "Epoch: 69, Training loss: 1.0637, Validation loss: 1.1162, lr: 0.0100\n",
      "Epoch: 70, Training loss: 1.0668, Validation loss: 1.0979, lr: 0.0100\n",
      "Epoch: 71, Training loss: 1.0683, Validation loss: 1.0907, lr: 0.0100\n",
      "Epoch: 72, Training loss: 1.0639, Validation loss: 1.0868, lr: 0.0100\n",
      "Epoch: 73, Training loss: 1.0687, Validation loss: 1.0726, lr: 0.0100\n",
      "Epoch: 74, Training loss: 1.0634, Validation loss: 1.1004, lr: 0.0100\n",
      "Epoch: 75, Training loss: 1.0562, Validation loss: 1.0727, lr: 0.0100\n",
      "Epoch: 76, Training loss: 1.0658, Validation loss: 1.0892, lr: 0.0100\n",
      "Epoch: 77, Training loss: 1.0628, Validation loss: 1.0880, lr: 0.0100\n",
      "Epoch: 78, Training loss: 1.0579, Validation loss: 1.0856, lr: 0.0100\n",
      "Epoch: 79, Training loss: 1.0673, Validation loss: 1.0869, lr: 0.0100\n",
      "Epoch: 80, Training loss: 1.0590, Validation loss: 1.0993, lr: 0.0100\n",
      "Epoch: 81, Training loss: 1.0643, Validation loss: 1.0824, lr: 0.0100\n",
      "Epoch: 82, Training loss: 1.0657, Validation loss: 1.0855, lr: 0.0100\n",
      "Epoch: 83, Training loss: 1.0641, Validation loss: 1.0884, lr: 0.0100\n",
      "Epoch: 84, Training loss: 1.0597, Validation loss: 1.0812, lr: 0.0100\n",
      "Epoch: 85, Training loss: 1.0582, Validation loss: 1.0909, lr: 0.0100\n",
      "Epoch: 86, Training loss: 1.0621, Validation loss: 1.0873, lr: 0.0010\n",
      "Epoch: 87, Training loss: 1.0573, Validation loss: 1.0850, lr: 0.0010\n",
      "Epoch: 88, Training loss: 1.0551, Validation loss: 1.0615, lr: 0.0010 *\n",
      "Epoch: 89, Training loss: 1.0522, Validation loss: 1.0831, lr: 0.0010\n",
      "Epoch: 90, Training loss: 1.0641, Validation loss: 1.0779, lr: 0.0010\n",
      "Epoch: 91, Training loss: 1.0488, Validation loss: 1.0482, lr: 0.0010 *\n",
      "Epoch: 92, Training loss: 1.0439, Validation loss: 1.0773, lr: 0.0010\n",
      "Epoch: 93, Training loss: 1.0554, Validation loss: 1.0749, lr: 0.0010\n",
      "Epoch: 94, Training loss: 1.0700, Validation loss: 1.0345, lr: 0.0010 *\n",
      "Epoch: 95, Training loss: 1.0513, Validation loss: 1.0680, lr: 0.0010\n",
      "Epoch: 96, Training loss: 1.0553, Validation loss: 1.0879, lr: 0.0010\n",
      "Epoch: 97, Training loss: 1.0474, Validation loss: 1.0376, lr: 0.0010\n",
      "Epoch: 98, Training loss: 1.0459, Validation loss: 1.0723, lr: 0.0010\n",
      "Epoch: 99, Training loss: 1.0512, Validation loss: 1.0798, lr: 0.0010\n",
      "Epoch: 100, Training loss: 1.0520, Validation loss: 1.0601, lr: 0.0010\n",
      "Epoch: 101, Training loss: 1.0496, Validation loss: 1.0698, lr: 0.0010\n",
      "Epoch: 102, Training loss: 1.0464, Validation loss: 1.0386, lr: 0.0010\n",
      "Epoch: 103, Training loss: 1.0462, Validation loss: 1.1220, lr: 0.0001\n",
      "Epoch: 104, Training loss: 1.0473, Validation loss: 1.0683, lr: 0.0001\n",
      "Epoch: 105, Training loss: 1.0462, Validation loss: 1.0900, lr: 0.0001\n",
      "Epoch: 106, Training loss: 1.0509, Validation loss: 1.0647, lr: 0.0001\n",
      "Epoch: 107, Training loss: 1.0531, Validation loss: 1.0577, lr: 0.0001\n",
      "Epoch: 108, Training loss: 1.0448, Validation loss: 1.0605, lr: 0.0001\n",
      "Epoch: 109, Training loss: 1.0573, Validation loss: 1.0491, lr: 0.0001\n",
      "Epoch: 110, Training loss: 1.0417, Validation loss: 1.0962, lr: 0.0001\n",
      "Epoch: 111, Training loss: 1.0528, Validation loss: 1.0699, lr: 0.0001\n",
      "Epoch: 112, Training loss: 1.0472, Validation loss: 1.0795, lr: 0.0001\n",
      "Epoch: 113, Training loss: 1.0479, Validation loss: 1.0538, lr: 0.0001\n",
      "Epoch: 114, Training loss: 1.0402, Validation loss: 1.0580, lr: 0.0001\n",
      "Epoch: 115, Training loss: 1.0533, Validation loss: 1.0743, lr: 0.0001\n",
      "Epoch: 116, Training loss: 1.0552, Validation loss: 1.0673, lr: 0.0001\n",
      "Epoch: 117, Training loss: 1.0395, Validation loss: 1.0804, lr: 0.0001\n",
      "Epoch: 118, Training loss: 1.0498, Validation loss: 1.0693, lr: 0.0001\n",
      "Epoch: 119, Training loss: 1.0446, Validation loss: 1.0702, lr: 0.0001\n",
      "Epoch: 120, Training loss: 1.0549, Validation loss: 1.0692, lr: 0.0001\n",
      "Epoch: 121, Training loss: 1.0438, Validation loss: 1.0712, lr: 0.0001\n",
      "Epoch: 122, Training loss: 1.0492, Validation loss: 1.0788, lr: 0.0001\n",
      "Epoch: 123, Training loss: 1.0559, Validation loss: 1.0526, lr: 0.0001\n",
      "Epoch: 124, Training loss: 1.0531, Validation loss: 1.0631, lr: 0.0001\n",
      "Epoch: 125, Training loss: 1.0470, Validation loss: 1.1054, lr: 0.0001\n",
      "Epoch: 126, Training loss: 1.0395, Validation loss: 1.0595, lr: 0.0001\n",
      "Epoch: 127, Training loss: 1.0447, Validation loss: 1.0816, lr: 0.0001\n",
      "Epoch: 128, Training loss: 1.0486, Validation loss: 1.0913, lr: 0.0000\n",
      "Epoch: 129, Training loss: 1.0517, Validation loss: 1.0755, lr: 0.0000\n",
      "Epoch: 130, Training loss: 1.0494, Validation loss: 1.0743, lr: 0.0000\n",
      "Epoch: 131, Training loss: 1.0444, Validation loss: 1.0811, lr: 0.0000\n",
      "Epoch: 132, Training loss: 1.0483, Validation loss: 1.0615, lr: 0.0000\n",
      "Epoch: 133, Training loss: 1.0455, Validation loss: 1.0849, lr: 0.0000\n",
      "Epoch: 134, Training loss: 1.0506, Validation loss: 1.0679, lr: 0.0000\n",
      "Epoch: 135, Training loss: 1.0472, Validation loss: 1.0748, lr: 0.0000\n",
      "Epoch: 136, Training loss: 1.0468, Validation loss: 1.0905, lr: 0.0000\n",
      "Epoch: 137, Training loss: 1.0491, Validation loss: 1.0673, lr: 0.0000\n",
      "Epoch: 138, Training loss: 1.0540, Validation loss: 1.0873, lr: 0.0000\n",
      "Epoch: 139, Training loss: 1.0447, Validation loss: 1.0948, lr: 0.0000\n",
      "Epoch: 140, Training loss: 1.0445, Validation loss: 1.0660, lr: 0.0000\n",
      "Epoch: 141, Training loss: 1.0476, Validation loss: 1.0977, lr: 0.0000\n",
      "Epoch: 142, Training loss: 1.0458, Validation loss: 1.0710, lr: 0.0000\n",
      "Epoch: 143, Training loss: 1.0630, Validation loss: 1.0666, lr: 0.0000\n",
      "Epoch: 144, Training loss: 1.0505, Validation loss: 1.0795, lr: 0.0000\n",
      "Epoch: 145, Training loss: 1.0438, Validation loss: 1.0649, lr: 0.0000\n",
      "Epoch: 146, Training loss: 1.0520, Validation loss: 1.0797, lr: 0.0000\n",
      "Epoch: 147, Training loss: 1.0376, Validation loss: 1.0639, lr: 0.0000\n",
      "Epoch: 148, Training loss: 1.0407, Validation loss: 1.0485, lr: 0.0000\n",
      "Epoch: 149, Training loss: 1.0498, Validation loss: 1.0676, lr: 0.0000\n",
      "Epoch: 150, Training loss: 1.0506, Validation loss: 1.0747, lr: 0.0000\n",
      "Final test loss: 1.0720\n"
     ]
    }
   ],
   "source": [
    "par = {'epochs': 150, #optimisation epochs\n",
    "       'order': 2, #order of derivatives\n",
    "       'hidden_channels': 32, #number of internal dimensions in MLP\n",
    "       'out_channels': 8,\n",
    "       'inner_product_features': False,\n",
    "       'diffusion': False,\n",
    "      }\n",
    "    \n",
    "model = net(batch, par=par)\n",
    "    \n",
    "model.run_training(batch, use_best=True, outdir='../outputs/spiking_data/all_sessions') "
   ]
  },
  {
   "cell_type": "code",
   "execution_count": 19,
   "id": "3e05a706",
   "metadata": {},
   "outputs": [
    {
     "name": "stderr",
     "output_type": "stream",
     "text": [
      "RESULT MIGHT BE INACURATE\n",
      "Max number of iteration reached, currently 100000. Sometimes iterations go on in cycle even though the solution has been reached, to check if it's the case here have a look at the minimal reduced cost. If it is very close to machine precision, you might actually have the correct solution, if not try setting the maximum number of iterations a bit higher\n",
      "/mnt/scratch/lts2/gosztolai/miniconda3/envs/MARBLE/lib/python3.9/site-packages/ot/lp/__init__.py:547: UserWarning: numItermax reached before optimality. Try to increase numItermax.\n",
      "  check_result(result_code)\n"
     ]
    },
    {
     "name": "stdout",
     "output_type": "stream",
     "text": [
      "Performed umap embedding on embedded results.\n"
     ]
    }
   ],
   "source": [
    "batch = model.evaluate(batch)\n",
    "batch = postprocessing(batch)"
   ]
  },
  {
   "cell_type": "code",
   "execution_count": 15,
   "id": "36905ab8",
   "metadata": {},
   "outputs": [
    {
     "data": {
      "text/plain": [
       "DataBatch(x=[21624, 5], edge_index=[2, 598004], y=[21624], pos=[21624, 5], edge_weight=[598004], num_nodes=21624, num_node_features=[14], sample_ind=[21624], batch=[21624], degree=[2], number_of_resamples=[2], train_mask=[21624], val_mask=[21624], test_mask=[21624], kernels=[5], local_gauges=False, time=[2], out=[21624, 8], gauges=[21624, 5, 5], emb=[21624, 2], dist=[2, 2], manifold=UMAP(random_state=0, tqdm_kwds={'bar_format': '{desc}: {percentage:3.0f}%| {bar} {n_fmt}/{total_fmt} [{elapsed}]', 'desc': 'Epochs completed', 'disable': True}))"
      ]
     },
     "execution_count": 15,
     "metadata": {},
     "output_type": "execute_result"
    }
   ],
   "source": [
    "batch"
   ]
  },
  {
   "cell_type": "code",
   "execution_count": null,
   "id": "48af88ff",
   "metadata": {},
   "outputs": [],
   "source": [
    "conditions = ['DownLeft','Left','UpLeft','Up','UpRight','Right','DownRight']\n",
    "plotting.embedding(batch, data.y.numpy().astype(int), titles=conditions)"
   ]
  },
  {
   "cell_type": "code",
   "execution_count": 17,
   "id": "6bd418db",
   "metadata": {},
   "outputs": [
    {
     "data": {
      "text/plain": [
       "<matplotlib.colorbar.Colorbar at 0x7f9b2665e340>"
      ]
     },
     "execution_count": 17,
     "metadata": {},
     "output_type": "execute_result"
    },
    {
     "data": {
      "image/png": "[encoded data removed]",
      "text/plain": [
       "<Figure size 640x480 with 2 Axes>"
      ]
     },
     "metadata": {},
     "output_type": "display_data"
    }
   ],
   "source": [
    "plt.imshow(batch.dist); plt.colorbar()  "
   ]
  },
  {
   "cell_type": "code",
   "execution_count": null,
   "id": "5f923c4b",
   "metadata": {},
   "outputs": [],
   "source": [
    "emb_MDS, _ = geometry.embed(batch.dist, embed_typ = 'MDS')\n",
    "labels = [i for i in range(len(conditions))]\n",
    "plotting.embedding(emb_MDS, labels, titles=conditions, s=30, alpha=1)"
   ]
  },
  {
   "cell_type": "code",
   "execution_count": null,
   "id": "4c67ad4f",
   "metadata": {},
   "outputs": [],
   "source": [
    "import numpy as np\n",
    "from sklearn.decomposition import PCA\n",
    "rates = pickle.load(open('../outputs/spiking_data/rate_data_1ms.pkl','rb'))       \n",
    "\n",
    "# definingf the set of conditions     \n",
    "conditions=['DownLeft','Left','UpLeft','Up','UpRight','Right','DownRight']    \n",
    "    \n",
    "# list of days\n",
    "days = rates.keys()\n",
    "    \n",
    "# define some parameters\n",
    "pca_n = 5\n",
    "      \n",
    "# storing all distance matrices\n",
    "embeddings = []\n",
    "distance_matrices = []\n",
    "    \n",
    "\n",
    "times = [];\n",
    "all_condition_labels = [];\n",
    "    \n",
    "# loop over each day\n",
    "for day in days:\n",
    "        \n",
    "        # first stack all trials from that day together and fit pca\n",
    "        print(day)\n",
    "        pos = []            \n",
    "        # loop over each condition on that day\n",
    "        for c, cond in enumerate(conditions):\n",
    "\n",
    "            # go cue at 500ms\n",
    "            data = rates[day][cond][:,500:,:]\n",
    "            \n",
    "            # loop over all trials\n",
    "            for trial in data:\n",
    "                # store each trial as time x channels\n",
    "                pos.append(trial)\n",
    "              \n",
    "        # stacking all trials into a single array (time x channels)\n",
    "        pos = np.vstack(pos)\n",
    "        print(pos.shape)\n",
    "        \n",
    "        # fit PCA to all data across all conditions on a given day simultaneously\n",
    "        pca = PCA(n_components=pca_n)\n",
    "        pca.fit(pos)     \n",
    "        print(pca.explained_variance_ratio_)  "
   ]
  },
  {
   "cell_type": "code",
   "execution_count": null,
   "id": "92fe51d9",
   "metadata": {},
   "outputs": [],
   "source": [
    "rates[day][cond].shape"
   ]
  },
  {
   "cell_type": "code",
   "execution_count": null,
   "id": "f929d938",
   "metadata": {},
   "outputs": [],
   "source": []
  }
 ],
 "metadata": {
  "kernelspec": {
   "display_name": "Python 3 (ipykernel)",
   "language": "python",
   "name": "python3"
  },
  "language_info": {
   "codemirror_mode": {
    "name": "ipython",
    "version": 3
   },
   "file_extension": ".py",
   "mimetype": "text/x-python",
   "name": "python",
   "nbconvert_exporter": "python",
   "pygments_lexer": "ipython3",
   "version": "3.10.10"
  }
 },
 "nbformat": 4,
 "nbformat_minor": 5
}
