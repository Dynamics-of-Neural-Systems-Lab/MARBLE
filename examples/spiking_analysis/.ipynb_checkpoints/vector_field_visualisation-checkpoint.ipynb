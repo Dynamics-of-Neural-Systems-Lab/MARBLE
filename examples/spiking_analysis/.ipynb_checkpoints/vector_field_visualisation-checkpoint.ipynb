{
 "cells": [
  {
   "cell_type": "code",
   "execution_count": 2,
   "id": "67f5cfa4",
   "metadata": {},
   "outputs": [],
   "source": [
    "import pickle\n",
    "from MARBLE import utils"
   ]
  },
  {
   "cell_type": "code",
   "execution_count": null,
   "id": "70bdbf33",
   "metadata": {},
   "outputs": [],
   "source": [
    "pos, vel = pickle.load(open('../outputs/spiking_data/data_object.pkl','rb'))"
   ]
  },
  {
   "cell_type": "code",
   "execution_count": null,
   "id": "69dbaefe",
   "metadata": {},
   "outputs": [],
   "source": [
    "data = utils.construct_dataset(pos, features=vel, graph_type='cknn', k=40, stop_crit=0.05, \n",
    "                                   n_geodesic_nb=10, compute_cl=True, vector=False)"
   ]
  },
  {
   "cell_type": "code",
   "execution_count": null,
   "id": "4a323504",
   "metadata": {},
   "outputs": [],
   "source": [
    "axes = plotting.fields(data, col=4, alpha=1, width=7, scale=2, titles=titles, view=[70,20])"
   ]
  },
  {
   "cell_type": "code",
   "execution_count": 23,
   "id": "e84b44b0",
   "metadata": {},
   "outputs": [],
   "source": [
    "rates =  pickle.load(open('../outputs/spiking_data/rate_data.pkl','rb'))       "
   ]
  },
  {
   "cell_type": "code",
   "execution_count": 24,
   "id": "8f25d2f4",
   "metadata": {},
   "outputs": [],
   "source": [
    "def start_at_gocue(rates, t = 500):\n",
    "    \n",
    "    days, conditions = rates.keys(), rates[0].keys()\n",
    "    \n",
    "    for d in days:\n",
    "        for c in conditions:\n",
    "            rates[d][c] = rates[d][c][:,:,t:]\n",
    "        \n",
    "    return rates"
   ]
  },
  {
   "cell_type": "code",
   "execution_count": 25,
   "id": "83f83445",
   "metadata": {},
   "outputs": [],
   "source": [
    "rates = start_at_gocue(rates, t = 500)"
   ]
  },
  {
   "cell_type": "code",
   "execution_count": 27,
   "id": "2d0b0930",
   "metadata": {},
   "outputs": [],
   "source": [
    "def fit_pca(rates, pca_n = 3):\n",
    "    \n",
    "    days, conditions = rates.keys(), rates[0].keys()\n",
    "    \n",
    "    pos = []\n",
    "    for d in days:\n",
    "        for c in conditions:\n",
    "            trials = rates[d][c]\n",
    "            for t in trials:\n",
    "                pos.append(t.T)\n",
    "                \n",
    "    # fit pca\n",
    "    pca = PCA(n_components=pca_n)\n",
    "    pca.fit(np.vstack(pos))\n",
    "    print(pca.explained_variance_ratio_)\n",
    "    \n",
    "    return pca"
   ]
  },
  {
   "cell_type": "code",
   "execution_count": 28,
   "id": "79e3f6c8",
   "metadata": {},
   "outputs": [
    {
     "name": "stdout",
     "output_type": "stream",
     "text": [
      "[0.31895829 0.08622739 0.07281958]\n"
     ]
    }
   ],
   "source": [
    "pca = fit_pca(rates)"
   ]
  },
  {
   "cell_type": "code",
   "execution_count": 33,
   "id": "471fb2ed",
   "metadata": {},
   "outputs": [],
   "source": [
    "def compute_velocity(rates, pca):\n",
    "    \n",
    "    days, conditions = rates.keys(), rates[0].keys()\n",
    "    \n",
    "    # create empty list of lists for each condition\n",
    "    pos = [[] for u in range(len(conditions))]\n",
    "    vel = [[] for u in range(len(conditions))]      \n",
    "      \n",
    "    # loop over each day\n",
    "    for d in days:\n",
    "     \n",
    "        # loop over conditions\n",
    "        for i, c in enumerate(conditions):\n",
    "            \n",
    "            trials = rates[d][c]   \n",
    "                       \n",
    "            # loop over all trials\n",
    "            for t in trials:\n",
    "                p = pca.transform(t.T)\n",
    "                p = p[:-1,:]\n",
    "                v = np.diff(p, axis=0)\n",
    "                \n",
    "                pos[i].append(p)\n",
    "                vel[i].append(v)\n",
    "    \n",
    "    return pos, vel"
   ]
  },
  {
   "cell_type": "code",
   "execution_count": 39,
   "id": "f0eb4c23",
   "metadata": {},
   "outputs": [],
   "source": [
    "pos, vel = compute_velocity(rates, pca)"
   ]
  },
  {
   "cell_type": "code",
   "execution_count": 46,
   "id": "3a4efd31",
   "metadata": {},
   "outputs": [
    {
     "ename": "ValueError",
     "evalue": "Expected 2D array, got 1D array instead:\narray=[-48.39010915  21.99642006   4.91875529].\nReshape your data either using array.reshape(-1, 1) if your data has a single feature or array.reshape(1, -1) if it contains a single sample.",
     "output_type": "error",
     "traceback": [
      "\u001b[0;31m---------------------------------------------------------------------------\u001b[0m",
      "\u001b[0;31mValueError\u001b[0m                                Traceback (most recent call last)",
      "Cell \u001b[0;32mIn[46], line 1\u001b[0m\n\u001b[0;32m----> 1\u001b[0m \u001b[43m_remove_outliers\u001b[49m\u001b[43m(\u001b[49m\u001b[43mpos\u001b[49m\u001b[43m[\u001b[49m\u001b[38;5;241;43m0\u001b[39;49m\u001b[43m]\u001b[49m\u001b[43m[\u001b[49m\u001b[38;5;241;43m0\u001b[39;49m\u001b[43m]\u001b[49m\u001b[43m,\u001b[49m\u001b[43m \u001b[49m\u001b[43mvel\u001b[49m\u001b[43m[\u001b[49m\u001b[38;5;241;43m0\u001b[39;49m\u001b[43m]\u001b[49m\u001b[43m[\u001b[49m\u001b[38;5;241;43m0\u001b[39;49m\u001b[43m]\u001b[49m\u001b[43m)\u001b[49m\n",
      "Cell \u001b[0;32mIn[42], line 17\u001b[0m, in \u001b[0;36m_remove_outliers\u001b[0;34m(pos, vel)\u001b[0m\n\u001b[1;32m     15\u001b[0m \u001b[38;5;66;03m# remove positional outliers\u001b[39;00m\n\u001b[1;32m     16\u001b[0m \u001b[38;5;28;01mfor\u001b[39;00m i,v \u001b[38;5;129;01min\u001b[39;00m \u001b[38;5;28menumerate\u001b[39m(pos):\n\u001b[0;32m---> 17\u001b[0m     outliers \u001b[38;5;241m=\u001b[39m \u001b[43mclf\u001b[49m\u001b[38;5;241;43m.\u001b[39;49m\u001b[43mfit_predict\u001b[49m\u001b[43m(\u001b[49m\u001b[43mv\u001b[49m\u001b[43m)\u001b[49m\n\u001b[1;32m     18\u001b[0m     vel[i] \u001b[38;5;241m=\u001b[39m vel[i][outliers\u001b[38;5;241m==\u001b[39m\u001b[38;5;241m1\u001b[39m]\n\u001b[1;32m     19\u001b[0m     pos[i] \u001b[38;5;241m=\u001b[39m pos[i][outliers\u001b[38;5;241m==\u001b[39m\u001b[38;5;241m1\u001b[39m]            \n",
      "File \u001b[0;32m/mnt/scratch/lts2/gosztolai/miniconda3/envs/MARBLE/lib/python3.9/site-packages/sklearn/neighbors/_lof.py:245\u001b[0m, in \u001b[0;36mLocalOutlierFactor.fit_predict\u001b[0;34m(self, X, y)\u001b[0m\n\u001b[1;32m    221\u001b[0m \u001b[38;5;124;03m\"\"\"Fit the model to the training set X and return the labels.\u001b[39;00m\n\u001b[1;32m    222\u001b[0m \n\u001b[1;32m    223\u001b[0m \u001b[38;5;124;03m**Not available for novelty detection (when novelty is set to True).**\u001b[39;00m\n\u001b[0;32m   (...)\u001b[0m\n\u001b[1;32m    239\u001b[0m \u001b[38;5;124;03m    Returns -1 for anomalies/outliers and 1 for inliers.\u001b[39;00m\n\u001b[1;32m    240\u001b[0m \u001b[38;5;124;03m\"\"\"\u001b[39;00m\n\u001b[1;32m    242\u001b[0m \u001b[38;5;66;03m# As fit_predict would be different from fit.predict, fit_predict is\u001b[39;00m\n\u001b[1;32m    243\u001b[0m \u001b[38;5;66;03m# only available for outlier detection (novelty=False)\u001b[39;00m\n\u001b[0;32m--> 245\u001b[0m \u001b[38;5;28;01mreturn\u001b[39;00m \u001b[38;5;28;43mself\u001b[39;49m\u001b[38;5;241;43m.\u001b[39;49m\u001b[43mfit\u001b[49m\u001b[43m(\u001b[49m\u001b[43mX\u001b[49m\u001b[43m)\u001b[49m\u001b[38;5;241m.\u001b[39m_predict()\n",
      "File \u001b[0;32m/mnt/scratch/lts2/gosztolai/miniconda3/envs/MARBLE/lib/python3.9/site-packages/sklearn/neighbors/_lof.py:264\u001b[0m, in \u001b[0;36mLocalOutlierFactor.fit\u001b[0;34m(self, X, y)\u001b[0m\n\u001b[1;32m    247\u001b[0m \u001b[38;5;28;01mdef\u001b[39;00m \u001b[38;5;21mfit\u001b[39m(\u001b[38;5;28mself\u001b[39m, X, y\u001b[38;5;241m=\u001b[39m\u001b[38;5;28;01mNone\u001b[39;00m):\n\u001b[1;32m    248\u001b[0m     \u001b[38;5;124;03m\"\"\"Fit the local outlier factor detector from the training dataset.\u001b[39;00m\n\u001b[1;32m    249\u001b[0m \n\u001b[1;32m    250\u001b[0m \u001b[38;5;124;03m    Parameters\u001b[39;00m\n\u001b[0;32m   (...)\u001b[0m\n\u001b[1;32m    262\u001b[0m \u001b[38;5;124;03m        The fitted local outlier factor detector.\u001b[39;00m\n\u001b[1;32m    263\u001b[0m \u001b[38;5;124;03m    \"\"\"\u001b[39;00m\n\u001b[0;32m--> 264\u001b[0m     \u001b[38;5;28;43mself\u001b[39;49m\u001b[38;5;241;43m.\u001b[39;49m\u001b[43m_fit\u001b[49m\u001b[43m(\u001b[49m\u001b[43mX\u001b[49m\u001b[43m)\u001b[49m\n\u001b[1;32m    266\u001b[0m     \u001b[38;5;28;01mif\u001b[39;00m \u001b[38;5;28mself\u001b[39m\u001b[38;5;241m.\u001b[39mcontamination \u001b[38;5;241m!=\u001b[39m \u001b[38;5;124m\"\u001b[39m\u001b[38;5;124mauto\u001b[39m\u001b[38;5;124m\"\u001b[39m:\n\u001b[1;32m    267\u001b[0m         \u001b[38;5;28;01mif\u001b[39;00m \u001b[38;5;129;01mnot\u001b[39;00m (\u001b[38;5;241m0.0\u001b[39m \u001b[38;5;241m<\u001b[39m \u001b[38;5;28mself\u001b[39m\u001b[38;5;241m.\u001b[39mcontamination \u001b[38;5;241m<\u001b[39m\u001b[38;5;241m=\u001b[39m \u001b[38;5;241m0.5\u001b[39m):\n",
      "File \u001b[0;32m/mnt/scratch/lts2/gosztolai/miniconda3/envs/MARBLE/lib/python3.9/site-packages/sklearn/neighbors/_base.py:444\u001b[0m, in \u001b[0;36mNeighborsBase._fit\u001b[0;34m(self, X, y)\u001b[0m\n\u001b[1;32m    442\u001b[0m \u001b[38;5;28;01melse\u001b[39;00m:\n\u001b[1;32m    443\u001b[0m     \u001b[38;5;28;01mif\u001b[39;00m \u001b[38;5;129;01mnot\u001b[39;00m \u001b[38;5;28misinstance\u001b[39m(X, (KDTree, BallTree, NeighborsBase)):\n\u001b[0;32m--> 444\u001b[0m         X \u001b[38;5;241m=\u001b[39m \u001b[38;5;28;43mself\u001b[39;49m\u001b[38;5;241;43m.\u001b[39;49m\u001b[43m_validate_data\u001b[49m\u001b[43m(\u001b[49m\u001b[43mX\u001b[49m\u001b[43m,\u001b[49m\u001b[43m \u001b[49m\u001b[43maccept_sparse\u001b[49m\u001b[38;5;241;43m=\u001b[39;49m\u001b[38;5;124;43m\"\u001b[39;49m\u001b[38;5;124;43mcsr\u001b[39;49m\u001b[38;5;124;43m\"\u001b[39;49m\u001b[43m,\u001b[49m\u001b[43m \u001b[49m\u001b[43morder\u001b[49m\u001b[38;5;241;43m=\u001b[39;49m\u001b[38;5;124;43m\"\u001b[39;49m\u001b[38;5;124;43mC\u001b[39;49m\u001b[38;5;124;43m\"\u001b[39;49m\u001b[43m)\u001b[49m\n\u001b[1;32m    446\u001b[0m \u001b[38;5;28mself\u001b[39m\u001b[38;5;241m.\u001b[39m_check_algorithm_metric()\n\u001b[1;32m    447\u001b[0m \u001b[38;5;28;01mif\u001b[39;00m \u001b[38;5;28mself\u001b[39m\u001b[38;5;241m.\u001b[39mmetric_params \u001b[38;5;129;01mis\u001b[39;00m \u001b[38;5;28;01mNone\u001b[39;00m:\n",
      "File \u001b[0;32m/mnt/scratch/lts2/gosztolai/miniconda3/envs/MARBLE/lib/python3.9/site-packages/sklearn/base.py:577\u001b[0m, in \u001b[0;36mBaseEstimator._validate_data\u001b[0;34m(self, X, y, reset, validate_separately, **check_params)\u001b[0m\n\u001b[1;32m    575\u001b[0m     \u001b[38;5;28;01mraise\u001b[39;00m \u001b[38;5;167;01mValueError\u001b[39;00m(\u001b[38;5;124m\"\u001b[39m\u001b[38;5;124mValidation should be done on X, y or both.\u001b[39m\u001b[38;5;124m\"\u001b[39m)\n\u001b[1;32m    576\u001b[0m \u001b[38;5;28;01melif\u001b[39;00m \u001b[38;5;129;01mnot\u001b[39;00m no_val_X \u001b[38;5;129;01mand\u001b[39;00m no_val_y:\n\u001b[0;32m--> 577\u001b[0m     X \u001b[38;5;241m=\u001b[39m \u001b[43mcheck_array\u001b[49m\u001b[43m(\u001b[49m\u001b[43mX\u001b[49m\u001b[43m,\u001b[49m\u001b[43m \u001b[49m\u001b[43minput_name\u001b[49m\u001b[38;5;241;43m=\u001b[39;49m\u001b[38;5;124;43m\"\u001b[39;49m\u001b[38;5;124;43mX\u001b[39;49m\u001b[38;5;124;43m\"\u001b[39;49m\u001b[43m,\u001b[49m\u001b[43m \u001b[49m\u001b[38;5;241;43m*\u001b[39;49m\u001b[38;5;241;43m*\u001b[39;49m\u001b[43mcheck_params\u001b[49m\u001b[43m)\u001b[49m\n\u001b[1;32m    578\u001b[0m     out \u001b[38;5;241m=\u001b[39m X\n\u001b[1;32m    579\u001b[0m \u001b[38;5;28;01melif\u001b[39;00m no_val_X \u001b[38;5;129;01mand\u001b[39;00m \u001b[38;5;129;01mnot\u001b[39;00m no_val_y:\n",
      "File \u001b[0;32m/mnt/scratch/lts2/gosztolai/miniconda3/envs/MARBLE/lib/python3.9/site-packages/sklearn/utils/validation.py:879\u001b[0m, in \u001b[0;36mcheck_array\u001b[0;34m(array, accept_sparse, accept_large_sparse, dtype, order, copy, force_all_finite, ensure_2d, allow_nd, ensure_min_samples, ensure_min_features, estimator, input_name)\u001b[0m\n\u001b[1;32m    877\u001b[0m     \u001b[38;5;66;03m# If input is 1D raise error\u001b[39;00m\n\u001b[1;32m    878\u001b[0m     \u001b[38;5;28;01mif\u001b[39;00m array\u001b[38;5;241m.\u001b[39mndim \u001b[38;5;241m==\u001b[39m \u001b[38;5;241m1\u001b[39m:\n\u001b[0;32m--> 879\u001b[0m         \u001b[38;5;28;01mraise\u001b[39;00m \u001b[38;5;167;01mValueError\u001b[39;00m(\n\u001b[1;32m    880\u001b[0m             \u001b[38;5;124m\"\u001b[39m\u001b[38;5;124mExpected 2D array, got 1D array instead:\u001b[39m\u001b[38;5;130;01m\\n\u001b[39;00m\u001b[38;5;124marray=\u001b[39m\u001b[38;5;132;01m{}\u001b[39;00m\u001b[38;5;124m.\u001b[39m\u001b[38;5;130;01m\\n\u001b[39;00m\u001b[38;5;124m\"\u001b[39m\n\u001b[1;32m    881\u001b[0m             \u001b[38;5;124m\"\u001b[39m\u001b[38;5;124mReshape your data either using array.reshape(-1, 1) if \u001b[39m\u001b[38;5;124m\"\u001b[39m\n\u001b[1;32m    882\u001b[0m             \u001b[38;5;124m\"\u001b[39m\u001b[38;5;124myour data has a single feature or array.reshape(1, -1) \u001b[39m\u001b[38;5;124m\"\u001b[39m\n\u001b[1;32m    883\u001b[0m             \u001b[38;5;124m\"\u001b[39m\u001b[38;5;124mif it contains a single sample.\u001b[39m\u001b[38;5;124m\"\u001b[39m\u001b[38;5;241m.\u001b[39mformat(array)\n\u001b[1;32m    884\u001b[0m         )\n\u001b[1;32m    886\u001b[0m \u001b[38;5;28;01mif\u001b[39;00m dtype_numeric \u001b[38;5;129;01mand\u001b[39;00m array\u001b[38;5;241m.\u001b[39mdtype\u001b[38;5;241m.\u001b[39mkind \u001b[38;5;129;01min\u001b[39;00m \u001b[38;5;124m\"\u001b[39m\u001b[38;5;124mUSV\u001b[39m\u001b[38;5;124m\"\u001b[39m:\n\u001b[1;32m    887\u001b[0m     \u001b[38;5;28;01mraise\u001b[39;00m \u001b[38;5;167;01mValueError\u001b[39;00m(\n\u001b[1;32m    888\u001b[0m         \u001b[38;5;124m\"\u001b[39m\u001b[38;5;124mdtype=\u001b[39m\u001b[38;5;124m'\u001b[39m\u001b[38;5;124mnumeric\u001b[39m\u001b[38;5;124m'\u001b[39m\u001b[38;5;124m is not compatible with arrays of bytes/strings.\u001b[39m\u001b[38;5;124m\"\u001b[39m\n\u001b[1;32m    889\u001b[0m         \u001b[38;5;124m\"\u001b[39m\u001b[38;5;124mConvert your data to numeric values explicitly instead.\u001b[39m\u001b[38;5;124m\"\u001b[39m\n\u001b[1;32m    890\u001b[0m     )\n",
      "\u001b[0;31mValueError\u001b[0m: Expected 2D array, got 1D array instead:\narray=[-48.39010915  21.99642006   4.91875529].\nReshape your data either using array.reshape(-1, 1) if your data has a single feature or array.reshape(1, -1) if it contains a single sample."
     ]
    }
   ],
   "source": [
    "_remove_outliers(pos[0][0], vel[0][0])"
   ]
  },
  {
   "cell_type": "code",
   "execution_count": 42,
   "id": "17c1910c",
   "metadata": {},
   "outputs": [],
   "source": [
    "def remove_outliers(pos, vel):\n",
    "        \n",
    "    for i, (p_c, v_c) in tqdm(enumerate(zip(pos, vel))): \n",
    "        for j, (p, v) in enumerate(zip(p_c, v_c)):\n",
    "    \n",
    "            p, v = _remove_outliers(p, v)\n",
    "            pos[i][j], vel[i][j] = p, v\n",
    "    \n",
    "    return pos, vel\n",
    "\n",
    "\n",
    "def _remove_outliers(pos, vel):\n",
    "    \"\"\"  function for removing outliers \"\"\"\n",
    "    clf = LocalOutlierFactor(n_neighbors=10)        \n",
    "    # remove positional outliers\n",
    "    outliers = clf.fit_predict(pos)\n",
    "    vel = vel[outliers==1]\n",
    "    pos = pos[outliers==1]            \n",
    "    # remove velocity outliers\n",
    "    outliers = clf.fit_predict(vel)\n",
    "    vel = vel[outliers==1]\n",
    "    pos = pos[outliers==1]         \n",
    "    return pos, vel"
   ]
  },
  {
   "cell_type": "code",
   "execution_count": 43,
   "id": "695bb7a4",
   "metadata": {},
   "outputs": [
    {
     "name": "stderr",
     "output_type": "stream",
     "text": [
      "0it [00:00, ?it/s]\n"
     ]
    },
    {
     "ename": "ValueError",
     "evalue": "Expected 2D array, got 1D array instead:\narray=[-48.39010915  21.99642006   4.91875529].\nReshape your data either using array.reshape(-1, 1) if your data has a single feature or array.reshape(1, -1) if it contains a single sample.",
     "output_type": "error",
     "traceback": [
      "\u001b[0;31m---------------------------------------------------------------------------\u001b[0m",
      "\u001b[0;31mValueError\u001b[0m                                Traceback (most recent call last)",
      "Cell \u001b[0;32mIn[43], line 1\u001b[0m\n\u001b[0;32m----> 1\u001b[0m pos, vel \u001b[38;5;241m=\u001b[39m \u001b[43mremove_outliers\u001b[49m\u001b[43m(\u001b[49m\u001b[43mpos\u001b[49m\u001b[43m,\u001b[49m\u001b[43m \u001b[49m\u001b[43mvel\u001b[49m\u001b[43m)\u001b[49m\n",
      "Cell \u001b[0;32mIn[42], line 6\u001b[0m, in \u001b[0;36mremove_outliers\u001b[0;34m(pos, vel)\u001b[0m\n\u001b[1;32m      3\u001b[0m \u001b[38;5;28;01mfor\u001b[39;00m i, (p_day, v_day) \u001b[38;5;129;01min\u001b[39;00m tqdm(\u001b[38;5;28menumerate\u001b[39m(\u001b[38;5;28mzip\u001b[39m(pos, vel))): \n\u001b[1;32m      4\u001b[0m     \u001b[38;5;28;01mfor\u001b[39;00m j, (p, v) \u001b[38;5;129;01min\u001b[39;00m \u001b[38;5;28menumerate\u001b[39m(\u001b[38;5;28mzip\u001b[39m(p_day, v_day)):\n\u001b[0;32m----> 6\u001b[0m         p, v \u001b[38;5;241m=\u001b[39m \u001b[43m_remove_outliers\u001b[49m\u001b[43m(\u001b[49m\u001b[43mp\u001b[49m\u001b[43m,\u001b[49m\u001b[43m \u001b[49m\u001b[43mv\u001b[49m\u001b[43m)\u001b[49m\n\u001b[1;32m      7\u001b[0m         pos[i][j], vel[i][j] \u001b[38;5;241m=\u001b[39m p, v\n\u001b[1;32m      9\u001b[0m \u001b[38;5;28;01mreturn\u001b[39;00m pos, vel\n",
      "Cell \u001b[0;32mIn[42], line 17\u001b[0m, in \u001b[0;36m_remove_outliers\u001b[0;34m(pos, vel)\u001b[0m\n\u001b[1;32m     15\u001b[0m \u001b[38;5;66;03m# remove positional outliers\u001b[39;00m\n\u001b[1;32m     16\u001b[0m \u001b[38;5;28;01mfor\u001b[39;00m i,v \u001b[38;5;129;01min\u001b[39;00m \u001b[38;5;28menumerate\u001b[39m(pos):\n\u001b[0;32m---> 17\u001b[0m     outliers \u001b[38;5;241m=\u001b[39m \u001b[43mclf\u001b[49m\u001b[38;5;241;43m.\u001b[39;49m\u001b[43mfit_predict\u001b[49m\u001b[43m(\u001b[49m\u001b[43mv\u001b[49m\u001b[43m)\u001b[49m\n\u001b[1;32m     18\u001b[0m     vel[i] \u001b[38;5;241m=\u001b[39m vel[i][outliers\u001b[38;5;241m==\u001b[39m\u001b[38;5;241m1\u001b[39m]\n\u001b[1;32m     19\u001b[0m     pos[i] \u001b[38;5;241m=\u001b[39m pos[i][outliers\u001b[38;5;241m==\u001b[39m\u001b[38;5;241m1\u001b[39m]            \n",
      "File \u001b[0;32m/mnt/scratch/lts2/gosztolai/miniconda3/envs/MARBLE/lib/python3.9/site-packages/sklearn/neighbors/_lof.py:245\u001b[0m, in \u001b[0;36mLocalOutlierFactor.fit_predict\u001b[0;34m(self, X, y)\u001b[0m\n\u001b[1;32m    221\u001b[0m \u001b[38;5;124;03m\"\"\"Fit the model to the training set X and return the labels.\u001b[39;00m\n\u001b[1;32m    222\u001b[0m \n\u001b[1;32m    223\u001b[0m \u001b[38;5;124;03m**Not available for novelty detection (when novelty is set to True).**\u001b[39;00m\n\u001b[0;32m   (...)\u001b[0m\n\u001b[1;32m    239\u001b[0m \u001b[38;5;124;03m    Returns -1 for anomalies/outliers and 1 for inliers.\u001b[39;00m\n\u001b[1;32m    240\u001b[0m \u001b[38;5;124;03m\"\"\"\u001b[39;00m\n\u001b[1;32m    242\u001b[0m \u001b[38;5;66;03m# As fit_predict would be different from fit.predict, fit_predict is\u001b[39;00m\n\u001b[1;32m    243\u001b[0m \u001b[38;5;66;03m# only available for outlier detection (novelty=False)\u001b[39;00m\n\u001b[0;32m--> 245\u001b[0m \u001b[38;5;28;01mreturn\u001b[39;00m \u001b[38;5;28;43mself\u001b[39;49m\u001b[38;5;241;43m.\u001b[39;49m\u001b[43mfit\u001b[49m\u001b[43m(\u001b[49m\u001b[43mX\u001b[49m\u001b[43m)\u001b[49m\u001b[38;5;241m.\u001b[39m_predict()\n",
      "File \u001b[0;32m/mnt/scratch/lts2/gosztolai/miniconda3/envs/MARBLE/lib/python3.9/site-packages/sklearn/neighbors/_lof.py:264\u001b[0m, in \u001b[0;36mLocalOutlierFactor.fit\u001b[0;34m(self, X, y)\u001b[0m\n\u001b[1;32m    247\u001b[0m \u001b[38;5;28;01mdef\u001b[39;00m \u001b[38;5;21mfit\u001b[39m(\u001b[38;5;28mself\u001b[39m, X, y\u001b[38;5;241m=\u001b[39m\u001b[38;5;28;01mNone\u001b[39;00m):\n\u001b[1;32m    248\u001b[0m     \u001b[38;5;124;03m\"\"\"Fit the local outlier factor detector from the training dataset.\u001b[39;00m\n\u001b[1;32m    249\u001b[0m \n\u001b[1;32m    250\u001b[0m \u001b[38;5;124;03m    Parameters\u001b[39;00m\n\u001b[0;32m   (...)\u001b[0m\n\u001b[1;32m    262\u001b[0m \u001b[38;5;124;03m        The fitted local outlier factor detector.\u001b[39;00m\n\u001b[1;32m    263\u001b[0m \u001b[38;5;124;03m    \"\"\"\u001b[39;00m\n\u001b[0;32m--> 264\u001b[0m     \u001b[38;5;28;43mself\u001b[39;49m\u001b[38;5;241;43m.\u001b[39;49m\u001b[43m_fit\u001b[49m\u001b[43m(\u001b[49m\u001b[43mX\u001b[49m\u001b[43m)\u001b[49m\n\u001b[1;32m    266\u001b[0m     \u001b[38;5;28;01mif\u001b[39;00m \u001b[38;5;28mself\u001b[39m\u001b[38;5;241m.\u001b[39mcontamination \u001b[38;5;241m!=\u001b[39m \u001b[38;5;124m\"\u001b[39m\u001b[38;5;124mauto\u001b[39m\u001b[38;5;124m\"\u001b[39m:\n\u001b[1;32m    267\u001b[0m         \u001b[38;5;28;01mif\u001b[39;00m \u001b[38;5;129;01mnot\u001b[39;00m (\u001b[38;5;241m0.0\u001b[39m \u001b[38;5;241m<\u001b[39m \u001b[38;5;28mself\u001b[39m\u001b[38;5;241m.\u001b[39mcontamination \u001b[38;5;241m<\u001b[39m\u001b[38;5;241m=\u001b[39m \u001b[38;5;241m0.5\u001b[39m):\n",
      "File \u001b[0;32m/mnt/scratch/lts2/gosztolai/miniconda3/envs/MARBLE/lib/python3.9/site-packages/sklearn/neighbors/_base.py:444\u001b[0m, in \u001b[0;36mNeighborsBase._fit\u001b[0;34m(self, X, y)\u001b[0m\n\u001b[1;32m    442\u001b[0m \u001b[38;5;28;01melse\u001b[39;00m:\n\u001b[1;32m    443\u001b[0m     \u001b[38;5;28;01mif\u001b[39;00m \u001b[38;5;129;01mnot\u001b[39;00m \u001b[38;5;28misinstance\u001b[39m(X, (KDTree, BallTree, NeighborsBase)):\n\u001b[0;32m--> 444\u001b[0m         X \u001b[38;5;241m=\u001b[39m \u001b[38;5;28;43mself\u001b[39;49m\u001b[38;5;241;43m.\u001b[39;49m\u001b[43m_validate_data\u001b[49m\u001b[43m(\u001b[49m\u001b[43mX\u001b[49m\u001b[43m,\u001b[49m\u001b[43m \u001b[49m\u001b[43maccept_sparse\u001b[49m\u001b[38;5;241;43m=\u001b[39;49m\u001b[38;5;124;43m\"\u001b[39;49m\u001b[38;5;124;43mcsr\u001b[39;49m\u001b[38;5;124;43m\"\u001b[39;49m\u001b[43m,\u001b[49m\u001b[43m \u001b[49m\u001b[43morder\u001b[49m\u001b[38;5;241;43m=\u001b[39;49m\u001b[38;5;124;43m\"\u001b[39;49m\u001b[38;5;124;43mC\u001b[39;49m\u001b[38;5;124;43m\"\u001b[39;49m\u001b[43m)\u001b[49m\n\u001b[1;32m    446\u001b[0m \u001b[38;5;28mself\u001b[39m\u001b[38;5;241m.\u001b[39m_check_algorithm_metric()\n\u001b[1;32m    447\u001b[0m \u001b[38;5;28;01mif\u001b[39;00m \u001b[38;5;28mself\u001b[39m\u001b[38;5;241m.\u001b[39mmetric_params \u001b[38;5;129;01mis\u001b[39;00m \u001b[38;5;28;01mNone\u001b[39;00m:\n",
      "File \u001b[0;32m/mnt/scratch/lts2/gosztolai/miniconda3/envs/MARBLE/lib/python3.9/site-packages/sklearn/base.py:577\u001b[0m, in \u001b[0;36mBaseEstimator._validate_data\u001b[0;34m(self, X, y, reset, validate_separately, **check_params)\u001b[0m\n\u001b[1;32m    575\u001b[0m     \u001b[38;5;28;01mraise\u001b[39;00m \u001b[38;5;167;01mValueError\u001b[39;00m(\u001b[38;5;124m\"\u001b[39m\u001b[38;5;124mValidation should be done on X, y or both.\u001b[39m\u001b[38;5;124m\"\u001b[39m)\n\u001b[1;32m    576\u001b[0m \u001b[38;5;28;01melif\u001b[39;00m \u001b[38;5;129;01mnot\u001b[39;00m no_val_X \u001b[38;5;129;01mand\u001b[39;00m no_val_y:\n\u001b[0;32m--> 577\u001b[0m     X \u001b[38;5;241m=\u001b[39m \u001b[43mcheck_array\u001b[49m\u001b[43m(\u001b[49m\u001b[43mX\u001b[49m\u001b[43m,\u001b[49m\u001b[43m \u001b[49m\u001b[43minput_name\u001b[49m\u001b[38;5;241;43m=\u001b[39;49m\u001b[38;5;124;43m\"\u001b[39;49m\u001b[38;5;124;43mX\u001b[39;49m\u001b[38;5;124;43m\"\u001b[39;49m\u001b[43m,\u001b[49m\u001b[43m \u001b[49m\u001b[38;5;241;43m*\u001b[39;49m\u001b[38;5;241;43m*\u001b[39;49m\u001b[43mcheck_params\u001b[49m\u001b[43m)\u001b[49m\n\u001b[1;32m    578\u001b[0m     out \u001b[38;5;241m=\u001b[39m X\n\u001b[1;32m    579\u001b[0m \u001b[38;5;28;01melif\u001b[39;00m no_val_X \u001b[38;5;129;01mand\u001b[39;00m \u001b[38;5;129;01mnot\u001b[39;00m no_val_y:\n",
      "File \u001b[0;32m/mnt/scratch/lts2/gosztolai/miniconda3/envs/MARBLE/lib/python3.9/site-packages/sklearn/utils/validation.py:879\u001b[0m, in \u001b[0;36mcheck_array\u001b[0;34m(array, accept_sparse, accept_large_sparse, dtype, order, copy, force_all_finite, ensure_2d, allow_nd, ensure_min_samples, ensure_min_features, estimator, input_name)\u001b[0m\n\u001b[1;32m    877\u001b[0m     \u001b[38;5;66;03m# If input is 1D raise error\u001b[39;00m\n\u001b[1;32m    878\u001b[0m     \u001b[38;5;28;01mif\u001b[39;00m array\u001b[38;5;241m.\u001b[39mndim \u001b[38;5;241m==\u001b[39m \u001b[38;5;241m1\u001b[39m:\n\u001b[0;32m--> 879\u001b[0m         \u001b[38;5;28;01mraise\u001b[39;00m \u001b[38;5;167;01mValueError\u001b[39;00m(\n\u001b[1;32m    880\u001b[0m             \u001b[38;5;124m\"\u001b[39m\u001b[38;5;124mExpected 2D array, got 1D array instead:\u001b[39m\u001b[38;5;130;01m\\n\u001b[39;00m\u001b[38;5;124marray=\u001b[39m\u001b[38;5;132;01m{}\u001b[39;00m\u001b[38;5;124m.\u001b[39m\u001b[38;5;130;01m\\n\u001b[39;00m\u001b[38;5;124m\"\u001b[39m\n\u001b[1;32m    881\u001b[0m             \u001b[38;5;124m\"\u001b[39m\u001b[38;5;124mReshape your data either using array.reshape(-1, 1) if \u001b[39m\u001b[38;5;124m\"\u001b[39m\n\u001b[1;32m    882\u001b[0m             \u001b[38;5;124m\"\u001b[39m\u001b[38;5;124myour data has a single feature or array.reshape(1, -1) \u001b[39m\u001b[38;5;124m\"\u001b[39m\n\u001b[1;32m    883\u001b[0m             \u001b[38;5;124m\"\u001b[39m\u001b[38;5;124mif it contains a single sample.\u001b[39m\u001b[38;5;124m\"\u001b[39m\u001b[38;5;241m.\u001b[39mformat(array)\n\u001b[1;32m    884\u001b[0m         )\n\u001b[1;32m    886\u001b[0m \u001b[38;5;28;01mif\u001b[39;00m dtype_numeric \u001b[38;5;129;01mand\u001b[39;00m array\u001b[38;5;241m.\u001b[39mdtype\u001b[38;5;241m.\u001b[39mkind \u001b[38;5;129;01min\u001b[39;00m \u001b[38;5;124m\"\u001b[39m\u001b[38;5;124mUSV\u001b[39m\u001b[38;5;124m\"\u001b[39m:\n\u001b[1;32m    887\u001b[0m     \u001b[38;5;28;01mraise\u001b[39;00m \u001b[38;5;167;01mValueError\u001b[39;00m(\n\u001b[1;32m    888\u001b[0m         \u001b[38;5;124m\"\u001b[39m\u001b[38;5;124mdtype=\u001b[39m\u001b[38;5;124m'\u001b[39m\u001b[38;5;124mnumeric\u001b[39m\u001b[38;5;124m'\u001b[39m\u001b[38;5;124m is not compatible with arrays of bytes/strings.\u001b[39m\u001b[38;5;124m\"\u001b[39m\n\u001b[1;32m    889\u001b[0m         \u001b[38;5;124m\"\u001b[39m\u001b[38;5;124mConvert your data to numeric values explicitly instead.\u001b[39m\u001b[38;5;124m\"\u001b[39m\n\u001b[1;32m    890\u001b[0m     )\n",
      "\u001b[0;31mValueError\u001b[0m: Expected 2D array, got 1D array instead:\narray=[-48.39010915  21.99642006   4.91875529].\nReshape your data either using array.reshape(-1, 1) if your data has a single feature or array.reshape(1, -1) if it contains a single sample."
     ]
    }
   ],
   "source": [
    "pos[0]"
   ]
  },
  {
   "cell_type": "code",
   "execution_count": 7,
   "id": "4e5c6d02",
   "metadata": {},
   "outputs": [],
   "source": [
    "#!/usr/bin/env python3\n",
    "# -*- coding: utf-8 -*-\n",
    "\n",
    "import numpy as np\n",
    "\n",
    "import pickle\n",
    "import sys\n",
    "\n",
    "# from sklearn.preprocessing import StandardScaler\n",
    "\n",
    "from sklearn.decomposition import PCA#, KernelPCA\n",
    "# from sklearn.manifold import LocallyLinearEmbedding, SpectralEmbedding, MDS\n",
    "\n",
    "from sklearn.neighbors import LocalOutlierFactor\n",
    "from tqdm import tqdm\n",
    "\n",
    "#%%   \n",
    "\n",
    "def main():        \n",
    "    \n",
    "    # instantaneous rate data\n",
    "    rates =  pickle.load(open('../outputs/spiking_data/rate_data.pkl','rb'))       \n",
    "\n",
    "    # definingf the set of conditions     \n",
    "    conditions=['DownLeft','Left','UpLeft','Up','UpRight','Right','DownRight']    \n",
    "    \n",
    "    # list of days\n",
    "    days = rates.keys()\n",
    "    \n",
    "    # define some parameters\n",
    "    rm_outliers = True\n",
    "    pca_n = 3\n",
    "    \n",
    "    pos = []\n",
    "\n",
    "    # loop over each day\n",
    "    for day in tqdm(days):\n",
    "     \n",
    "        # loop over conditions\n",
    "        for c, cond in enumerate(conditions[:1]):\n",
    "            \n",
    "            # go cue at 500ms \n",
    "            data = rates[day][cond][:,:,500:]           \n",
    "                       \n",
    "            # loop over all trials\n",
    "            for t in range(data.shape[0]):\n",
    "                \n",
    "                # extra trial\n",
    "                trial = data[t,:,:] \n",
    "                \n",
    "                # transform to time x channels\n",
    "                trial = trial.T\n",
    "                \n",
    "                # take all points except last\n",
    "                pos.append(trial)\n",
    "                \n",
    "    # fit pca\n",
    "    pca = PCA(n_components=pca_n)\n",
    "    pca.fit(np.vstack(pos))\n",
    "    print(pca.explained_variance_ratio_)   \n",
    "    \n",
    "    return pca\n",
    "                        \n",
    "\n",
    "def get_vector_array(coords):\n",
    "    \"\"\" function for defining the vector features from each array of coordinates \"\"\"\n",
    "    diff = np.diff(coords, axis=0)\n",
    "    return diff\n",
    "\n",
    "def remove_outliers(pos, vel):\n",
    "    \"\"\"  function for removing outliers \"\"\"\n",
    "    clf = LocalOutlierFactor(n_neighbors=10)        \n",
    "    # remove positional outliers\n",
    "    for i,v in enumerate(pos):\n",
    "        outliers = clf.fit_predict(v)\n",
    "        vel[i] = vel[i][outliers==1]\n",
    "        pos[i] = pos[i][outliers==1]            \n",
    "    # remove velocity outliers\n",
    "    for i,v in enumerate(vel):\n",
    "        outliers = clf.fit_predict(v)\n",
    "        vel[i] = vel[i][outliers==1]\n",
    "        pos[i] = pos[i][outliers==1]         \n",
    "    return pos, vel"
   ]
  },
  {
   "cell_type": "code",
   "execution_count": 8,
   "id": "581e5d52",
   "metadata": {},
   "outputs": [
    {
     "name": "stderr",
     "output_type": "stream",
     "text": [
      "100%|███████████████████████████████████████████████████████████| 44/44 [00:00<00:00, 16749.81it/s]\n"
     ]
    },
    {
     "name": "stdout",
     "output_type": "stream",
     "text": [
      "[0.29664557 0.10035803 0.0684394 ]\n"
     ]
    }
   ],
   "source": [
    "pca = main()"
   ]
  },
  {
   "cell_type": "code",
   "execution_count": 9,
   "id": "9d89e98a",
   "metadata": {},
   "outputs": [],
   "source": [
    "def main(pca):        \n",
    "    # create empty list of lists for each condition\n",
    "    pos = [[] for u in range(len(conditions))]\n",
    "    vel = [[] for u in range(len(conditions))]      \n",
    "      \n",
    "    # loop over each day\n",
    "    for day in tqdm(days):\n",
    "     \n",
    "        # loop over conditions\n",
    "        for c, cond in enumerate(conditions):\n",
    "            \n",
    "            # go cue at 500ms \n",
    "            data = rates[day][cond][:,:,500:]           \n",
    "                       \n",
    "            # loop over all trials\n",
    "            for t in range(data.shape[0]):\n",
    "                \n",
    "                # extra trial\n",
    "                trial = data[t,:,:]\n",
    "                \n",
    "                # transform to time x channels\n",
    "                trial = trial.T\n",
    "                \n",
    "                # embed in fitted pca space\n",
    "                trial = pca.transform(trial)\n",
    "                \n",
    "                # take all points except last\n",
    "                pos[c].append(trial[:-1,:])\n",
    "                \n",
    "                # extract vectors between coordinates\n",
    "                vel[c].append(get_vector_array(trial))\n",
    "                \n",
    "        # remove outliers\n",
    "        if rm_outliers:\n",
    "            pos[c], vel[c] = remove_outliers(pos[c], vel[c])    \n",
    "                        \n",
    "    # stack the trials within each condition\n",
    "    pos = [np.vstack(u) for u in pos] # trials x time x channels\n",
    "    vel = [np.vstack(u) for u in vel] # trials x time x channels\n",
    "    \n",
    "#with open('../outputs/spiking_data/dataobject.pkl', 'wb') as handle:\n",
    "#    pickle.dump([pos, vel], handle, protocol=pickle.HIGHEST_PROTOCOL)\n",
    "    "
   ]
  },
  {
   "cell_type": "code",
   "execution_count": null,
   "id": "6bb61d57",
   "metadata": {},
   "outputs": [],
   "source": [
    "main()"
   ]
  }
 ],
 "metadata": {
  "kernelspec": {
   "display_name": "Python 3 (ipykernel)",
   "language": "python",
   "name": "python3"
  },
  "language_info": {
   "codemirror_mode": {
    "name": "ipython",
    "version": 3
   },
   "file_extension": ".py",
   "mimetype": "text/x-python",
   "name": "python",
   "nbconvert_exporter": "python",
   "pygments_lexer": "ipython3",
   "version": "3.9.13"
  }
 },
 "nbformat": 4,
 "nbformat_minor": 5
}
