{
 "cells": [
  {
   "cell_type": "code",
   "execution_count": null,
   "id": "f3429d60",
   "metadata": {},
   "outputs": [],
   "source": [
    "%load_ext autoreload\n",
    "%autoreload 2\n",
    "import numpy as np\n",
    "from DE_library import simulate_ODE, simulate_phase_portrait, plotting\n",
    "import matplotlib.pyplot as plt\n",
    "\n",
    "import sys\n",
    "from MARBLE import utils, geometry, net\n",
    "\n",
    "rng = np.random.RandomState(1)"
   ]
  },
  {
   "cell_type": "code",
   "execution_count": null,
   "id": "e6e9fa1f",
   "metadata": {},
   "outputs": [],
   "source": [
    "t0, t1, dt = 0, 5, 0.05\n",
    "t = np.arange(t0, t1, dt)\n",
    "n = 100\n",
    "\n",
    "X0_range = [geometry.sample_2d(n, [[-1,-1],[1,1]], 'random') for i in range(4)]"
   ]
  },
  {
   "cell_type": "code",
   "execution_count": null,
   "id": "81d0a14a",
   "metadata": {},
   "outputs": [],
   "source": [
    "fig, ax = plt.subplots(1,4, figsize=(20,5))\n",
    "\n",
    "pos, _ = simulate_phase_portrait('bogdanov_takens', t, X0_range[0], par = {'beta1': -0.15, 'beta2': -0.6})\n",
    "\n",
    "for p in pos:\n",
    "    ax[0] = plotting.trajectories(p, ax=ax[0], style='->', lw=1, arrowhead=.03, arrow_spacing=7, axis=False, alpha=None)\n",
    "ax[0].axis('square')\n",
    "ax[0].set_xlim([-1,1])\n",
    "ax[0].set_ylim([-1,1])\n",
    "\n",
    "pos, _ = simulate_phase_portrait('bogdanov_takens', t, X0_range[1], par = {'beta1': -0.05, 'beta2': -0.6})\n",
    "\n",
    "for p in pos:\n",
    "    ax[1] = plotting.trajectories(p, ax=ax[1], style='->', lw=1, arrowhead=.03, arrow_spacing=7, axis=False, alpha=None)\n",
    "ax[1].axis('square')\n",
    "ax[1].set_xlim([-1,1])\n",
    "ax[1].set_ylim([-1,1])\n",
    "\n",
    "pos, _ = simulate_phase_portrait('bogdanov_takens', t, X0_range[2], par = {'beta1': 0.05, 'beta2': -0.6})\n",
    "\n",
    "for p in pos:\n",
    "    ax[2] = plotting.trajectories(p, ax=ax[2], style='->', lw=1, arrowhead=.03, arrow_spacing=7, axis=False, alpha=None)\n",
    "ax[2].axis('square')\n",
    "ax[2].set_xlim([-1,1])\n",
    "ax[2].set_ylim([-1,1])\n",
    "\n",
    "pos, _ = simulate_phase_portrait('bogdanov_takens', t, X0_range[3], par = {'beta1': 0.15, 'beta2': -0.6})\n",
    "\n",
    "for p in pos:\n",
    "    ax[3] = plotting.trajectories(p, ax=ax[3], style='->', lw=1, arrowhead=.03, arrow_spacing=7, axis=False, alpha=None)\n",
    "ax[3].axis('square')\n",
    "ax[3].set_xlim([-1,1])\n",
    "ax[3].set_ylim([-1,1])"
   ]
  },
  {
   "cell_type": "markdown",
   "id": "b63dae69",
   "metadata": {},
   "source": [
    "# Geneate phase portraits from random initial conditions while varying $\\beta_1$"
   ]
  },
  {
   "cell_type": "code",
   "execution_count": null,
   "id": "2afd125e",
   "metadata": {},
   "outputs": [],
   "source": [
    "beta1 = np.linspace(-.15,.15,20)\n",
    "\n",
    "pos, vel = [], []\n",
    "for b1 in beta1:\n",
    "    X0_range = geometry.sample_2d(n, [[-1,-1],[1,1]], 'random')\n",
    "    p, v = simulate_phase_portrait('bogdanov_takens', t, X0_range, par = {'beta1': b1, 'beta2': -0.6})\n",
    "    p = np.vstack(p)\n",
    "    v = np.vstack(v)\n",
    "    pos.append(p)\n",
    "    vel.append(v)"
   ]
  },
  {
   "cell_type": "markdown",
   "id": "685869ef",
   "metadata": {},
   "source": [
    "# Create random projections of state-space to scalar time series"
   ]
  },
  {
   "cell_type": "code",
   "execution_count": null,
   "id": "fef2487a",
   "metadata": {},
   "outputs": [],
   "source": [
    "from sklearn import random_projection\n",
    "transformer = random_projection.SparseRandomProjection(n_components=1)\n",
    "\n",
    "n_obs = 5\n",
    "\n",
    "x = []\n",
    "for i in range(n_obs):\n",
    "    x_tmp = transformer.fit_transform(X)\n",
    "    x_tmp = utils.standardise(x_tmp, norm='max')\n",
    "    x.append(x_tmp)\n",
    "    \n",
    "x_stacked = np.hstack(x)\n",
    "df = utils.to_pandas(x_stacked)"
   ]
  },
  {
   "cell_type": "markdown",
   "id": "16e3df7a",
   "metadata": {},
   "source": [
    "# Subsample phase portrait"
   ]
  },
  {
   "cell_type": "code",
   "execution_count": null,
   "id": "1abafd0b",
   "metadata": {},
   "outputs": [],
   "source": [
    "pos_subsample, vel_subsample = [], []\n",
    "for i in range(len(beta1)):\n",
    "    ind, _ = geometry.furthest_point_sampling(pos[i], stop_crit=0.001)\n",
    "    pos_subsample.append(pos[i][ind])\n",
    "    vel_subsample.append(vel[i][ind])"
   ]
  },
  {
   "cell_type": "code",
   "execution_count": null,
   "id": "a993c40b",
   "metadata": {},
   "outputs": [],
   "source": [
    "ax = plotting.trajectories(pos_subsample[0], style='o', lw=1, arrowhead=.03, arrow_spacing=7, axis=False, alpha=None)\n",
    "ax.axis('square')\n",
    "ax.set_xlim([-1,1])\n",
    "ax.set_ylim([-1,1])"
   ]
  },
  {
   "cell_type": "code",
   "execution_count": null,
   "id": "0381386c",
   "metadata": {},
   "outputs": [],
   "source": [
    "k=5\n",
    "data = utils.construct_dataset(pos_subsample, vel_subsample, graph_type='cknn', k=k)"
   ]
  },
  {
   "cell_type": "code",
   "execution_count": null,
   "id": "a7752709",
   "metadata": {},
   "outputs": [],
   "source": [
    "par = {'batch_size': 256, #batch size, this should be as large as possible\n",
    "       'epochs': 3, #optimisation epochs\n",
    "       'order': 2, #order of derivatives\n",
    "       'depth': 0, #number of hops in neighbourhood\n",
    "       'n_lin_layers': 2,\n",
    "       'hidden_channels': 16, #number of internal dimensions in MLP\n",
    "       'out_channels': 4,\n",
    "      }\n",
    "\n",
    "model = net(data, gauge='global', **par)\n",
    "model.run_training(data)\n",
    "model.evaluate(data)\n",
    "emb, clusters, dist = model.cluster_and_embed(n_clusters=n_clusters)\n",
    "emb_MDS = geometry.embed(dist, embed_typ='MDS')"
   ]
  },
  {
   "cell_type": "code",
   "execution_count": null,
   "id": "c83dd7a5",
   "metadata": {},
   "outputs": [],
   "source": []
  }
 ],
 "metadata": {
  "kernelspec": {
   "display_name": "Python 3 (ipykernel)",
   "language": "python",
   "name": "python3"
  },
  "language_info": {
   "codemirror_mode": {
    "name": "ipython",
    "version": 3
   },
   "file_extension": ".py",
   "mimetype": "text/x-python",
   "name": "python",
   "nbconvert_exporter": "python",
   "pygments_lexer": "ipython3",
   "version": "3.9.13"
  }
 },
 "nbformat": 4,
 "nbformat_minor": 5
}
