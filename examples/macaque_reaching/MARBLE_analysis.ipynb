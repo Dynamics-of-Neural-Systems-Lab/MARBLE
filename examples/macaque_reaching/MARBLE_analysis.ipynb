{
 "cells": [
  {
   "cell_type": "code",
   "execution_count": 10,
   "id": "548bcab0-211f-40d8-a5db-64b019299ef2",
   "metadata": {},
   "outputs": [
    {
     "name": "stdout",
     "output_type": "stream",
     "text": [
      "The autoreload extension is already loaded. To reload it, use:\n",
      "  %reload_ext autoreload\n"
     ]
    }
   ],
   "source": [
    "%load_ext autoreload\n",
    "%autoreload 2\n",
    "\n",
    "import pickle\n",
    "import sys\n",
    "import numpy as np\n",
    "from macaque_reaching_helpers import *\n",
    "import MARBLE"
   ]
  },
  {
   "cell_type": "code",
   "execution_count": 11,
   "id": "9fa23d36-98e3-4ef4-867e-28020be36a7d",
   "metadata": {},
   "outputs": [
    {
     "name": "stderr",
     "output_type": "stream",
     "text": [
      "File ‘data/rate_data_20ms.pkl’ already there; not retrieving.\n",
      "File ‘data/trial_ids.pkl’ already there; not retrieving.\n"
     ]
    },
    {
     "name": "stdout",
     "output_type": "stream",
     "text": [
      "5\n"
     ]
    }
   ],
   "source": [
    "\"\"\"fitting model for each day + pca embedding\"\"\"\n",
    "    \n",
    "data_file = \"data/rate_data_20ms.pkl\"\n",
    "metadata_file = \"data/trial_ids.pkl\"\n",
    "\n",
    "rates, trial_ids = load_data(data_file, metadata_file)\n",
    "\n",
    "# defining the set of conditions\n",
    "conditions = [\"DownLeft\", \"Left\", \"UpLeft\", \"Up\", \"UpRight\", \"Right\", \"DownRight\"]\n",
    "\n",
    "# list of days\n",
    "days = rates.keys()\n",
    "\n",
    "# define some parameters\n",
    "pca_n = 5\n",
    "filter_data = True\n",
    "\n",
    "# storing all distance matrices\n",
    "embeddings = []\n",
    "distance_matrices = []\n",
    "times = [] # to store the time point of each node in the trajectory\n",
    "all_condition_labels = [] # to store the condition label for each node\n",
    "all_trial_ids = [] # trial ids for each node\n",
    "all_sampled_ids = [] # to store all the nodes sampled by marble\n",
    "\n",
    "# loop over each day\n",
    "day = 5\n",
    "\n",
    "# first stack all trials from that day together and fit pca\n",
    "print(day)\n",
    "#pca = fit_pca(rates, day, conditions, filter_data=filter_data, pca_n=pca_n)\n",
    "pos, vel, timepoints, condition_labels, trial_indexes = format_data(rates, \n",
    "                                                                    trial_ids,\n",
    "                                                                    day, \n",
    "                                                                    conditions, \n",
    "                                                                    #pca=pca,\n",
    "                                                                    filter_data=filter_data)\n"
   ]
  },
  {
   "cell_type": "code",
   "execution_count": 12,
   "id": "b306f73b-cff7-4f7a-9933-50cff48f2000",
   "metadata": {},
   "outputs": [
    {
     "name": "stdout",
     "output_type": "stream",
     "text": [
      "\n",
      "---- Embedding dimension: 5\n",
      "---- Signal dimension: 5\n",
      "---- Computing kernels ... \n",
      "---- Settings: \n",
      "\n",
      "epochs : 120\n",
      "order : 2\n",
      "hidden_channels : [100]\n",
      "out_channels : 3\n",
      "inner_product_features : False\n",
      "vec_norm : False\n",
      "diffusion : True\n",
      "batch_size : 64\n",
      "lr : 0.01\n",
      "momentum : 0.9\n",
      "frac_sampled_nb : -1\n",
      "include_positions : False\n",
      "include_self : True\n",
      "dropout : 0.0\n",
      "bias : True\n",
      "batch_norm : batch_norm\n",
      "emb_norm : False\n",
      "seed : 0\n",
      "dim_signal : 5\n",
      "dim_emb : 5\n",
      "n_sampled_nb : -1\n",
      "\n",
      "---- Number of features to pass to the MLP:  155\n",
      "---- Total number of parameters:  16104\n",
      "\n",
      "Using device cuda:0\n",
      "\n",
      "---- Training network ...\n",
      "\n",
      "---- Timestamp: 20240424-175005\n",
      "\n",
      "Epoch: 0, Training loss: 1.335511, Validation loss: 1.3720, lr: 0.0100 *\n",
      "Epoch: 1, Training loss: 1.278198, Validation loss: 1.4691, lr: 0.0100\n",
      "Epoch: 2, Training loss: 1.230770, Validation loss: 1.2851, lr: 0.0100 *"
     ]
    },
    {
     "ename": "KeyboardInterrupt",
     "evalue": "",
     "output_type": "error",
     "traceback": [
      "\u001b[0;31m---------------------------------------------------------------------------\u001b[0m",
      "\u001b[0;31mKeyboardInterrupt\u001b[0m                         Traceback (most recent call last)",
      "Cell \u001b[0;32mIn[12], line 24\u001b[0m\n\u001b[1;32m     12\u001b[0m params \u001b[38;5;241m=\u001b[39m {\n\u001b[1;32m     13\u001b[0m     \u001b[38;5;124m\"\u001b[39m\u001b[38;5;124mepochs\u001b[39m\u001b[38;5;124m\"\u001b[39m: \u001b[38;5;241m120\u001b[39m,  \u001b[38;5;66;03m# optimisation epochs\u001b[39;00m\n\u001b[1;32m     14\u001b[0m     \u001b[38;5;124m\"\u001b[39m\u001b[38;5;124morder\u001b[39m\u001b[38;5;124m\"\u001b[39m: \u001b[38;5;241m2\u001b[39m,  \u001b[38;5;66;03m# order of derivatives\u001b[39;00m\n\u001b[0;32m   (...)\u001b[0m\n\u001b[1;32m     19\u001b[0m     \u001b[38;5;124m\"\u001b[39m\u001b[38;5;124mdiffusion\u001b[39m\u001b[38;5;124m\"\u001b[39m: \u001b[38;5;28;01mTrue\u001b[39;00m,\n\u001b[1;32m     20\u001b[0m }\n\u001b[1;32m     22\u001b[0m model \u001b[38;5;241m=\u001b[39m MARBLE\u001b[38;5;241m.\u001b[39mnet(data, params\u001b[38;5;241m=\u001b[39mparams)\n\u001b[0;32m---> 24\u001b[0m \u001b[43mmodel\u001b[49m\u001b[38;5;241;43m.\u001b[39;49m\u001b[43mfit\u001b[49m\u001b[43m(\u001b[49m\u001b[43mdata\u001b[49m\u001b[43m,\u001b[49m\u001b[43m \u001b[49m\u001b[43moutdir\u001b[49m\u001b[38;5;241;43m=\u001b[39;49m\u001b[38;5;124;43m\"\u001b[39;49m\u001b[38;5;124;43mdata/session_\u001b[39;49m\u001b[38;5;132;43;01m{}\u001b[39;49;00m\u001b[38;5;124;43m_20ms\u001b[39;49m\u001b[38;5;124;43m\"\u001b[39;49m\u001b[38;5;241;43m.\u001b[39;49m\u001b[43mformat\u001b[49m\u001b[43m(\u001b[49m\u001b[43mday\u001b[49m\u001b[43m)\u001b[49m\u001b[43m)\u001b[49m\n\u001b[1;32m     25\u001b[0m data \u001b[38;5;241m=\u001b[39m model\u001b[38;5;241m.\u001b[39mtransform(data)\n\u001b[1;32m     27\u001b[0m n_clusters \u001b[38;5;241m=\u001b[39m \u001b[38;5;241m50\u001b[39m\n",
      "File \u001b[0;32m/mnt/scratch/lts2/gosztolai/MARBLE/MARBLE/main.py:377\u001b[0m, in \u001b[0;36mnet.fit\u001b[0;34m(self, data, outdir, verbose)\u001b[0m\n\u001b[1;32m    372\u001b[0m \u001b[38;5;28;01mfor\u001b[39;00m epoch \u001b[38;5;129;01min\u001b[39;00m \u001b[38;5;28mrange\u001b[39m(\n\u001b[1;32m    373\u001b[0m     \u001b[38;5;28mself\u001b[39m\u001b[38;5;241m.\u001b[39mparams\u001b[38;5;241m.\u001b[39mget(\u001b[38;5;124m\"\u001b[39m\u001b[38;5;124mepoch\u001b[39m\u001b[38;5;124m\"\u001b[39m, \u001b[38;5;241m0\u001b[39m), \u001b[38;5;28mself\u001b[39m\u001b[38;5;241m.\u001b[39mparams\u001b[38;5;241m.\u001b[39mget(\u001b[38;5;124m\"\u001b[39m\u001b[38;5;124mepoch\u001b[39m\u001b[38;5;124m\"\u001b[39m, \u001b[38;5;241m0\u001b[39m) \u001b[38;5;241m+\u001b[39m \u001b[38;5;28mself\u001b[39m\u001b[38;5;241m.\u001b[39mparams[\u001b[38;5;124m\"\u001b[39m\u001b[38;5;124mepochs\u001b[39m\u001b[38;5;124m\"\u001b[39m]\n\u001b[1;32m    374\u001b[0m ):\n\u001b[1;32m    375\u001b[0m     \u001b[38;5;28mself\u001b[39m\u001b[38;5;241m.\u001b[39m_epoch \u001b[38;5;241m=\u001b[39m epoch\n\u001b[0;32m--> 377\u001b[0m     train_loss, optimizer \u001b[38;5;241m=\u001b[39m \u001b[38;5;28;43mself\u001b[39;49m\u001b[38;5;241;43m.\u001b[39;49m\u001b[43mbatch_loss\u001b[49m\u001b[43m(\u001b[49m\n\u001b[1;32m    378\u001b[0m \u001b[43m        \u001b[49m\u001b[43mdata\u001b[49m\u001b[43m,\u001b[49m\u001b[43m \u001b[49m\u001b[43mtrain_loader\u001b[49m\u001b[43m,\u001b[49m\u001b[43m \u001b[49m\u001b[43mtrain\u001b[49m\u001b[38;5;241;43m=\u001b[39;49m\u001b[38;5;28;43;01mTrue\u001b[39;49;00m\u001b[43m,\u001b[49m\u001b[43m \u001b[49m\u001b[43mverbose\u001b[49m\u001b[38;5;241;43m=\u001b[39;49m\u001b[43mverbose\u001b[49m\u001b[43m,\u001b[49m\u001b[43m \u001b[49m\u001b[43moptimizer\u001b[49m\u001b[38;5;241;43m=\u001b[39;49m\u001b[43moptimizer\u001b[49m\n\u001b[1;32m    379\u001b[0m \u001b[43m    \u001b[49m\u001b[43m)\u001b[49m\n\u001b[1;32m    380\u001b[0m     val_loss, _ \u001b[38;5;241m=\u001b[39m \u001b[38;5;28mself\u001b[39m\u001b[38;5;241m.\u001b[39mbatch_loss(data, val_loader, verbose\u001b[38;5;241m=\u001b[39mverbose)\n\u001b[1;32m    381\u001b[0m     scheduler\u001b[38;5;241m.\u001b[39mstep(train_loss)\n",
      "File \u001b[0;32m/mnt/scratch/lts2/gosztolai/MARBLE/MARBLE/main.py:321\u001b[0m, in \u001b[0;36mnet.batch_loss\u001b[0;34m(self, data, loader, train, verbose, optimizer)\u001b[0m\n\u001b[1;32m    318\u001b[0m _, n_id, adjs \u001b[38;5;241m=\u001b[39m batch\n\u001b[1;32m    319\u001b[0m adjs \u001b[38;5;241m=\u001b[39m [adj\u001b[38;5;241m.\u001b[39mto(data\u001b[38;5;241m.\u001b[39mx\u001b[38;5;241m.\u001b[39mdevice) \u001b[38;5;28;01mfor\u001b[39;00m adj \u001b[38;5;129;01min\u001b[39;00m utils\u001b[38;5;241m.\u001b[39mto_list(adjs)]\n\u001b[0;32m--> 321\u001b[0m emb, mask \u001b[38;5;241m=\u001b[39m \u001b[38;5;28;43mself\u001b[39;49m\u001b[38;5;241;43m.\u001b[39;49m\u001b[43mforward\u001b[49m\u001b[43m(\u001b[49m\u001b[43mdata\u001b[49m\u001b[43m,\u001b[49m\u001b[43m \u001b[49m\u001b[43mn_id\u001b[49m\u001b[43m,\u001b[49m\u001b[43m \u001b[49m\u001b[43madjs\u001b[49m\u001b[43m)\u001b[49m\n\u001b[1;32m    322\u001b[0m loss \u001b[38;5;241m=\u001b[39m \u001b[38;5;28mself\u001b[39m\u001b[38;5;241m.\u001b[39mloss(emb, mask)\n\u001b[1;32m    323\u001b[0m cum_loss \u001b[38;5;241m+\u001b[39m\u001b[38;5;241m=\u001b[39m \u001b[38;5;28mfloat\u001b[39m(loss)\n",
      "File \u001b[0;32m/mnt/scratch/lts2/gosztolai/MARBLE/MARBLE/main.py:244\u001b[0m, in \u001b[0;36mnet.forward\u001b[0;34m(self, data, n_id, adjs)\u001b[0m\n\u001b[1;32m    242\u001b[0m     out \u001b[38;5;241m=\u001b[39m []\n\u001b[1;32m    243\u001b[0m \u001b[38;5;28;01mfor\u001b[39;00m i, (_, _, size) \u001b[38;5;129;01min\u001b[39;00m \u001b[38;5;28menumerate\u001b[39m(adjs):\n\u001b[0;32m--> 244\u001b[0m     kernels \u001b[38;5;241m=\u001b[39m [K[n_id[: size[\u001b[38;5;241m1\u001b[39m] \u001b[38;5;241m*\u001b[39m d], :][:, n_id[: size[\u001b[38;5;241m0\u001b[39m] \u001b[38;5;241m*\u001b[39m d]] \u001b[38;5;28;01mfor\u001b[39;00m K \u001b[38;5;129;01min\u001b[39;00m data\u001b[38;5;241m.\u001b[39mkernels]\n\u001b[1;32m    246\u001b[0m     x \u001b[38;5;241m=\u001b[39m \u001b[38;5;28mself\u001b[39m\u001b[38;5;241m.\u001b[39mgrad[i](x, kernels)\n\u001b[1;32m    248\u001b[0m     \u001b[38;5;28;01mif\u001b[39;00m \u001b[38;5;28mself\u001b[39m\u001b[38;5;241m.\u001b[39mparams[\u001b[38;5;124m\"\u001b[39m\u001b[38;5;124mvec_norm\u001b[39m\u001b[38;5;124m\"\u001b[39m]:\n",
      "File \u001b[0;32m/mnt/scratch/lts2/gosztolai/MARBLE/MARBLE/main.py:244\u001b[0m, in \u001b[0;36m<listcomp>\u001b[0;34m(.0)\u001b[0m\n\u001b[1;32m    242\u001b[0m     out \u001b[38;5;241m=\u001b[39m []\n\u001b[1;32m    243\u001b[0m \u001b[38;5;28;01mfor\u001b[39;00m i, (_, _, size) \u001b[38;5;129;01min\u001b[39;00m \u001b[38;5;28menumerate\u001b[39m(adjs):\n\u001b[0;32m--> 244\u001b[0m     kernels \u001b[38;5;241m=\u001b[39m [\u001b[43mK\u001b[49m\u001b[43m[\u001b[49m\u001b[43mn_id\u001b[49m\u001b[43m[\u001b[49m\u001b[43m:\u001b[49m\u001b[43m \u001b[49m\u001b[43msize\u001b[49m\u001b[43m[\u001b[49m\u001b[38;5;241;43m1\u001b[39;49m\u001b[43m]\u001b[49m\u001b[43m \u001b[49m\u001b[38;5;241;43m*\u001b[39;49m\u001b[43m \u001b[49m\u001b[43md\u001b[49m\u001b[43m]\u001b[49m\u001b[43m,\u001b[49m\u001b[43m \u001b[49m\u001b[43m:\u001b[49m\u001b[43m]\u001b[49m\u001b[43m[\u001b[49m\u001b[43m:\u001b[49m\u001b[43m,\u001b[49m\u001b[43m \u001b[49m\u001b[43mn_id\u001b[49m\u001b[43m[\u001b[49m\u001b[43m:\u001b[49m\u001b[43m \u001b[49m\u001b[43msize\u001b[49m\u001b[43m[\u001b[49m\u001b[38;5;241;43m0\u001b[39;49m\u001b[43m]\u001b[49m\u001b[43m \u001b[49m\u001b[38;5;241;43m*\u001b[39;49m\u001b[43m \u001b[49m\u001b[43md\u001b[49m\u001b[43m]\u001b[49m\u001b[43m]\u001b[49m \u001b[38;5;28;01mfor\u001b[39;00m K \u001b[38;5;129;01min\u001b[39;00m data\u001b[38;5;241m.\u001b[39mkernels]\n\u001b[1;32m    246\u001b[0m     x \u001b[38;5;241m=\u001b[39m \u001b[38;5;28mself\u001b[39m\u001b[38;5;241m.\u001b[39mgrad[i](x, kernels)\n\u001b[1;32m    248\u001b[0m     \u001b[38;5;28;01mif\u001b[39;00m \u001b[38;5;28mself\u001b[39m\u001b[38;5;241m.\u001b[39mparams[\u001b[38;5;124m\"\u001b[39m\u001b[38;5;124mvec_norm\u001b[39m\u001b[38;5;124m\"\u001b[39m]:\n",
      "File \u001b[0;32m/mnt/scratch/lts2/gosztolai/miniconda3/envs/MARBLE/lib/python3.9/site-packages/torch_sparse/tensor.py:585\u001b[0m, in \u001b[0;36m__getitem__\u001b[0;34m(self, index)\u001b[0m\n\u001b[1;32m    583\u001b[0m         dim \u001b[38;5;241m+\u001b[39m\u001b[38;5;241m=\u001b[39m \u001b[38;5;241m1\u001b[39m\n\u001b[1;32m    584\u001b[0m     \u001b[38;5;28;01melif\u001b[39;00m item\u001b[38;5;241m.\u001b[39mdtype \u001b[38;5;241m==\u001b[39m torch\u001b[38;5;241m.\u001b[39mlong:\n\u001b[0;32m--> 585\u001b[0m         out \u001b[38;5;241m=\u001b[39m \u001b[43mout\u001b[49m\u001b[38;5;241;43m.\u001b[39;49m\u001b[43mindex_select\u001b[49m\u001b[43m(\u001b[49m\u001b[43mdim\u001b[49m\u001b[43m,\u001b[49m\u001b[43m \u001b[49m\u001b[43mitem\u001b[49m\u001b[43m)\u001b[49m\n\u001b[1;32m    586\u001b[0m         dim \u001b[38;5;241m+\u001b[39m\u001b[38;5;241m=\u001b[39m \u001b[38;5;241m1\u001b[39m\n\u001b[1;32m    587\u001b[0m \u001b[38;5;28;01melif\u001b[39;00m item \u001b[38;5;241m==\u001b[39m \u001b[38;5;28mEllipsis\u001b[39m:\n",
      "File \u001b[0;32m/mnt/scratch/lts2/gosztolai/miniconda3/envs/MARBLE/lib/python3.9/site-packages/torch_sparse/index_select.py:98\u001b[0m, in \u001b[0;36m<lambda>\u001b[0;34m(self, dim, idx)\u001b[0m\n\u001b[1;32m     92\u001b[0m         value \u001b[38;5;241m=\u001b[39m value[idx]\n\u001b[1;32m     94\u001b[0m     \u001b[38;5;28;01mreturn\u001b[39;00m SparseTensor(row\u001b[38;5;241m=\u001b[39mrow, rowptr\u001b[38;5;241m=\u001b[39m\u001b[38;5;28;01mNone\u001b[39;00m, col\u001b[38;5;241m=\u001b[39mcol, value\u001b[38;5;241m=\u001b[39mvalue,\n\u001b[1;32m     95\u001b[0m                         sparse_sizes\u001b[38;5;241m=\u001b[39msrc\u001b[38;5;241m.\u001b[39msparse_sizes(), is_sorted\u001b[38;5;241m=\u001b[39m\u001b[38;5;28;01mTrue\u001b[39;00m)\n\u001b[0;32m---> 98\u001b[0m SparseTensor\u001b[38;5;241m.\u001b[39mindex_select \u001b[38;5;241m=\u001b[39m \u001b[38;5;28;01mlambda\u001b[39;00m \u001b[38;5;28mself\u001b[39m, dim, idx: \u001b[43mindex_select\u001b[49m\u001b[43m(\u001b[49m\u001b[38;5;28;43mself\u001b[39;49m\u001b[43m,\u001b[49m\u001b[43m \u001b[49m\u001b[43mdim\u001b[49m\u001b[43m,\u001b[49m\u001b[43m \u001b[49m\u001b[43midx\u001b[49m\u001b[43m)\u001b[49m\n\u001b[1;32m     99\u001b[0m tmp \u001b[38;5;241m=\u001b[39m \u001b[38;5;28;01mlambda\u001b[39;00m \u001b[38;5;28mself\u001b[39m, idx, layout\u001b[38;5;241m=\u001b[39m\u001b[38;5;28;01mNone\u001b[39;00m: index_select_nnz(  \u001b[38;5;66;03m# noqa\u001b[39;00m\n\u001b[1;32m    100\u001b[0m     \u001b[38;5;28mself\u001b[39m, idx, layout)\n\u001b[1;32m    101\u001b[0m SparseTensor\u001b[38;5;241m.\u001b[39mindex_select_nnz \u001b[38;5;241m=\u001b[39m tmp\n",
      "File \u001b[0;32m/mnt/scratch/lts2/gosztolai/miniconda3/envs/MARBLE/lib/python3.9/site-packages/torch_sparse/index_select.py:46\u001b[0m, in \u001b[0;36mindex_select\u001b[0;34m(src, dim, idx)\u001b[0m\n\u001b[1;32m     43\u001b[0m old_colptr, row, value \u001b[38;5;241m=\u001b[39m src\u001b[38;5;241m.\u001b[39mcsc()\n\u001b[1;32m     44\u001b[0m colcount \u001b[38;5;241m=\u001b[39m src\u001b[38;5;241m.\u001b[39mstorage\u001b[38;5;241m.\u001b[39mcolcount()\n\u001b[0;32m---> 46\u001b[0m colcount \u001b[38;5;241m=\u001b[39m \u001b[43mcolcount\u001b[49m\u001b[43m[\u001b[49m\u001b[43midx\u001b[49m\u001b[43m]\u001b[49m\n\u001b[1;32m     48\u001b[0m colptr \u001b[38;5;241m=\u001b[39m row\u001b[38;5;241m.\u001b[39mnew_zeros(idx\u001b[38;5;241m.\u001b[39msize(\u001b[38;5;241m0\u001b[39m) \u001b[38;5;241m+\u001b[39m \u001b[38;5;241m1\u001b[39m)\n\u001b[1;32m     49\u001b[0m torch\u001b[38;5;241m.\u001b[39mcumsum(colcount, dim\u001b[38;5;241m=\u001b[39m\u001b[38;5;241m0\u001b[39m, out\u001b[38;5;241m=\u001b[39mcolptr[\u001b[38;5;241m1\u001b[39m:])\n",
      "\u001b[0;31mKeyboardInterrupt\u001b[0m: "
     ]
    }
   ],
   "source": [
    "# construct data for marble\n",
    "data = MARBLE.construct_dataset(\n",
    "    anchor=pos,\n",
    "    vector=vel,\n",
    "    k=30,\n",
    "    spacing=0.05,\n",
    "    delta=1.5,\n",
    "    pca_dim=pca_n,\n",
    "    #metric='cityblock'\n",
    ")\n",
    "\n",
    "params = {\n",
    "    \"epochs\": 120,  # optimisation epochs\n",
    "    \"order\": 2,  # order of derivatives\n",
    "    \"hidden_channels\": 100,  # number of internal dimensions in MLP\n",
    "    \"out_channels\": 3, # or 3 for Fig3\n",
    "    \"inner_product_features\": False,\n",
    "    \"vec_norm\": False,\n",
    "    \"diffusion\": True,\n",
    "}\n",
    "\n",
    "model = MARBLE.net(data, params=params)\n",
    "\n",
    "model.fit(data, outdir=\"data/session_{}_20ms\".format(day))\n",
    "data = model.transform(data)\n",
    "\n",
    "n_clusters = 50\n",
    "data = MARBLE.distribution_distances(data, n_clusters=n_clusters)\n",
    "\n",
    "embeddings.append(data.emb)\n",
    "distance_matrices.append(data.dist)\n",
    "times.append(np.hstack(timepoints))\n",
    "all_condition_labels.append(data.y)\n",
    "all_trial_ids.append(np.hstack(trial_indexes))\n",
    "all_sampled_ids.append(data.sample_ind)\n",
    "\n",
    "# save over after each session (incase computations crash)\n",
    "with open(\"data/marble_embeddings_20ms_out3.pkl\", \"wb\") as handle:\n",
    "    pickle.dump(\n",
    "        [\n",
    "            distance_matrices,\n",
    "            embeddings,\n",
    "            times,\n",
    "            all_condition_labels,\n",
    "            all_trial_ids,\n",
    "            all_sampled_ids,\n",
    "        ],\n",
    "        handle,\n",
    "        protocol=pickle.HIGHEST_PROTOCOL,\n",
    "    )"
   ]
  },
  {
   "cell_type": "code",
   "execution_count": null,
   "id": "ead8b0aa-5b3c-4bdb-bca8-76e25b2cec2a",
   "metadata": {},
   "outputs": [],
   "source": []
  }
 ],
 "metadata": {
  "kernelspec": {
   "display_name": "Python 3 (ipykernel)",
   "language": "python",
   "name": "python3"
  },
  "language_info": {
   "codemirror_mode": {
    "name": "ipython",
    "version": 3
   },
   "file_extension": ".py",
   "mimetype": "text/x-python",
   "name": "python",
   "nbconvert_exporter": "python",
   "pygments_lexer": "ipython3",
   "version": "3.9.13"
  }
 },
 "nbformat": 4,
 "nbformat_minor": 5
}
