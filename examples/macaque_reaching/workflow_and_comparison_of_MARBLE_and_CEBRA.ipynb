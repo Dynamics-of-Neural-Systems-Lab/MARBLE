{
 "cells": [
  {
   "cell_type": "markdown",
   "id": "a700a730-16ad-4571-8507-5afe7f029d7b",
   "metadata": {},
   "source": [
    "# Example workflow and comparison between MARBLE with CEBRA"
   ]
  },
  {
   "cell_type": "code",
   "execution_count": 32,
   "id": "33158156-a63b-4dc7-8ab1-ef0b0986bf88",
   "metadata": {},
   "outputs": [
    {
     "name": "stdout",
     "output_type": "stream",
     "text": [
      "The autoreload extension is already loaded. To reload it, use:\n",
      "  %reload_ext autoreload\n",
      "Requirement already satisfied: cebra in /Users/adamgosztolai/mambaforge3/envs/MARBLE/lib/python3.9/site-packages (0.4.0)\n",
      "Requirement already satisfied: joblib in /Users/adamgosztolai/mambaforge3/envs/MARBLE/lib/python3.9/site-packages (from cebra) (1.4.2)\n",
      "Requirement already satisfied: literate-dataclasses in /Users/adamgosztolai/mambaforge3/envs/MARBLE/lib/python3.9/site-packages (from cebra) (0.0.6)\n",
      "Requirement already satisfied: scikit-learn in /Users/adamgosztolai/mambaforge3/envs/MARBLE/lib/python3.9/site-packages (from cebra) (1.3.0)\n",
      "Requirement already satisfied: scipy in /Users/adamgosztolai/mambaforge3/envs/MARBLE/lib/python3.9/site-packages (from cebra) (1.11.3)\n",
      "Requirement already satisfied: torch in /Users/adamgosztolai/mambaforge3/envs/MARBLE/lib/python3.9/site-packages (from cebra) (1.12.1)\n",
      "Requirement already satisfied: tqdm in /Users/adamgosztolai/mambaforge3/envs/MARBLE/lib/python3.9/site-packages (from cebra) (4.65.0)\n",
      "Requirement already satisfied: matplotlib in /Users/adamgosztolai/mambaforge3/envs/MARBLE/lib/python3.9/site-packages (from cebra) (3.7.2)\n",
      "Requirement already satisfied: requests in /Users/adamgosztolai/mambaforge3/envs/MARBLE/lib/python3.9/site-packages (from cebra) (2.31.0)\n",
      "Requirement already satisfied: contourpy>=1.0.1 in /Users/adamgosztolai/mambaforge3/envs/MARBLE/lib/python3.9/site-packages (from matplotlib->cebra) (1.0.5)\n",
      "Requirement already satisfied: cycler>=0.10 in /Users/adamgosztolai/mambaforge3/envs/MARBLE/lib/python3.9/site-packages (from matplotlib->cebra) (0.11.0)\n",
      "Requirement already satisfied: fonttools>=4.22.0 in /Users/adamgosztolai/mambaforge3/envs/MARBLE/lib/python3.9/site-packages (from matplotlib->cebra) (4.25.0)\n",
      "Requirement already satisfied: kiwisolver>=1.0.1 in /Users/adamgosztolai/mambaforge3/envs/MARBLE/lib/python3.9/site-packages (from matplotlib->cebra) (1.4.4)\n",
      "Requirement already satisfied: numpy>=1.20 in /Users/adamgosztolai/mambaforge3/envs/MARBLE/lib/python3.9/site-packages (from matplotlib->cebra) (1.26.0)\n",
      "Requirement already satisfied: packaging>=20.0 in /Users/adamgosztolai/mambaforge3/envs/MARBLE/lib/python3.9/site-packages (from matplotlib->cebra) (23.1)\n",
      "Requirement already satisfied: pillow>=6.2.0 in /Users/adamgosztolai/mambaforge3/envs/MARBLE/lib/python3.9/site-packages (from matplotlib->cebra) (10.0.1)\n",
      "Requirement already satisfied: pyparsing<3.1,>=2.3.1 in /Users/adamgosztolai/mambaforge3/envs/MARBLE/lib/python3.9/site-packages (from matplotlib->cebra) (3.0.9)\n",
      "Requirement already satisfied: python-dateutil>=2.7 in /Users/adamgosztolai/mambaforge3/envs/MARBLE/lib/python3.9/site-packages (from matplotlib->cebra) (2.8.2)\n",
      "Requirement already satisfied: importlib-resources>=3.2.0 in /Users/adamgosztolai/mambaforge3/envs/MARBLE/lib/python3.9/site-packages (from matplotlib->cebra) (5.2.0)\n",
      "Requirement already satisfied: charset-normalizer<4,>=2 in /Users/adamgosztolai/mambaforge3/envs/MARBLE/lib/python3.9/site-packages (from requests->cebra) (2.0.4)\n",
      "Requirement already satisfied: idna<4,>=2.5 in /Users/adamgosztolai/mambaforge3/envs/MARBLE/lib/python3.9/site-packages (from requests->cebra) (3.4)\n",
      "Requirement already satisfied: urllib3<3,>=1.21.1 in /Users/adamgosztolai/mambaforge3/envs/MARBLE/lib/python3.9/site-packages (from requests->cebra) (1.26.16)\n",
      "Requirement already satisfied: certifi>=2017.4.17 in /Users/adamgosztolai/mambaforge3/envs/MARBLE/lib/python3.9/site-packages (from requests->cebra) (2024.8.30)\n",
      "Requirement already satisfied: threadpoolctl>=2.0.0 in /Users/adamgosztolai/mambaforge3/envs/MARBLE/lib/python3.9/site-packages (from scikit-learn->cebra) (3.5.0)\n",
      "Requirement already satisfied: typing_extensions in /Users/adamgosztolai/mambaforge3/envs/MARBLE/lib/python3.9/site-packages (from torch->cebra) (4.7.1)\n",
      "Requirement already satisfied: zipp>=3.1.0 in /Users/adamgosztolai/mambaforge3/envs/MARBLE/lib/python3.9/site-packages (from importlib-resources>=3.2.0->matplotlib->cebra) (3.20.2)\n",
      "Requirement already satisfied: six>=1.5 in /Users/adamgosztolai/mambaforge3/envs/MARBLE/lib/python3.9/site-packages (from python-dateutil>=2.7->matplotlib->cebra) (1.16.0)\n"
     ]
    }
   ],
   "source": [
    "%load_ext autoreload\n",
    "%autoreload 2\n",
    "\n",
    "#import matplotlib.pyplot as plt\n",
    "import numpy as np\n",
    "#import pandas as pd\n",
    "import pickle\n",
    "#import seaborn as sns\n",
    "#from statannotations.Annotator import Annotator\n",
    "#from sklearn.model_selection import KFold\n",
    "from macaque_reaching_helpers import fit_pca, format_data\n",
    "#from tqdm import tqdm\n",
    "\n",
    "import MARBLE\n",
    "\n",
    "!pip install cebra\n",
    "from cebra import CEBRA"
   ]
  },
  {
   "cell_type": "markdown",
   "id": "67c8f05c-c18d-4be4-b71d-4a7de237e68b",
   "metadata": {},
   "source": [
    "## Load data"
   ]
  },
  {
   "cell_type": "markdown",
   "id": "119f22a5-f780-48ed-ae05-0937fed60ddc",
   "metadata": {},
   "source": [
    "This part is data specific and you will need to adapt it to your own dataset."
   ]
  },
  {
   "cell_type": "code",
   "execution_count": 16,
   "id": "03b7a91c-617e-4070-8525-abd7aabcadec",
   "metadata": {},
   "outputs": [
    {
     "name": "stdout",
     "output_type": "stream",
     "text": [
      "File ‘data/rate_data_20ms_100ms.pkl’ already there; not retrieving.\n",
      "File ‘data/trial_ids.pkl’ already there; not retrieving.\n"
     ]
    }
   ],
   "source": [
    "!wget -nc https://dataverse.harvard.edu/api/access/datafile/6969883 -O data/rate_data_20ms_100ms.pkl\n",
    "\n",
    "with open('data/rate_data_20ms_100ms.pkl', 'rb') as handle:\n",
    "    rates = pickle.load(handle)\n",
    "\n",
    "!wget -nc https://dataverse.harvard.edu/api/access/datafile/6963200 -O data/trial_ids.pkl\n",
    "\n",
    "with open('data/trial_ids.pkl', 'rb') as handle:\n",
    "    trial_ids = pickle.load(handle)\n",
    "\n",
    "conditions = [\"DownLeft\", \"Left\", \"UpLeft\", \"Up\", \"UpRight\", \"Right\", \"DownRight\"]"
   ]
  },
  {
   "cell_type": "markdown",
   "id": "135c737c-7ba5-47d2-9d20-90d4a7b8f50a",
   "metadata": {},
   "source": [
    "## Linear dimensionality reduction and filtering of data. "
   ]
  },
  {
   "cell_type": "code",
   "execution_count": 30,
   "id": "2b9b0b28-eb95-4f34-9afb-5d08a9ba88fe",
   "metadata": {},
   "outputs": [],
   "source": [
    "pca_n = 5\n",
    "filter_data = True\n",
    "day = 5 #load one session\n",
    "\n",
    "pca = fit_pca(rates, day, conditions, filter_data=filter_data, pca_n=pca_n)\n",
    "        \n",
    "pos, vel, timepoints, condition_labels, trial_indexes = format_data(rates, \n",
    "                                                                    trial_ids,\n",
    "                                                                    day, \n",
    "                                                                    conditions, \n",
    "                                                                    pca=pca,\n",
    "                                                                    filter_data=filter_data)"
   ]
  },
  {
   "cell_type": "markdown",
   "id": "b0dcca1b-c74a-4726-a70e-2a63f85d6db4",
   "metadata": {},
   "source": [
    "## Run CEBRA"
   ]
  },
  {
   "cell_type": "code",
   "execution_count": 29,
   "id": "de9b27b6-81a6-4d01-8c29-1f15122fb823",
   "metadata": {},
   "outputs": [
    {
     "name": "stderr",
     "output_type": "stream",
     "text": [
      "pos:  0.3790 neg:  5.1307 total:  5.5096 temperature:  1.0000: 100%|█| 5000/5000\n"
     ]
    }
   ],
   "source": [
    "cebra_model = CEBRA(model_architecture='offset10-model',\n",
    "                    batch_size=512,\n",
    "                    learning_rate=0.0001,\n",
    "                    temperature=1,\n",
    "                    output_dimension=3,\n",
    "                    max_iterations=5000,\n",
    "                    distance='euclidean',\n",
    "                    conditional='time_delta',\n",
    "                    device='cpu',\n",
    "                    verbose=True,\n",
    "                    time_offsets=10)\n",
    "\n",
    "pos_all = np.vstack(pos)\n",
    "condition_labels = np.hstack(condition_labels)\n",
    "        \n",
    "cebra_model.fit(pos_all, condition_labels)\n",
    "cebra_pos = cebra_model.transform(pos_all)"
   ]
  },
  {
   "cell_type": "markdown",
   "id": "c2eae737-f1b4-41ba-9c56-4e5f0cf7743f",
   "metadata": {},
   "source": [
    "## Run MARBLE"
   ]
  },
  {
   "cell_type": "code",
   "execution_count": 33,
   "id": "b16f9b30-916f-4a3a-800e-2b4a46135aaf",
   "metadata": {},
   "outputs": [
    {
     "name": "stdout",
     "output_type": "stream",
     "text": [
      "\n",
      "---- Embedding dimension: 5\n",
      "---- Signal dimension: 5\n",
      "---- Computing kernels ... \n",
      "---- Computing eigendecomposition ... \n",
      "---- Settings: \n",
      "\n",
      "epochs : 120\n",
      "order : 2\n",
      "hidden_channels : [100]\n",
      "out_channels : 3\n",
      "inner_product_features : False\n",
      "diffusion : True\n",
      "batch_size : 32\n",
      "lr : 0.01\n",
      "momentum : 0.9\n",
      "dropout : 0.0\n",
      "batch_norm : batch_norm\n",
      "bias : True\n",
      "architecture : GAT\n",
      "GAT_hidden_layers : 50\n",
      "GAT_attention_heads : 1\n",
      "align_datasets : True\n",
      "frac_sampled_nb : -1\n",
      "include_positions : False\n",
      "include_self : True\n",
      "vec_norm : False\n",
      "emb_norm : False\n",
      "seed : 0\n",
      "dim_signal : 5\n",
      "dim_emb : 5\n",
      "slices : tensor([    0,  2278,  4488,  6596,  8568, 10812, 12954, 15130])\n",
      "n_sampled_nb : -1\n",
      "\n",
      "---- Number of features to pass to the MLP:  15\n",
      "---- Total number of parameters:  1911\n",
      "\n",
      "Using device cpu\n",
      "\n",
      "---- Training network ...\n",
      "\n",
      "---- Timestamp: 20241104-112714\n",
      "\n",
      "\n",
      "Representation alignment\n"
     ]
    },
    {
     "ename": "RuntimeError",
     "evalue": "mat1 and mat2 shapes cannot be multiplied (2210x5 and 2x2)",
     "output_type": "error",
     "traceback": [
      "\u001b[0;31m---------------------------------------------------------------------------\u001b[0m",
      "\u001b[0;31mRuntimeError\u001b[0m                              Traceback (most recent call last)",
      "Cell \u001b[0;32mIn[33], line 20\u001b[0m\n\u001b[1;32m      9\u001b[0m params \u001b[38;5;241m=\u001b[39m {\n\u001b[1;32m     10\u001b[0m     \u001b[38;5;124m\"\u001b[39m\u001b[38;5;124mepochs\u001b[39m\u001b[38;5;124m\"\u001b[39m: \u001b[38;5;241m120\u001b[39m,  \u001b[38;5;66;03m# optimisation epochs\u001b[39;00m\n\u001b[1;32m     11\u001b[0m     \u001b[38;5;124m\"\u001b[39m\u001b[38;5;124morder\u001b[39m\u001b[38;5;124m\"\u001b[39m: \u001b[38;5;241m2\u001b[39m,  \u001b[38;5;66;03m# order of derivatives\u001b[39;00m\n\u001b[0;32m   (...)\u001b[0m\n\u001b[1;32m     15\u001b[0m     \u001b[38;5;124m\"\u001b[39m\u001b[38;5;124mdiffusion\u001b[39m\u001b[38;5;124m\"\u001b[39m: \u001b[38;5;28;01mTrue\u001b[39;00m,\n\u001b[1;32m     16\u001b[0m }\n\u001b[1;32m     18\u001b[0m model \u001b[38;5;241m=\u001b[39m MARBLE\u001b[38;5;241m.\u001b[39mnet(data, params\u001b[38;5;241m=\u001b[39mparams)\n\u001b[0;32m---> 20\u001b[0m \u001b[43mmodel\u001b[49m\u001b[38;5;241;43m.\u001b[39;49m\u001b[43mfit\u001b[49m\u001b[43m(\u001b[49m\u001b[43mdata\u001b[49m\u001b[43m,\u001b[49m\u001b[43m \u001b[49m\u001b[43moutdir\u001b[49m\u001b[38;5;241;43m=\u001b[39;49m\u001b[38;5;124;43m\"\u001b[39;49m\u001b[38;5;124;43mdata/session_\u001b[39;49m\u001b[38;5;132;43;01m{}\u001b[39;49;00m\u001b[38;5;124;43m_20ms\u001b[39;49m\u001b[38;5;124;43m\"\u001b[39;49m\u001b[38;5;241;43m.\u001b[39;49m\u001b[43mformat\u001b[49m\u001b[43m(\u001b[49m\u001b[43mday\u001b[49m\u001b[43m)\u001b[49m\u001b[43m)\u001b[49m\n\u001b[1;32m     21\u001b[0m data \u001b[38;5;241m=\u001b[39m model\u001b[38;5;241m.\u001b[39mtransform(data)\n",
      "File \u001b[0;32m~/mambaforge3/envs/MARBLE/lib/python3.9/site-packages/MARBLE/main.py:529\u001b[0m, in \u001b[0;36mnet.fit\u001b[0;34m(self, data, outdir, verbose)\u001b[0m\n\u001b[1;32m    525\u001b[0m     \u001b[38;5;66;03m# print(n,p)\u001b[39;00m\n\u001b[1;32m    527\u001b[0m optimizer_ali \u001b[38;5;241m=\u001b[39m opt\u001b[38;5;241m.\u001b[39mSGD(\u001b[38;5;28mfilter\u001b[39m(\u001b[38;5;28;01mlambda\u001b[39;00m p: p\u001b[38;5;241m.\u001b[39mrequires_grad, \u001b[38;5;28mself\u001b[39m\u001b[38;5;241m.\u001b[39mparameters()), lr\u001b[38;5;241m=\u001b[39m\u001b[38;5;241m0.1\u001b[39m, momentum\u001b[38;5;241m=\u001b[39m\u001b[38;5;241m0.9\u001b[39m)\n\u001b[0;32m--> 529\u001b[0m optimizer_ali, losses, outdir \u001b[38;5;241m=\u001b[39m \u001b[38;5;28;43mself\u001b[39;49m\u001b[38;5;241;43m.\u001b[39;49m\u001b[43moptimisation_loop\u001b[49m\u001b[43m(\u001b[49m\n\u001b[1;32m    530\u001b[0m \u001b[43m    \u001b[49m\u001b[43mdata\u001b[49m\u001b[43m,\u001b[49m\u001b[43m \u001b[49m\u001b[43mtrain_loader\u001b[49m\u001b[43m,\u001b[49m\u001b[43m \u001b[49m\u001b[43mval_loader\u001b[49m\u001b[43m,\u001b[49m\u001b[43m \u001b[49m\u001b[38;5;28;43mself\u001b[39;49m\u001b[38;5;241;43m.\u001b[39;49m\u001b[43malignment_loss\u001b[49m\u001b[43m,\u001b[49m\u001b[43m \u001b[49m\u001b[43moptimizer_ali\u001b[49m\u001b[43m,\u001b[49m\u001b[43m \u001b[49m\u001b[43moutdir\u001b[49m\u001b[38;5;241;43m=\u001b[39;49m\u001b[43moutdir\u001b[49m\u001b[43m,\u001b[49m\u001b[43m \u001b[49m\u001b[43mverbose\u001b[49m\u001b[38;5;241;43m=\u001b[39;49m\u001b[43mverbose\u001b[49m\n\u001b[1;32m    531\u001b[0m \u001b[43m\u001b[49m\u001b[43m)\u001b[49m\n\u001b[1;32m    534\u001b[0m \u001b[38;5;66;03m# Representation learning\u001b[39;00m\n\u001b[1;32m    535\u001b[0m \u001b[38;5;28mprint\u001b[39m(\u001b[38;5;124m'\u001b[39m\u001b[38;5;130;01m\\n\u001b[39;00m\u001b[38;5;130;01m\\n\u001b[39;00m\u001b[38;5;124mRepresentation learning\u001b[39m\u001b[38;5;124m'\u001b[39m)\n",
      "File \u001b[0;32m~/mambaforge3/envs/MARBLE/lib/python3.9/site-packages/MARBLE/main.py:455\u001b[0m, in \u001b[0;36mnet.optimisation_loop\u001b[0;34m(self, data, train_loader, val_loader, loss_fn, optimizer, scheduler, outdir, verbose)\u001b[0m\n\u001b[1;32m    452\u001b[0m \u001b[38;5;28mself\u001b[39m\u001b[38;5;241m.\u001b[39m_epoch \u001b[38;5;241m=\u001b[39m epoch\n\u001b[1;32m    454\u001b[0m \u001b[38;5;66;03m# Training loss calculation\u001b[39;00m\n\u001b[0;32m--> 455\u001b[0m train_loss, optimizer \u001b[38;5;241m=\u001b[39m \u001b[38;5;28;43mself\u001b[39;49m\u001b[38;5;241;43m.\u001b[39;49m\u001b[43mbatch_loss\u001b[49m\u001b[43m(\u001b[49m\n\u001b[1;32m    456\u001b[0m \u001b[43m    \u001b[49m\u001b[43mdata\u001b[49m\u001b[43m,\u001b[49m\u001b[43m \u001b[49m\u001b[43mtrain_loader\u001b[49m\u001b[43m,\u001b[49m\u001b[43m \u001b[49m\u001b[43mloss_fn\u001b[49m\u001b[43m,\u001b[49m\u001b[43m \u001b[49m\u001b[43mtrain\u001b[49m\u001b[38;5;241;43m=\u001b[39;49m\u001b[38;5;28;43;01mTrue\u001b[39;49;00m\u001b[43m,\u001b[49m\u001b[43m \u001b[49m\u001b[43mverbose\u001b[49m\u001b[38;5;241;43m=\u001b[39;49m\u001b[43mverbose\u001b[49m\u001b[43m,\u001b[49m\u001b[43m \u001b[49m\u001b[43moptimizer\u001b[49m\u001b[38;5;241;43m=\u001b[39;49m\u001b[43moptimizer\u001b[49m\n\u001b[1;32m    457\u001b[0m \u001b[43m\u001b[49m\u001b[43m)\u001b[49m\n\u001b[1;32m    459\u001b[0m \u001b[38;5;66;03m# Validation loss calculation\u001b[39;00m\n\u001b[1;32m    460\u001b[0m val_loss, _ \u001b[38;5;241m=\u001b[39m \u001b[38;5;28mself\u001b[39m\u001b[38;5;241m.\u001b[39mbatch_loss(data, val_loader, loss_fn, verbose\u001b[38;5;241m=\u001b[39mverbose)\n",
      "File \u001b[0;32m~/mambaforge3/envs/MARBLE/lib/python3.9/site-packages/MARBLE/main.py:418\u001b[0m, in \u001b[0;36mnet.batch_loss\u001b[0;34m(self, data, loader, loss_fun, train, verbose, optimizer)\u001b[0m\n\u001b[1;32m    415\u001b[0m adjs \u001b[38;5;241m=\u001b[39m [adj\u001b[38;5;241m.\u001b[39mto(data\u001b[38;5;241m.\u001b[39mx\u001b[38;5;241m.\u001b[39mdevice) \u001b[38;5;28;01mfor\u001b[39;00m adj \u001b[38;5;129;01min\u001b[39;00m utils\u001b[38;5;241m.\u001b[39mto_list(adjs)]\n\u001b[1;32m    417\u001b[0m \u001b[38;5;66;03m# Forward pass\u001b[39;00m\n\u001b[0;32m--> 418\u001b[0m emb, mask, n_target, _, _ \u001b[38;5;241m=\u001b[39m \u001b[38;5;28;43mself\u001b[39;49m\u001b[38;5;241;43m.\u001b[39;49m\u001b[43mforward\u001b[49m\u001b[43m(\u001b[49m\u001b[43mdata\u001b[49m\u001b[43m,\u001b[49m\u001b[43m \u001b[49m\u001b[43mn_id\u001b[49m\u001b[43m,\u001b[49m\u001b[43m \u001b[49m\u001b[43madjs\u001b[49m\u001b[43m)\u001b[49m\n\u001b[1;32m    420\u001b[0m \u001b[38;5;66;03m# Calculate loss\u001b[39;00m\n\u001b[1;32m    421\u001b[0m loss \u001b[38;5;241m=\u001b[39m loss_fun(emb, \u001b[38;5;28mself\u001b[39m\u001b[38;5;241m.\u001b[39m_epoch, \u001b[38;5;28mlist\u001b[39m(\u001b[38;5;28mself\u001b[39m\u001b[38;5;241m.\u001b[39mnamed_parameters())[\u001b[38;5;241m0\u001b[39m][\u001b[38;5;241m1\u001b[39m], mask, n_target, \u001b[38;5;28mself\u001b[39m\u001b[38;5;241m.\u001b[39mparams[\u001b[38;5;124m'\u001b[39m\u001b[38;5;124mslices\u001b[39m\u001b[38;5;124m'\u001b[39m])\n",
      "File \u001b[0;32m~/mambaforge3/envs/MARBLE/lib/python3.9/site-packages/MARBLE/main.py:288\u001b[0m, in \u001b[0;36mnet.forward\u001b[0;34m(self, data, n_id, adjs)\u001b[0m\n\u001b[1;32m    281\u001b[0m x_t_slice \u001b[38;5;241m=\u001b[39m x[slices[i]:slices[i\u001b[38;5;241m+\u001b[39m\u001b[38;5;241m1\u001b[39m]]\n\u001b[1;32m    282\u001b[0m \u001b[38;5;28;01mif\u001b[39;00m i \u001b[38;5;241m>\u001b[39m \u001b[38;5;241m0\u001b[39m:\n\u001b[1;32m    283\u001b[0m \u001b[38;5;66;03m# if i == 1:\u001b[39;00m\n\u001b[1;32m    284\u001b[0m     \u001b[38;5;66;03m# if self.maps[i-1].weight.min()<0:\u001b[39;00m\n\u001b[1;32m    285\u001b[0m     \u001b[38;5;66;03m#     self.maps[i-1].weight = -1*self.maps[i-1].weight\u001b[39;00m\n\u001b[1;32m    286\u001b[0m     \u001b[38;5;66;03m# if torch.det(self.maps[i-1].weight)>0:\u001b[39;00m\n\u001b[1;32m    287\u001b[0m     \u001b[38;5;66;03m#     self.maps[i-1].weight[...,0] = -1*self.maps[i-1].weight[...,0]\u001b[39;00m\n\u001b[0;32m--> 288\u001b[0m     pos_t_slice, x_t_slice \u001b[38;5;241m=\u001b[39m \u001b[43mgeometry\u001b[49m\u001b[38;5;241;43m.\u001b[39;49m\u001b[43mtransform_vector_field\u001b[49m\u001b[43m(\u001b[49m\n\u001b[1;32m    289\u001b[0m \u001b[43m        \u001b[49m\u001b[38;5;28;43mself\u001b[39;49m\u001b[38;5;241;43m.\u001b[39;49m\u001b[43mmaps\u001b[49m\u001b[43m[\u001b[49m\u001b[43mi\u001b[49m\u001b[38;5;241;43m-\u001b[39;49m\u001b[38;5;241;43m1\u001b[39;49m\u001b[43m]\u001b[49m\u001b[43m,\u001b[49m\u001b[43m \u001b[49m\u001b[43mpos_t_slice\u001b[49m\u001b[43m,\u001b[49m\u001b[43m \u001b[49m\u001b[43mx_t_slice\u001b[49m\n\u001b[1;32m    290\u001b[0m \u001b[43m    \u001b[49m\u001b[43m)\u001b[49m\n\u001b[1;32m    292\u001b[0m pos_transform\u001b[38;5;241m.\u001b[39mappend(pos_t_slice)\n\u001b[1;32m    293\u001b[0m x_transform\u001b[38;5;241m.\u001b[39mappend(x_t_slice)\n",
      "File \u001b[0;32m~/mambaforge3/envs/MARBLE/lib/python3.9/site-packages/MARBLE/geometry.py:621\u001b[0m, in \u001b[0;36mtransform_vector_field\u001b[0;34m(mapping, pos, x)\u001b[0m\n\u001b[1;32m    617\u001b[0m \u001b[38;5;28;01mdef\u001b[39;00m \u001b[38;5;21mtransform_vector_field\u001b[39m(mapping, pos, x):\n\u001b[1;32m    618\u001b[0m \u001b[38;5;250m    \u001b[39m\u001b[38;5;124;03m\"\"\"\u001b[39;00m\n\u001b[1;32m    619\u001b[0m \u001b[38;5;124;03m    Transform vector field using mapping.\u001b[39;00m\n\u001b[1;32m    620\u001b[0m \u001b[38;5;124;03m    \"\"\"\u001b[39;00m\n\u001b[0;32m--> 621\u001b[0m     pos_transform \u001b[38;5;241m=\u001b[39m \u001b[43mmapping\u001b[49m\u001b[43m(\u001b[49m\u001b[43mpos\u001b[49m\u001b[43m)\u001b[49m\n\u001b[1;32m    622\u001b[0m     x_transform \u001b[38;5;241m=\u001b[39m mapping(pos \u001b[38;5;241m+\u001b[39m x) \u001b[38;5;241m-\u001b[39m pos_transform\n\u001b[1;32m    624\u001b[0m     \u001b[38;5;28;01mreturn\u001b[39;00m pos_transform, x_transform\n",
      "File \u001b[0;32m~/mambaforge3/envs/MARBLE/lib/python3.9/site-packages/torch/nn/modules/module.py:1130\u001b[0m, in \u001b[0;36mModule._call_impl\u001b[0;34m(self, *input, **kwargs)\u001b[0m\n\u001b[1;32m   1126\u001b[0m \u001b[38;5;66;03m# If we don't have any hooks, we want to skip the rest of the logic in\u001b[39;00m\n\u001b[1;32m   1127\u001b[0m \u001b[38;5;66;03m# this function, and just call forward.\u001b[39;00m\n\u001b[1;32m   1128\u001b[0m \u001b[38;5;28;01mif\u001b[39;00m \u001b[38;5;129;01mnot\u001b[39;00m (\u001b[38;5;28mself\u001b[39m\u001b[38;5;241m.\u001b[39m_backward_hooks \u001b[38;5;129;01mor\u001b[39;00m \u001b[38;5;28mself\u001b[39m\u001b[38;5;241m.\u001b[39m_forward_hooks \u001b[38;5;129;01mor\u001b[39;00m \u001b[38;5;28mself\u001b[39m\u001b[38;5;241m.\u001b[39m_forward_pre_hooks \u001b[38;5;129;01mor\u001b[39;00m _global_backward_hooks\n\u001b[1;32m   1129\u001b[0m         \u001b[38;5;129;01mor\u001b[39;00m _global_forward_hooks \u001b[38;5;129;01mor\u001b[39;00m _global_forward_pre_hooks):\n\u001b[0;32m-> 1130\u001b[0m     \u001b[38;5;28;01mreturn\u001b[39;00m \u001b[43mforward_call\u001b[49m\u001b[43m(\u001b[49m\u001b[38;5;241;43m*\u001b[39;49m\u001b[38;5;28;43minput\u001b[39;49m\u001b[43m,\u001b[49m\u001b[43m \u001b[49m\u001b[38;5;241;43m*\u001b[39;49m\u001b[38;5;241;43m*\u001b[39;49m\u001b[43mkwargs\u001b[49m\u001b[43m)\u001b[49m\n\u001b[1;32m   1131\u001b[0m \u001b[38;5;66;03m# Do not call functions when jit is used\u001b[39;00m\n\u001b[1;32m   1132\u001b[0m full_backward_hooks, non_full_backward_hooks \u001b[38;5;241m=\u001b[39m [], []\n",
      "File \u001b[0;32m~/mambaforge3/envs/MARBLE/lib/python3.9/site-packages/MARBLE/layers.py:57\u001b[0m, in \u001b[0;36mParametrizedRotation.forward\u001b[0;34m(self, x)\u001b[0m\n\u001b[1;32m     51\u001b[0m rotation_matrix \u001b[38;5;241m=\u001b[39m torch\u001b[38;5;241m.\u001b[39mstack([\n\u001b[1;32m     52\u001b[0m     torch\u001b[38;5;241m.\u001b[39mstack([cos_theta, \u001b[38;5;241m-\u001b[39msin_theta]),\n\u001b[1;32m     53\u001b[0m     torch\u001b[38;5;241m.\u001b[39mstack([sin_theta,  cos_theta])\n\u001b[1;32m     54\u001b[0m ])\n\u001b[1;32m     56\u001b[0m \u001b[38;5;66;03m# Apply the rotation matrix to the input\u001b[39;00m\n\u001b[0;32m---> 57\u001b[0m rotated_x \u001b[38;5;241m=\u001b[39m \u001b[43mtorch\u001b[49m\u001b[38;5;241;43m.\u001b[39;49m\u001b[43mmatmul\u001b[49m\u001b[43m(\u001b[49m\u001b[43mx\u001b[49m\u001b[43m,\u001b[49m\u001b[43m \u001b[49m\u001b[43mrotation_matrix\u001b[49m\u001b[43m)\u001b[49m\n\u001b[1;32m     59\u001b[0m \u001b[38;5;28;01mreturn\u001b[39;00m rotated_x\n",
      "\u001b[0;31mRuntimeError\u001b[0m: mat1 and mat2 shapes cannot be multiplied (2210x5 and 2x2)"
     ]
    }
   ],
   "source": [
    "data = MARBLE.construct_dataset(\n",
    "    anchor=pos,\n",
    "    vector=vel,\n",
    "    k=30,\n",
    "    spacing=0.0,\n",
    "    delta=1.5,\n",
    ")\n",
    "\n",
    "params = {\n",
    "    \"epochs\": 120,  # optimisation epochs\n",
    "    \"order\": 2,  # order of derivatives\n",
    "    \"hidden_channels\": 100,  # number of internal dimensions in MLP\n",
    "    \"out_channels\": 3, \n",
    "    \"inner_product_features\": False,\n",
    "    \"diffusion\": True,\n",
    "}\n",
    "\n",
    "model = MARBLE.net(data, params=params)\n",
    "\n",
    "model.fit(data, outdir=\"data/session_{}_20ms\".format(day))\n",
    "data = model.transform(data)"
   ]
  },
  {
   "cell_type": "markdown",
   "id": "1b9cd38a-643f-48dc-af76-f26539d40f4f",
   "metadata": {},
   "source": [
    "## Plot embeddings"
   ]
  },
  {
   "cell_type": "code",
   "execution_count": null,
   "id": "6e5d3852-1afa-4a0d-991d-2dc279cf829d",
   "metadata": {},
   "outputs": [],
   "source": [
    "\n",
    "# Configure Plotly to be rendered inline in the notebook.\n",
    "plotly.offline.init_notebook_mode()\n",
    "    \n",
    "emb = embeddings[d]\n",
    "label = labels[d]\n",
    "time = np.hstack(timepoints[d])\n",
    "\n",
    "# Configure the plot.\n",
    "data = []\n",
    "colors = pl.cm.viridis(np.linspace(0,1,7)) #colours for 7 conditions\n",
    "\n",
    "for i in range(7):\n",
    "    trace = go.Scatter3d(\n",
    "        x=emb[label==i,0],  \n",
    "        y=emb[label==i,1],  \n",
    "        z=emb[label==i,2],  \n",
    "        mode='markers',\n",
    "        marker={\n",
    "            'size': 1,\n",
    "            'opacity': 1,\n",
    "            'color':'rgb({},{},{})'.format(colors[i,0],colors[i,1],colors[i,2]),  # set color to an array/list of desired values\n",
    "        },\n",
    "    )\n",
    "    data.append(trace)\n",
    "\n",
    "layout = go.Layout(\n",
    "    paper_bgcolor='rgba(0,0,0,0)',\n",
    "    plot_bgcolor='rgba(0,0,0,0)',\n",
    "    xaxis=dict(showgrid=False,showline=False),\n",
    "    yaxis=dict(showgrid=False,showline=False)\n",
    ")\n",
    "\n",
    "plot_figure = go.Figure(data=data, layout=layout)\n",
    "plot_figure.update_scenes(xaxis_visible=False, yaxis_visible=False, zaxis_visible=False)\n",
    "\n",
    "# Render the plot.\n",
    "plot_figure.show()"
   ]
  }
 ],
 "metadata": {
  "kernelspec": {
   "display_name": "Python 3 (ipykernel)",
   "language": "python",
   "name": "python3"
  },
  "language_info": {
   "codemirror_mode": {
    "name": "ipython",
    "version": 3
   },
   "file_extension": ".py",
   "mimetype": "text/x-python",
   "name": "python",
   "nbconvert_exporter": "python",
   "pygments_lexer": "ipython3",
   "version": "3.9.7"
  }
 },
 "nbformat": 4,
 "nbformat_minor": 5
}
