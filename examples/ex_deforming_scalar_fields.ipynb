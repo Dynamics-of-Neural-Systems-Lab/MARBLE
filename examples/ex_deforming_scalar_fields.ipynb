{
 "cells": [
  {
   "cell_type": "code",
   "execution_count": 1,
   "id": "08a5c0b6",
   "metadata": {},
   "outputs": [],
   "source": [
    "%load_ext autoreload\n",
    "%autoreload 2\n",
    "\n",
    "import numpy as np\n",
    "from MARBLE import plotting, utils, geometry, net"
   ]
  },
  {
   "cell_type": "code",
   "execution_count": 2,
   "id": "41e67ecc",
   "metadata": {},
   "outputs": [],
   "source": [
    "k = 15\n",
    "n_clusters = 10\n",
    "    \n",
    "par = {'batch_size': 256, #batch size, this should be as large as possible\n",
    "        'epochs': 3, #optimisation epochs\n",
    "        'order': 2, #order of derivatives\n",
    "        'n_lin_layers': 2,\n",
    "        'hidden_channels': 16, #number of internal dimensions in MLP\n",
    "        'out_channels': 4,\n",
    "        }"
   ]
  },
  {
   "cell_type": "code",
   "execution_count": 3,
   "id": "ef800c08",
   "metadata": {},
   "outputs": [],
   "source": [
    "def f1(x):\n",
    "    return np.cos(x[:,[0]]) + np.sin(x[:,[1]])\n",
    "\n",
    "def f2(x):\n",
    "    return np.cos(x[:,[0]]) + np.sin(2*x[:,[1]])\n",
    "\n",
    "def sample_cone(alpha, nr, ntheta):\n",
    "    r = np.sqrt(np.linspace(0.5, 5, nr))\n",
    "    theta = np.linspace(0, 2*np.pi, ntheta)\n",
    "    r, theta = np.meshgrid(r, theta)\n",
    "    X = r*np.cos(theta)\n",
    "    Y = r*np.sin(theta)\n",
    "    Z = -(alpha*r)**2\n",
    "    \n",
    "    return np.column_stack([X.flatten(), Y.flatten(), Z.flatten()])"
   ]
  },
  {
   "cell_type": "code",
   "execution_count": 4,
   "id": "fc8d6a5d",
   "metadata": {},
   "outputs": [],
   "source": [
    "n_steps = 3\n",
    "alpha = np.linspace(1, 0.750, n_steps)\n",
    "nr = 10\n",
    "ntheta = 40\n",
    "x_ = np.linspace(-np.pi, np.pi, nr)\n",
    "y_ = np.linspace(-np.pi, np.pi, ntheta)\n",
    "x_, y_ = np.meshgrid(x_, y_)\n",
    "X = np.column_stack([x_.flatten(), y_.flatten()])\n",
    "    \n",
    "y = [f1(X) for i in range(n_steps)] + [f2(X) for i in range(n_steps)]\n",
    "x = 2 * [sample_cone(a, nr, ntheta) for a in alpha]\n",
    "    \n",
    "ind, _ = geometry.furthest_point_sampling(x[0], stop_crit=0.1)\n",
    "x = [x_[ind] for x_ in x]\n",
    "y = [y_[ind] for y_ in y]"
   ]
  },
  {
   "cell_type": "code",
   "execution_count": 5,
   "id": "2425005b",
   "metadata": {},
   "outputs": [],
   "source": [
    "data = utils.construct_dataset(x, y, graph_type='cknn', k=k)"
   ]
  },
  {
   "cell_type": "code",
   "execution_count": null,
   "id": "c62dffec",
   "metadata": {},
   "outputs": [],
   "source": []
  }
 ],
 "metadata": {
  "kernelspec": {
   "display_name": "Python 3 (ipykernel)",
   "language": "python",
   "name": "python3"
  },
  "language_info": {
   "codemirror_mode": {
    "name": "ipython",
    "version": 3
   },
   "file_extension": ".py",
   "mimetype": "text/x-python",
   "name": "python",
   "nbconvert_exporter": "python",
   "pygments_lexer": "ipython3",
   "version": "3.9.13"
  }
 },
 "nbformat": 4,
 "nbformat_minor": 5
}
