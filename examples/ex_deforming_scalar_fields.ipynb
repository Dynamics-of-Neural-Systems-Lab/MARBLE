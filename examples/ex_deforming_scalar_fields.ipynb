{
 "cells": [
  {
   "cell_type": "code",
   "execution_count": 1,
   "id": "08a5c0b6",
   "metadata": {},
   "outputs": [],
   "source": [
    "%load_ext autoreload\n",
    "%autoreload 2\n",
    "\n",
    "import numpy as np\n",
    "from MARBLE import plotting, utils, geometry, net"
   ]
  },
  {
   "cell_type": "code",
   "execution_count": 2,
   "id": "41e67ecc",
   "metadata": {},
   "outputs": [],
   "source": [
    "k = 15\n",
    "n_clusters = 10\n",
    "    \n",
    "par = {'batch_size': 256, #batch size, this should be as large as possible\n",
    "        'epochs': 3, #optimisation epochs\n",
    "        'order': 2, #order of derivatives\n",
    "        'n_lin_layers': 2,\n",
    "        'hidden_channels': 16, #number of internal dimensions in MLP\n",
    "        'out_channels': 4,\n",
    "        }"
   ]
  },
  {
   "cell_type": "markdown",
   "id": "6c60f313",
   "metadata": {},
   "source": [
    "# Create functions on the cone"
   ]
  },
  {
   "cell_type": "code",
   "execution_count": 3,
   "id": "ef800c08",
   "metadata": {},
   "outputs": [],
   "source": [
    "def f1(x):\n",
    "    return np.cos(x[:,[0]]) + np.sin(x[:,[1]])\n",
    "\n",
    "def f2(x):\n",
    "    return np.cos(x[:,[0]]) + np.sin(2*x[:,[1]])\n",
    "\n",
    "def sample_cone(alpha, nr, ntheta):\n",
    "    r = np.sqrt(np.linspace(0.5, 5, nr))\n",
    "    theta = np.linspace(0, 2*np.pi, ntheta)\n",
    "    r, theta = np.meshgrid(r, theta)\n",
    "    X = r*np.cos(theta)\n",
    "    Y = r*np.sin(theta)\n",
    "    Z = -(alpha*r)**2\n",
    "    \n",
    "    return np.column_stack([X.flatten(), Y.flatten(), Z.flatten()])"
   ]
  },
  {
   "cell_type": "markdown",
   "id": "ec1152de",
   "metadata": {},
   "source": [
    "# Continuously deform the manifold"
   ]
  },
  {
   "cell_type": "code",
   "execution_count": 4,
   "id": "fc8d6a5d",
   "metadata": {},
   "outputs": [],
   "source": [
    "n_steps = 3\n",
    "alpha = np.linspace(1, 0.750, n_steps)\n",
    "nr = 10\n",
    "ntheta = 40\n",
    "x_ = np.linspace(-np.pi, np.pi, nr)\n",
    "y_ = np.linspace(-np.pi, np.pi, ntheta)\n",
    "x_, y_ = np.meshgrid(x_, y_)\n",
    "X = np.column_stack([x_.flatten(), y_.flatten()])\n",
    "    \n",
    "y = [f1(X) for i in range(n_steps)] + [f2(X) for i in range(n_steps)]\n",
    "x = 2 * [sample_cone(a, nr, ntheta) for a in alpha]"
   ]
  },
  {
   "cell_type": "markdown",
   "id": "94c25c7b",
   "metadata": {},
   "source": [
    "# Even out sampling"
   ]
  },
  {
   "cell_type": "code",
   "execution_count": null,
   "id": "e00ed907",
   "metadata": {},
   "outputs": [],
   "source": [
    "ind, _ = geometry.furthest_point_sampling(x[0], stop_crit=0.1)\n",
    "x = [x_[ind] for x_ in x]\n",
    "y = [y_[ind] for y_ in y]"
   ]
  },
  {
   "cell_type": "markdown",
   "id": "6b36a814",
   "metadata": {},
   "source": [
    "# Package data"
   ]
  },
  {
   "cell_type": "code",
   "execution_count": 5,
   "id": "2425005b",
   "metadata": {},
   "outputs": [],
   "source": [
    "data = utils.construct_dataset(x, y, graph_type='cknn', k=k)"
   ]
  },
  {
   "cell_type": "markdown",
   "id": "5ac3c327",
   "metadata": {},
   "source": [
    "# Train model"
   ]
  },
  {
   "cell_type": "code",
   "execution_count": null,
   "id": "c62dffec",
   "metadata": {},
   "outputs": [],
   "source": [
    "model = net(data, gauge='global', **par)\n",
    "model.run_training(data)"
   ]
  },
  {
   "cell_type": "markdown",
   "id": "b34e1fd3",
   "metadata": {},
   "source": [
    "# Create embeddings and clusters"
   ]
  },
  {
   "cell_type": "code",
   "execution_count": null,
   "id": "f9987e00",
   "metadata": {},
   "outputs": [],
   "source": [
    "data = model.evaluate(data)\n",
    "emb, clusters, dist = geometry.cluster_embedding(data, n_clusters=n_clusters)\n",
    "emb_MDS = geometry.embed(dist, embed_typ='MDS')"
   ]
  },
  {
   "cell_type": "code",
   "execution_count": null,
   "id": "8a3b7e05",
   "metadata": {},
   "outputs": [],
   "source": [
    "titles = [r'$f_1,\\alpha$ = ' + str(a) for a in alpha] + \\\n",
    "        [r'$f_2,\\alpha$ = ' + str(a) for a in alpha]\n",
    "plotting.fields(data, titles=titles, col=3, figsize=(8,5))#, save='scalar_fields.svg')\n",
    "plotting.embedding(emb, data.y.numpy(), clusters, titles=titles))#, save='scalar_fields_embedding.svg') \n",
    "plotting.histograms(clusters, col=3, figsize=(13,3), titles=titles)#, save='scalar_fields_histogram.svg')\n",
    "plotting.neighbourhoods(data, clusters, hops=1, norm=True)#, save='scalar_fields_nhoods.svg')\n",
    "labels = np.array([0]*n_steps + [1]*n_steps)\n",
    "plotting.embedding(emb_MDS, labels)#, save='scalar_fields_MDS.svg') "
   ]
  }
 ],
 "metadata": {
  "kernelspec": {
   "display_name": "Python 3 (ipykernel)",
   "language": "python",
   "name": "python3"
  },
  "language_info": {
   "codemirror_mode": {
    "name": "ipython",
    "version": 3
   },
   "file_extension": ".py",
   "mimetype": "text/x-python",
   "name": "python",
   "nbconvert_exporter": "python",
   "pygments_lexer": "ipython3",
   "version": "3.9.13"
  }
 },
 "nbformat": 4,
 "nbformat_minor": 5
}
