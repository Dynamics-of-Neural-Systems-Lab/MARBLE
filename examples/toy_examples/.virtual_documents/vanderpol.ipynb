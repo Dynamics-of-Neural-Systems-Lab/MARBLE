


%load_ext autoreload
%autoreload 2
import numpy as np
import matplotlib.pyplot as plt
from sklearn.decomposition import PCA

import MARBLE
from MARBLE import plotting, dynamics, geometry

np.random.seed(42)





# simulate some long trajectories to plot attractor
t_long = np.arange(0, 100, 0.01)
area = [[-3, -3],[3, 3]]

mus_long = [0.5, 0.5, 0.5, -0.5, -0.5, -0.5, -0.5]
X0 = dynamics.initial_conditions(1, len(mus_long), area)
p_long, v_long = [], []
for X0, m in zip(X0, mus_long):
    p, v = dynamics.simulate_vanderpol(m, X0, t_long, keep_v=True)
    p_long.append(p[0])
    v_long.append(v[0])

plt.figure(figsize=(2, 2))
plt.plot(p_long[0][-640:, 0], p_long[0][-640:, 1], '-', c='r', lw=2)
plt.scatter(p_long[0][0, 0], p_long[0][0, 1], c='k', lw=2)
plt.plot(p_long[0][:700, 0], p_long[0][:700, 1], '-', c='k', lw=2)
plt.scatter(p_long[2][0, 0], p_long[2][0, 1], c='k', lw=2)
plt.plot(p_long[2][:400, 0], p_long[2][:400, 1], '-', c='k', lw=2)


plt.axis('equal')
plt.tight_layout()

#plt.savefig('traj_stable.pdf')


plt.figure(figsize=(2, 2))
plt.scatter(0, 0, c='r', marker='+')
plt.plot(-p_long[0][-640:, 0], p_long[0][-640:, 1], '-', c='r', lw=2)
plt.scatter(p_long[3][0, 0], p_long[3][0, 1], c='k', lw=2)
plt.plot(p_long[3][:700, 0], p_long[3][:700, 1], '-', c='k', lw=2)
plt.scatter(p_long[5][0, 0], p_long[5][0, 1], c='k', lw=2)
plt.plot(p_long[5][:180, 0], p_long[5][:180, 1], '-', c='k', lw=2)


plt.axis('equal')
plt.tight_layout()

#plt.savefig('traj_unstable.pdf')





def get_pos_vel(mus, alpha=0.05):
    X0_range = dynamics.initial_conditions(n, len(mus), area)

    pos, vel = [], []
    for X0, m in zip(X0_range, mus):
        p, v = dynamics.simulate_vanderpol(m, X0, t)
        pos.append(np.vstack(p))
        vel.append(np.vstack(v))

    pos, vel = dynamics.embed_parabola(pos, vel, alpha=alpha)
    return pos, vel





n_mus = 40
t = np.arange(0, 3, 0.5)
n = 100
area = [[-3, -3],[3, 3]]

mus = np.linspace(-1.0, 1.0, n_mus)
pos, vel = get_pos_vel(mus)


data = MARBLE.construct_dataset(anchor=pos, vector=vel, spacing=0.03)


params = {'epochs': 50, #optimisation epochs
       'hidden_channels': 32, #number of internal dimensions in MLP
       'out_channels': 5,
       'inner_product_features': False,
       'diffusion': False
      }

model = MARBLE.net(data, params=params)
model.fit(data, outdir='model_large')





data = model.transform(data)
data = MARBLE.distribution_distances(data)
data = MARBLE.embed_in_2D(data)

plt.figure(figsize=(4, 4))
plotting.embedding(data, mus[data.y.numpy().astype(int)])

plt.figure(figsize=(4, 4))
im = plt.imshow(data.dist, extent=[mus[0], mus[-1], mus[0], mus[-1]])
plt.axhline(0, c='k')
plt.axvline(0, c='k')
plt.colorbar(im, shrink=0.8)

emb_MDS, _ = geometry.embed(data.dist, embed_typ='MDS')

plt.figure(figsize=(4, 4))
plotting.embedding(emb_MDS, mus, s=30, alpha=1)





mus = np.linspace(-0.1, 0.1, n_mus)
pos, vel = get_pos_vel(mus)

data = MARBLE.construct_dataset(anchor=pos, vector=vel, k=20, spacing=0.03)
model = MARBLE.net(data, params=params)
model.fit(data, outdir='model_zoom')





data = model.transform(data)
data = MARBLE.distribution_distances(data)
data = MARBLE.embed_in_2D(data)

plt.figure(figsize=(4, 4))
plotting.embedding(data, mus[data.y.numpy().astype(int)])

plt.figure(figsize=(4, 4))
im = plt.imshow(data.dist, extent=[mus[0], mus[-1], mus[0], mus[-1]])
plt.axhline(0, c='k')
plt.axvline(0, c='k')
plt.colorbar(im, shrink=0.8)

emb_MDS, _ = geometry.embed(data.dist, embed_typ='MDS')

plt.figure(figsize=(4, 4))
plotting.embedding(emb_MDS, mus, s=30, alpha=1)





from scipy.stats import special_ortho_group
def get_pos_vel_noise(mus, alpha=0.05):
    X0_range = dynamics.initial_conditions(n, len(mus), area)

    pos, vel = [], []
    for X0, m in zip(X0_range, mus):
        p, v = dynamics.simulate_vanderpol(m, X0, t)
        a = np.random.uniform(-alpha, alpha)
        p, v = dynamics.embed_parabola(p, v, alpha=alpha)
        p = np.vstack(p)
        shift = np.random.uniform(-2, 2, 3)
        pos.append(p+shift)
        v = np.vstack(v)
        vel.append(v)
   
    return pos, vel


mus = np.linspace(-0.1, 0.1, n_mus)
pos, vel = get_pos_vel_noise(mus, alpha=0.2)

data = MARBLE.construct_dataset(anchor=pos, vector=vel, k=20, spacing=0.03)

params['inner_product_features'] = True
model = MARBLE.net(data, params=params)
model.fit(data, outdir='model_noise_inner')





data = model.transform(data)
data = MARBLE.distribution_distances(data)
data = MARBLE.embed_in_2D(data)

plt.figure(figsize=(4, 4))
plotting.embedding(data, mus[data.y.numpy().astype(int)])

plt.figure(figsize=(4, 4))
im = plt.imshow(data.dist, extent=[mus[0], mus[-1], mus[0], mus[-1]])
plt.axhline(0, c='k')
plt.axvline(0, c='k')
plt.colorbar(im, shrink=0.8)

emb_MDS, _ = geometry.embed(data.dist, embed_typ='MDS')

plt.figure(figsize=(4, 4))
plotting.embedding(emb_MDS, mus, s=30, alpha=1)





params['inner_product_features'] = False
model = MARBLE.net(data, params=params)
model.fit(data, outdir='model_noise_no_inner')





data = model.transform(data)
data = MARBLE.distribution_distances(data)
data = MARBLE.embed_in_2D(data)

plt.figure(figsize=(4, 4))
plotting.embedding(data, mus[data.y.numpy().astype(int)])

plt.figure(figsize=(4, 4))
im = plt.imshow(data.dist, extent=[mus[0], mus[-1], mus[0], mus[-1]])
plt.axhline(0, c='k')
plt.axvline(0, c='k')
plt.colorbar(im, shrink=0.8)

emb_MDS, _ = geometry.embed(data.dist, embed_typ='MDS')

plt.figure(figsize=(4, 4))
plotting.embedding(emb_MDS, mus, s=30, alpha=1)
