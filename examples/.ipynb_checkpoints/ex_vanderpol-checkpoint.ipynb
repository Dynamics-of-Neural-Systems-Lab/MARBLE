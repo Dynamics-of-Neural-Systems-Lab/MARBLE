{
 "cells": [
  {
   "cell_type": "code",
   "execution_count": 1,
   "id": "f3429d60",
   "metadata": {},
   "outputs": [],
   "source": [
    "%load_ext autoreload\n",
    "%autoreload 2\n",
    "import numpy as np\n",
    "from DE_library import simulate_ODE, simulate_trajectories\n",
    "import matplotlib.pyplot as plt\n",
    "from example_utils import reject_outliers, initial_conditions, plot_phase_portrait\n",
    "\n",
    "from MARBLE import utils, geometry, net, plotting, postprocessing, compare_attractors"
   ]
  },
  {
   "cell_type": "code",
   "execution_count": 2,
   "id": "0d4ddd24",
   "metadata": {},
   "outputs": [],
   "source": [
    "def simulate_system(mu, X0, t):\n",
    "    p, v = simulate_trajectories('vanderpol', X0, t, par = {'mu': mu})\n",
    "    pos, vel = [], []\n",
    "    for p_, v_ in zip(p,v):\n",
    "        ind = reject_outliers(p_, v_)\n",
    "        pos.append(p_[ind])\n",
    "        vel.append(v_[ind])\n",
    "        \n",
    "    return pos, vel\n",
    "\n",
    "def parabola(X, Y, alpha):\n",
    "    Z = -(alpha*X)**2 -(alpha*Y)**2\n",
    "    \n",
    "    return np.column_stack([X.flatten(), Y.flatten(), Z.flatten()])"
   ]
  },
  {
   "cell_type": "markdown",
   "id": "81dcb700",
   "metadata": {},
   "source": [
    "# For initial conditions, sample a rectangle uniformly"
   ]
  },
  {
   "cell_type": "code",
   "execution_count": 3,
   "id": "938be9e5",
   "metadata": {},
   "outputs": [],
   "source": [
    "t0, t1, dt = 0, 3, 0.5\n",
    "t = np.arange(t0, t1, dt)\n",
    "n = 100\n",
    "area = [[-3,-3],[3,3]]"
   ]
  },
  {
   "cell_type": "markdown",
   "id": "b63dae69",
   "metadata": {},
   "source": [
    "# Geneate phase portraits from random initial conditions while varying $\\beta_1$"
   ]
  },
  {
   "cell_type": "code",
   "execution_count": 28,
   "id": "2afd125e",
   "metadata": {},
   "outputs": [
    {
     "name": "stderr",
     "output_type": "stream",
     "text": [
      "/mnt/scratch/lts2/gosztolai/miniconda3/envs/MARBLE/lib/python3.9/site-packages/scipy/integrate/_odepack_py.py:247: ODEintWarning: Excess work done on this call (perhaps wrong Dfun type). Run with full_output = 1 to get quantitative information.\n",
      "  warnings.warn(warning_msg, ODEintWarning)\n"
     ]
    }
   ],
   "source": [
    "n_steps=10\n",
    "beta1 = np.hstack((np.linspace(-.5,.5,n_steps)))\n",
    "\n",
    "pos, vel = [], []\n",
    "X0_range = initial_conditions(n, len(beta1), area)\n",
    "for i, b1 in enumerate(beta1):\n",
    "    p, v = simulate_system(b1, X0_range[i], t)\n",
    "            \n",
    "    pos.append(np.vstack(p))\n",
    "    vel.append(np.vstack(v))\n",
    "    \n",
    "#embed on cone\n",
    "alpha = 0.1\n",
    "for i, (p, v) in enumerate(zip(pos, vel)):\n",
    "    end_point = p + v\n",
    "    new_endpoint = parabola(end_point[:,0], end_point[:,1], alpha)\n",
    "    pos[i] = parabola(p[:,0], p[:,1], alpha)\n",
    "    vel[i] = new_endpoint - pos[i]"
   ]
  },
  {
   "cell_type": "markdown",
   "id": "396b73bb",
   "metadata": {},
   "source": [
    "# Plot vector fields"
   ]
  },
  {
   "cell_type": "code",
   "execution_count": 32,
   "id": "84bbf7b7",
   "metadata": {
    "scrolled": true
   },
   "outputs": [
    {
     "name": "stdout",
     "output_type": "stream",
     "text": [
      "---- Embedding dimension: 3\n",
      "---- Signal dimension: 3\n"
     ]
    },
    {
     "name": "stderr",
     "output_type": "stream",
     "text": [
      "Computing gauges...: 100%|██████████████████████████████████████████████████████████████████████████████████████| 10/10 [00:00<00:00, 22.92it/s]\n"
     ]
    },
    {
     "name": "stdout",
     "output_type": "stream",
     "text": [
      "\n",
      "Fraction of variance explained:  tensor([0.5771, 1.0000, 1.0000])\n",
      "\n",
      "---- Manifold dimension: 2\n",
      "\n",
      "Manifold dimension can decrease with more data. Try smaller values of stop_crit                 before settling on a value\n"
     ]
    },
    {
     "name": "stderr",
     "output_type": "stream",
     "text": [
      "Computing connections...: 100%|██████████████████████████████████████████████████████████████████████████| 14553/14553 [00:18<00:00, 770.02it/s]\n"
     ]
    }
   ],
   "source": [
    "k=10\n",
    "\n",
    "data = utils.construct_dataset(pos, features=vel, graph_type='cknn', k=k, stop_crit=0.04)"
   ]
  },
  {
   "cell_type": "code",
   "execution_count": null,
   "id": "c9aa06e3",
   "metadata": {},
   "outputs": [],
   "source": [
    "titles = [r'$\\beta$ = {:0.2f}'.format(b) for b in beta1]\n",
    "\n",
    "#plotting.fields(data, col=4, alpha=0.3, scale=10)\n",
    "axes = plotting.fields(data, col=4, alpha=0.5, width=7, scale=2, titles=titles, view=[50,20])\n",
    "\n",
    "from matplotlib.colors import LightSource\n",
    "\n",
    "x = y = np.arange(-3.0, 3.0, 0.05)\n",
    "X, Y = np.meshgrid(x, y)\n",
    "xyz = np.array(parabola(np.ravel(X), np.ravel(Y), alpha))\n",
    "ls = LightSource(azdeg=30,altdeg=30)\n",
    "rgb = ls.shade(xyz[:,2].reshape(X.shape)-0.1, plt.cm.gray)\n",
    "\n",
    "for ax in axes:\n",
    "    ax.plot_surface(xyz[:,0].reshape(X.shape), xyz[:,1].reshape(X.shape), xyz[:,2].reshape(X.shape), \n",
    "                color='gray', \n",
    "                shade=True,\n",
    "                lightsource=ls,\n",
    "                facecolors=rgb\n",
    "               )\n",
    "plt.savefig('../results/parabolas.svg')"
   ]
  },
  {
   "cell_type": "markdown",
   "id": "57e68335",
   "metadata": {},
   "source": [
    "# Train network"
   ]
  },
  {
   "cell_type": "code",
   "execution_count": 23,
   "id": "a7752709",
   "metadata": {
    "scrolled": false
   },
   "outputs": [
    {
     "name": "stdout",
     "output_type": "stream",
     "text": [
      "\n",
      "---- Settings: \n",
      "\n",
      "epochs : 100\n",
      "order : 2\n",
      "hidden_channels : 16\n",
      "out_channels : 3\n",
      "inner_product_features : True\n",
      "autoencoder : False\n",
      "batch_size : 64\n",
      "lr : 0.01\n",
      "momentum : 0.9\n",
      "diffusion : False\n",
      "frac_sampled_nb : -1\n",
      "dropout : 0.0\n",
      "n_lin_layers : 2\n",
      "bias : True\n",
      "vec_norm : False\n",
      "batch_norm : None\n",
      "seed : 0\n",
      "processes : 1\n",
      "dim_signal : 3\n",
      "dim_emb : 3\n",
      "n_sampled_nb : -1\n",
      "\n",
      "---- Number of features to pass to the MLP:  13\n",
      "---- Total number of parameters:  394\n",
      "\n",
      "---- Training network ...\n",
      "\n",
      "Epoch: 1, Training loss: 1.3828, Validation loss: 1.3810, lr: 0.0100 *\n",
      "Epoch: 2, Training loss: 1.3806, Validation loss: 1.3795, lr: 0.0100 *\n",
      "Epoch: 3, Training loss: 1.3771, Validation loss: 1.3762, lr: 0.0100 *\n",
      "Epoch: 4, Training loss: 1.3742, Validation loss: 1.3692, lr: 0.0100 *\n",
      "Epoch: 5, Training loss: 1.3649, Validation loss: 1.3606, lr: 0.0100 *\n",
      "Epoch: 6, Training loss: 1.3518, Validation loss: 1.3581, lr: 0.0100 *\n",
      "Epoch: 7, Training loss: 1.3187, Validation loss: 1.2772, lr: 0.0100 *\n",
      "Epoch: 8, Training loss: 1.2787, Validation loss: 1.2154, lr: 0.0100 *\n",
      "Epoch: 9, Training loss: 1.2163, Validation loss: 1.2168, lr: 0.0100\n",
      "Epoch: 10, Training loss: 1.2114, Validation loss: 1.1452, lr: 0.0100 *\n",
      "Epoch: 11, Training loss: 1.1985, Validation loss: 1.2593, lr: 0.0100\n",
      "Epoch: 12, Training loss: 1.1869, Validation loss: 1.1487, lr: 0.0100\n",
      "Epoch: 13, Training loss: 1.1923, Validation loss: 1.1847, lr: 0.0100\n",
      "Epoch: 14, Training loss: 1.1799, Validation loss: 1.1503, lr: 0.0100\n",
      "Epoch: 15, Training loss: 1.1482, Validation loss: 1.2065, lr: 0.0100\n",
      "Epoch: 16, Training loss: 1.1542, Validation loss: 1.1406, lr: 0.0100 *\n",
      "Epoch: 17, Training loss: 1.1339, Validation loss: 1.1686, lr: 0.0100\n",
      "Epoch: 18, Training loss: 1.1272, Validation loss: 1.1688, lr: 0.0100\n",
      "Epoch: 19, Training loss: 1.1130, Validation loss: 1.1916, lr: 0.0100\n",
      "Epoch: 20, Training loss: 1.1508, Validation loss: 1.1104, lr: 0.0100 *\n",
      "Epoch: 21, Training loss: 1.1341, Validation loss: 1.1792, lr: 0.0100\n",
      "Epoch: 22, Training loss: 1.1128, Validation loss: 1.1144, lr: 0.0100\n",
      "Epoch: 23, Training loss: 1.1232, Validation loss: 1.1986, lr: 0.0100\n",
      "Epoch: 24, Training loss: 1.1212, Validation loss: 1.1688, lr: 0.0100\n",
      "Epoch: 25, Training loss: 1.1098, Validation loss: 1.0726, lr: 0.0100 *\n",
      "Epoch: 26, Training loss: 1.1158, Validation loss: 1.0457, lr: 0.0100 *\n",
      "Epoch: 27, Training loss: 1.0925, Validation loss: 1.0838, lr: 0.0100\n",
      "Epoch: 28, Training loss: 1.0969, Validation loss: 1.1257, lr: 0.0100\n",
      "Epoch: 29, Training loss: 1.0689, Validation loss: 1.1260, lr: 0.0100\n",
      "Epoch: 30, Training loss: 1.0707, Validation loss: 1.0971, lr: 0.0100\n",
      "Epoch: 31, Training loss: 1.1144, Validation loss: 1.1470, lr: 0.0100\n",
      "Epoch: 32, Training loss: 1.1076, Validation loss: 1.1248, lr: 0.0100\n",
      "Epoch: 33, Training loss: 1.0930, Validation loss: 1.0729, lr: 0.0100\n",
      "Epoch: 34, Training loss: 1.0711, Validation loss: 1.1073, lr: 0.0100\n",
      "Epoch: 35, Training loss: 1.1013, Validation loss: 1.0460, lr: 0.0100\n",
      "Epoch: 36, Training loss: 1.0926, Validation loss: 1.1859, lr: 0.0100\n",
      "Epoch: 37, Training loss: 1.0992, Validation loss: 1.1438, lr: 0.0100\n",
      "Epoch: 38, Training loss: 1.0918, Validation loss: 1.1392, lr: 0.0100\n",
      "Epoch: 39, Training loss: 1.0481, Validation loss: 1.0876, lr: 0.0100\n",
      "Epoch: 40, Training loss: 1.0803, Validation loss: 1.1467, lr: 0.0100\n",
      "Epoch: 41, Training loss: 1.0766, Validation loss: 1.0621, lr: 0.0100\n",
      "Epoch: 42, Training loss: 1.1067, Validation loss: 1.0529, lr: 0.0100\n",
      "Epoch: 43, Training loss: 1.0768, Validation loss: 1.0329, lr: 0.0100 *\n",
      "Epoch: 44, Training loss: 1.0999, Validation loss: 1.0754, lr: 0.0100\n",
      "Epoch: 45, Training loss: 1.0947, Validation loss: 1.1262, lr: 0.0100\n",
      "Epoch: 46, Training loss: 1.0543, Validation loss: 1.0221, lr: 0.0100 *\n",
      "Epoch: 47, Training loss: 1.0790, Validation loss: 1.0858, lr: 0.0100\n",
      "Epoch: 48, Training loss: 1.1029, Validation loss: 1.0810, lr: 0.0100\n",
      "Epoch: 49, Training loss: 1.0777, Validation loss: 1.0589, lr: 0.0100\n",
      "Epoch: 50, Training loss: 1.0543, Validation loss: 1.1465, lr: 0.0010\n",
      "Epoch: 51, Training loss: 1.0808, Validation loss: 1.0283, lr: 0.0010\n",
      "Epoch: 52, Training loss: 1.0505, Validation loss: 1.2218, lr: 0.0010\n",
      "Epoch: 53, Training loss: 1.0816, Validation loss: 1.0860, lr: 0.0010\n",
      "Epoch: 54, Training loss: 1.0617, Validation loss: 1.1090, lr: 0.0010\n",
      "Epoch: 55, Training loss: 1.0825, Validation loss: 1.1688, lr: 0.0010\n",
      "Epoch: 56, Training loss: 1.1030, Validation loss: 1.1741, lr: 0.0010\n",
      "Epoch: 57, Training loss: 1.0656, Validation loss: 1.0167, lr: 0.0010 *\n",
      "Epoch: 58, Training loss: 1.0772, Validation loss: 1.0860, lr: 0.0010\n",
      "Epoch: 59, Training loss: 1.0764, Validation loss: 1.0936, lr: 0.0010\n",
      "Epoch: 60, Training loss: 1.0887, Validation loss: 1.0815, lr: 0.0010\n",
      "Epoch: 61, Training loss: 1.0765, Validation loss: 1.0929, lr: 0.0001\n",
      "Epoch: 62, Training loss: 1.0809, Validation loss: 1.1079, lr: 0.0001\n",
      "Epoch: 63, Training loss: 1.0714, Validation loss: 0.9869, lr: 0.0001 *\n",
      "Epoch: 64, Training loss: 1.0721, Validation loss: 1.0625, lr: 0.0001\n",
      "Epoch: 65, Training loss: 1.0881, Validation loss: 1.0723, lr: 0.0001\n",
      "Epoch: 66, Training loss: 1.0633, Validation loss: 1.0967, lr: 0.0001\n",
      "Epoch: 67, Training loss: 1.0728, Validation loss: 1.1527, lr: 0.0001\n",
      "Epoch: 68, Training loss: 1.0914, Validation loss: 1.0173, lr: 0.0001\n",
      "Epoch: 69, Training loss: 1.0837, Validation loss: 1.0313, lr: 0.0001\n",
      "Epoch: 70, Training loss: 1.0651, Validation loss: 1.0428, lr: 0.0001\n",
      "Epoch: 71, Training loss: 1.0747, Validation loss: 0.9840, lr: 0.0001 *\n",
      "Epoch: 72, Training loss: 1.0764, Validation loss: 1.0880, lr: 0.0000\n",
      "Epoch: 73, Training loss: 1.0795, Validation loss: 1.0484, lr: 0.0000\n",
      "Epoch: 74, Training loss: 1.0446, Validation loss: 1.1320, lr: 0.0000\n",
      "Epoch: 75, Training loss: 1.0741, Validation loss: 1.0345, lr: 0.0000\n",
      "Epoch: 76, Training loss: 1.0798, Validation loss: 1.0282, lr: 0.0000\n",
      "Epoch: 77, Training loss: 1.0887, Validation loss: 1.0761, lr: 0.0000\n",
      "Epoch: 78, Training loss: 1.0660, Validation loss: 1.1486, lr: 0.0000\n",
      "Epoch: 79, Training loss: 1.0522, Validation loss: 1.0616, lr: 0.0000\n",
      "Epoch: 80, Training loss: 1.0817, Validation loss: 1.0979, lr: 0.0000\n",
      "Epoch: 81, Training loss: 1.0901, Validation loss: 1.1723, lr: 0.0000\n",
      "Epoch: 82, Training loss: 1.0716, Validation loss: 1.1038, lr: 0.0000\n",
      "Epoch: 83, Training loss: 1.0675, Validation loss: 1.1749, lr: 0.0000\n",
      "Epoch: 84, Training loss: 1.0861, Validation loss: 1.0843, lr: 0.0000\n",
      "Epoch: 85, Training loss: 1.0620, Validation loss: 1.0325, lr: 0.0000\n",
      "Epoch: 86, Training loss: 1.0985, Validation loss: 0.9690, lr: 0.0000 *\n",
      "Epoch: 87, Training loss: 1.0937, Validation loss: 1.0121, lr: 0.0000\n",
      "Epoch: 88, Training loss: 1.0714, Validation loss: 1.1168, lr: 0.0000\n",
      "Epoch: 89, Training loss: 1.0485, Validation loss: 1.0055, lr: 0.0000\n",
      "Epoch: 90, Training loss: 1.1159, Validation loss: 1.2480, lr: 0.0000\n",
      "Epoch: 91, Training loss: 1.0722, Validation loss: 1.0814, lr: 0.0000\n",
      "Epoch: 92, Training loss: 1.0708, Validation loss: 1.0092, lr: 0.0000\n",
      "Epoch: 93, Training loss: 1.0795, Validation loss: 1.0429, lr: 0.0000\n",
      "Epoch: 94, Training loss: 1.0677, Validation loss: 1.0612, lr: 0.0000\n",
      "Epoch: 95, Training loss: 1.0530, Validation loss: 1.0983, lr: 0.0000\n",
      "Epoch: 96, Training loss: 1.0863, Validation loss: 1.0071, lr: 0.0000\n",
      "Epoch: 97, Training loss: 1.0715, Validation loss: 1.0891, lr: 0.0000\n",
      "Epoch: 98, Training loss: 1.0426, Validation loss: 1.0291, lr: 0.0000\n",
      "Epoch: 99, Training loss: 1.0432, Validation loss: 1.0975, lr: 0.0000\n",
      "Epoch: 100, Training loss: 1.0801, Validation loss: 0.9759, lr: 0.0000\n",
      "Final test loss: 1.0740\n"
     ]
    }
   ],
   "source": [
    "import os\n",
    "os.environ[\"CUDA_DEVICE_ORDER\"]=\"PCI_BUS_ID\"\n",
    "os.environ[\"CUDA_VISIBLE_DEVICES\"]=\"2\"\n",
    "\n",
    "par = {'epochs': 100, #optimisation epochs\n",
    "       'order': 2, #order of derivatives\n",
    "       'hidden_channels': 16, #number of internal dimensions in MLP\n",
    "       'out_channels': 3,\n",
    "       'inner_product_features': True,\n",
    "       'autoencoder': False,\n",
    "      }\n",
    "\n",
    "model = net(data, **par)\n",
    "model.run_training(data)"
   ]
  },
  {
   "cell_type": "markdown",
   "id": "7818b71e",
   "metadata": {},
   "source": [
    "# Create embeddings"
   ]
  },
  {
   "cell_type": "code",
   "execution_count": 24,
   "id": "f67159d6",
   "metadata": {},
   "outputs": [
    {
     "name": "stdout",
     "output_type": "stream",
     "text": [
      "Performed umap embedding on embedded results.\n",
      "Performed MDS embedding on embedded results.\n"
     ]
    },
    {
     "data": {
      "text/plain": [
       "<AxesSubplot:>"
      ]
     },
     "execution_count": 24,
     "metadata": {},
     "output_type": "execute_result"
    },
    {
     "data": {
      "image/png": "[encoded data removed]",
      "text/plain": [
       "<Figure size 640x480 with 1 Axes>"
      ]
     },
     "metadata": {},
     "output_type": "display_data"
    }
   ],
   "source": [
    "data = model.evaluate(data)\n",
    "n_clusters=20\n",
    "data = postprocessing(data, n_clusters=n_clusters)\n",
    "\n",
    "emb_MDS, _ = geometry.embed(data.dist, embed_typ = 'MDS')\n",
    "plotting.embedding(emb_MDS, beta1, s=30, alpha=1)"
   ]
  },
  {
   "cell_type": "markdown",
   "id": "0314fb06",
   "metadata": {},
   "source": [
    "# Distance matrix"
   ]
  },
  {
   "cell_type": "code",
   "execution_count": 12,
   "id": "12592529",
   "metadata": {},
   "outputs": [
    {
     "data": {
      "text/plain": [
       "<matplotlib.image.AxesImage at 0x7f506c6b77c0>"
      ]
     },
     "execution_count": 12,
     "metadata": {},
     "output_type": "execute_result"
    },
    {
     "data": {
      "image/png": "[encoded data removed]",
      "text/plain": [
       "<Figure size 640x480 with 1 Axes>"
      ]
     },
     "metadata": {},
     "output_type": "display_data"
    }
   ],
   "source": [
    "plt.imshow(data.dist)"
   ]
  },
  {
   "cell_type": "markdown",
   "id": "a8ce2f03",
   "metadata": {},
   "source": [
    "# Cluster and visualise embedding"
   ]
  },
  {
   "cell_type": "code",
   "execution_count": null,
   "id": "c246ea45",
   "metadata": {},
   "outputs": [],
   "source": [
    "titles = [r'$\\beta$ = {:0.2f}'.format(b) for b in beta1]\n",
    "plotting.embedding(data.emb_2d, data.y.numpy(), titles=titles)"
   ]
  },
  {
   "cell_type": "code",
   "execution_count": null,
   "id": "687f1a11",
   "metadata": {},
   "outputs": [],
   "source": [
    "compare_attractors(data, (4,5))"
   ]
  },
  {
   "cell_type": "code",
   "execution_count": null,
   "id": "c83dd7a5",
   "metadata": {
    "scrolled": false
   },
   "outputs": [],
   "source": [
    "n_clusters=[2,4,6,8]\n",
    "fig, ax = plt.subplots(len(n_clusters),4, figsize=(10,10))\n",
    "slices=data._slice_dict['x']\n",
    "\n",
    "def plot_embedding(data, ax, slices, i, n_clusters=2):\n",
    "    s = range(slices[i], slices[i+1])\n",
    "    clusters = geometry.cluster(data.emb_2d, cluster_typ='kmeans', n_clusters=n_clusters, seed=0)\n",
    "    plotting.embedding(data.emb_2d[s], clusters['labels'][s], ax=ax[0])\n",
    "    plot_phase_portrait(data.pos[s], data.x[s], ax[1], node_feature=clusters['labels'][s])\n",
    "\n",
    "snapshot=4\n",
    "for i, n in enumerate(n_clusters):\n",
    "    plot_embedding(data, ax[:,:2][i], slices, snapshot, n_clusters=n)\n",
    "    \n",
    "snapshot=5\n",
    "for i, n in enumerate(n_clusters):\n",
    "    plot_embedding(data, ax[:,2:][i], slices, snapshot, n_clusters=n)"
   ]
  },
  {
   "cell_type": "code",
   "execution_count": null,
   "id": "c59cd5d9",
   "metadata": {},
   "outputs": [],
   "source": []
  }
 ],
 "metadata": {
  "kernelspec": {
   "display_name": "Python 3 (ipykernel)",
   "language": "python",
   "name": "python3"
  },
  "language_info": {
   "codemirror_mode": {
    "name": "ipython",
    "version": 3
   },
   "file_extension": ".py",
   "mimetype": "text/x-python",
   "name": "python",
   "nbconvert_exporter": "python",
   "pygments_lexer": "ipython3",
   "version": "3.9.13"
  }
 },
 "nbformat": 4,
 "nbformat_minor": 5
}
