{
 "cells": [
  {
   "cell_type": "code",
   "execution_count": 1,
   "metadata": {},
   "outputs": [],
   "source": [
    "%load_ext autoreload\n",
    "%autoreload 2\n",
    "import sys\n",
    "sys.path.append(\"./RNN_scripts\")\n",
    "import torch\n",
    "import numpy as np\n",
    "import matplotlib\n",
    "import matplotlib.pyplot as plt\n",
    "from RNN_scripts import dms, ranktwo, clustering\n",
    "from RNN_scripts.modules import LowRankRNN, train\n",
    "import seaborn as sns\n",
    "import pickle\n",
    "\n",
    "import MARBLE\n",
    "from MARBLE import utils, geometry, plotting, postprocessing, compare_attractors\n",
    "from example_utils import generate_trajectories, plot_experiment, aggregate_data"
   ]
  },
  {
   "cell_type": "code",
   "execution_count": 2,
   "metadata": {},
   "outputs": [],
   "source": [
    "matplotlib.rcParams['figure.figsize'] = (6, 5)\n",
    "matplotlib.rcParams['font.size'] = 10\n",
    "matplotlib.rcParams['font.family'] = 'sans-serif'\n",
    "matplotlib.rcParams['axes.titlesize'] = 'medium'\n",
    "matplotlib.rcParams['xtick.labelsize'] = 10\n",
    "matplotlib.rcParams['ytick.labelsize'] = 10\n",
    "matplotlib.rcParams['axes.spines.right'] = False\n",
    "matplotlib.rcParams['axes.spines.top'] = False"
   ]
  },
  {
   "cell_type": "markdown",
   "metadata": {},
   "source": [
    "# Load trained model"
   ]
  },
  {
   "cell_type": "code",
   "execution_count": 3,
   "metadata": {},
   "outputs": [],
   "source": [
    "hidden_size = 500#4096\n",
    "noise_std = 5e-2\n",
    "alpha = 0.2\n",
    "x_train, y_train, mask_train, x_val, y_val, mask_val = dms.generate_dms_data(1000)\n",
    "net =  LowRankRNN(2, hidden_size, 1, noise_std, alpha, rank=2)\n",
    "net.load_state_dict(torch.load(f'./RNN_scripts/dms_rank2_{hidden_size}.pt', map_location='cpu'))\n",
    "net.svd_reparametrization()"
   ]
  },
  {
   "cell_type": "code",
   "execution_count": null,
   "metadata": {},
   "outputs": [],
   "source": [
    "loss_orig, acc_orig = dms.test_dms(net, x_val, y_val, mask_val)\n",
    "print(acc_orig)\n",
    "print(loss_orig)"
   ]
  },
  {
   "cell_type": "markdown",
   "metadata": {},
   "source": [
    "# Visualising two network populations"
   ]
  },
  {
   "cell_type": "code",
   "execution_count": null,
   "metadata": {},
   "outputs": [],
   "source": [
    "n_pops = 2\n",
    "z, _ = clustering.gmm_fit(net, n_pops, algo='bayes', random_state=2020)  # z will contain labels for the 2 populations"
   ]
  },
  {
   "cell_type": "code",
   "execution_count": null,
   "metadata": {},
   "outputs": [],
   "source": [
    "# Visualizing those 2 populations\n",
    "m = net.m[:,0].detach().numpy()\n",
    "n = net.n[:,0].detach().numpy() \n",
    "wi1 = net.wi[0].detach().numpy()\n",
    "wi2 = net.wi[1].detach().numpy()\n",
    "\n",
    "fig, ax = plt.subplots(1, 2, figsize=(8, 4))\n",
    "colors = ['rebeccapurple', 'seagreen']\n",
    "fs = 12\n",
    "clustering.pop_scatter_linreg(n, wi1, z, n_pops, colors=colors, ax=ax[0])\n",
    "clustering.pop_scatter_linreg(n, wi2, z, n_pops, colors=colors, ax=ax[1])"
   ]
  },
  {
   "cell_type": "markdown",
   "metadata": {},
   "source": [
    "# Design input"
   ]
  },
  {
   "cell_type": "code",
   "execution_count": 4,
   "metadata": {},
   "outputs": [
    {
     "data": {
      "text/plain": [
       "[<matplotlib.lines.Line2D at 0x7fa07c7dbdf0>,\n",
       " <matplotlib.lines.Line2D at 0x7fa07c7dbe50>]"
      ]
     },
     "execution_count": 4,
     "metadata": {},
     "output_type": "execute_result"
    },
    {
     "data": {
      "image/png": "[encoded data removed]",
      "text/plain": [
       "<Figure size 500x300 with 1 Axes>"
      ]
     },
     "metadata": {},
     "output_type": "display_data"
    }
   ],
   "source": [
    "n_gains=20\n",
    "stim1_begin, stim1_end, stim2_begin, stim2_end, decision = 25, 50, 200, 225, 275\n",
    "epochs = [0, stim1_begin, stim1_end, stim2_begin, stim2_end, decision]\n",
    "gain = np.linspace(1,0,n_gains)\n",
    "    \n",
    "input = torch.zeros(n_gains, decision, 2)\n",
    "for i, g in enumerate(gain):\n",
    "    input[i, stim1_begin:stim1_end, 0] = g\n",
    "    input[i, stim2_begin:stim2_end, 0] = g\n",
    "    \n",
    "fig, ax = plt.subplots(1, 1, figsize=(5, 3))\n",
    "plt.plot(input[0])\n",
    "#plt.savefig('./outputs/stim.svg')"
   ]
  },
  {
   "cell_type": "markdown",
   "metadata": {},
   "source": [
    "# Plot phase portraits of the original system for various parameters"
   ]
  },
  {
   "cell_type": "code",
   "execution_count": null,
   "metadata": {},
   "outputs": [],
   "source": [
    "n_traj=50\n",
    "\n",
    "traj = generate_trajectories(net, input, epochs, n_traj)"
   ]
  },
  {
   "cell_type": "code",
   "execution_count": null,
   "metadata": {},
   "outputs": [],
   "source": [
    "plot_experiment(net, input, traj, epochs)\n",
    "\n",
    "#plt.savefig('./outputs/fields_all_conditions.svg')"
   ]
  },
  {
   "cell_type": "markdown",
   "metadata": {},
   "source": [
    "# Create new network by fitting Gaussian mixture to the connectivity space"
   ]
  },
  {
   "cell_type": "code",
   "execution_count": null,
   "metadata": {},
   "outputs": [],
   "source": [
    "net_sampled = clustering.to_support_net(net, z, scaling=True)"
   ]
  },
  {
   "cell_type": "markdown",
   "metadata": {},
   "source": [
    "Check that the resampled networks still give the same validation losses"
   ]
  },
  {
   "cell_type": "code",
   "execution_count": null,
   "metadata": {},
   "outputs": [],
   "source": [
    "accs2 = []\n",
    "for _ in range(10):\n",
    "    net_sampled.resample_basis()\n",
    "    loss, acc = dms.test_dms(net_sampled, x_val, y_val, mask_val)\n",
    "    accs2.append(acc)"
   ]
  },
  {
   "cell_type": "markdown",
   "metadata": {},
   "source": [
    "Train net network for a few epochs"
   ]
  },
  {
   "cell_type": "code",
   "execution_count": null,
   "metadata": {},
   "outputs": [],
   "source": [
    "train(net_sampled, x_train, y_train, mask_train, 20, lr=1e-6, resample=True, keep_best=True, clip_gradient=1)"
   ]
  },
  {
   "cell_type": "markdown",
   "metadata": {},
   "source": [
    "# Plot phase portraits of the resampled system for various parameters"
   ]
  },
  {
   "cell_type": "code",
   "execution_count": null,
   "metadata": {},
   "outputs": [],
   "source": [
    "n_traj=50\n",
    "\n",
    "traj_sampled = generate_trajectories(net_sampled, input, epochs, n_traj)\n",
    "plot_experiment(net_sampled, input, traj_sampled, epochs)"
   ]
  },
  {
   "cell_type": "code",
   "execution_count": null,
   "metadata": {},
   "outputs": [],
   "source": [
    "pickle.dump(traj, open('./outputs/RNN_data.pkl','wb'))"
   ]
  },
  {
   "cell_type": "markdown",
   "metadata": {},
   "source": [
    "# Concatenate data and create dataset"
   ]
  },
  {
   "cell_type": "code",
   "execution_count": null,
   "metadata": {},
   "outputs": [],
   "source": [
    "pos, vel = aggregate_data(net, traj, epochs)\n",
    "data = utils.construct_dataset(pos, features=vel, graph_type='cknn', k=15, stop_crit=0.02)"
   ]
  },
  {
   "cell_type": "code",
   "execution_count": null,
   "metadata": {},
   "outputs": [],
   "source": [
    "titles = [r'$gain$ = {:0.2f}, {}'.format(g, s) for s in ['stim', 'unstim'] for g in gain ]\n",
    "\n",
    "plotting.fields(data, col=4, alpha=0.2, width=0.01, scale=200, titles=titles)\n",
    "plt.show()"
   ]
  },
  {
   "cell_type": "code",
   "execution_count": null,
   "metadata": {
    "scrolled": false
   },
   "outputs": [],
   "source": [
    "import os\n",
    "os.environ[\"CUDA_DEVICE_ORDER\"]=\"PCI_BUS_ID\"\n",
    "os.environ[\"CUDA_VISIBLE_DEVICES\"]=\"2\"\n",
    "\n",
    "par = {'epochs': 100, #optimisation epochs\n",
    "       'order': 2, #order of derivatives\n",
    "       'hidden_channels': 32, #number of internal dimensions in MLP\n",
    "       'out_channels': 3,\n",
    "       'inner_product_features': True,\n",
    "      }\n",
    "\n",
    "model = MARBLE.net(data, **par)\n",
    "model.run_training(data)"
   ]
  },
  {
   "cell_type": "code",
   "execution_count": null,
   "metadata": {},
   "outputs": [],
   "source": [
    "data = model.evaluate(data)\n",
    "n_clusters=20\n",
    "data = postprocessing(data, n_clusters=n_clusters)\n",
    "\n",
    "emb_MDS, _ = geometry.embed(data.dist, embed_typ = 'MDS')\n",
    "labels = [g for i in range(2) for g in gain ]\n",
    "plotting.embedding(emb_MDS, labels, s=30, alpha=1)"
   ]
  },
  {
   "cell_type": "code",
   "execution_count": null,
   "metadata": {},
   "outputs": [],
   "source": [
    "plt.imshow(data.dist)"
   ]
  },
  {
   "cell_type": "code",
   "execution_count": null,
   "metadata": {},
   "outputs": [],
   "source": [
    "titles = [r'$gain$ = {:0.2f}, {}'.format(g, s) for s in ['stim', 'unstim'] for g in gain ]\n",
    "labels = np.hstack([gain,gain])\n",
    "plotting.embedding(data.emb_2d, data.y.numpy(), titles=titles)"
   ]
  },
  {
   "cell_type": "code",
   "execution_count": null,
   "metadata": {},
   "outputs": [],
   "source": []
  },
  {
   "cell_type": "code",
   "execution_count": null,
   "metadata": {},
   "outputs": [],
   "source": [
    "len(titles)"
   ]
  },
  {
   "cell_type": "code",
   "execution_count": null,
   "metadata": {},
   "outputs": [],
   "source": []
  }
 ],
 "metadata": {
  "kernelspec": {
   "display_name": "Python 3 (ipykernel)",
   "language": "python",
   "name": "python3"
  },
  "language_info": {
   "codemirror_mode": {
    "name": "ipython",
    "version": 3
   },
   "file_extension": ".py",
   "mimetype": "text/x-python",
   "name": "python",
   "nbconvert_exporter": "python",
   "pygments_lexer": "ipython3",
   "version": "3.9.13"
  }
 },
 "nbformat": 4,
 "nbformat_minor": 4
}
