{
 "cells": [
  {
   "cell_type": "code",
   "execution_count": 1,
   "id": "f3429d60",
   "metadata": {},
   "outputs": [],
   "source": [
    "%load_ext autoreload\n",
    "%autoreload 2\n",
    "import numpy as np\n",
    "import matplotlib.pyplot as plt\n",
    "import example_utils as ex_utils\n",
    "\n",
    "from MARBLE import utils, geometry, net, plotting, postprocessing"
   ]
  },
  {
   "cell_type": "markdown",
   "id": "81dcb700",
   "metadata": {},
   "source": [
    "# For initial conditions, sample a rectangle uniformly"
   ]
  },
  {
   "cell_type": "code",
   "execution_count": 2,
   "id": "938be9e5",
   "metadata": {},
   "outputs": [],
   "source": [
    "t0, t1, dt = 0, 3, 0.5\n",
    "t = np.arange(t0, t1, dt)\n",
    "n = 100\n",
    "area = [[-3,-3],[3,3]]"
   ]
  },
  {
   "cell_type": "markdown",
   "id": "b63dae69",
   "metadata": {},
   "source": [
    "# Geneate phase portraits from random initial conditions while varying $\\beta_1$"
   ]
  },
  {
   "cell_type": "code",
   "execution_count": 3,
   "id": "2afd125e",
   "metadata": {},
   "outputs": [
    {
     "name": "stderr",
     "output_type": "stream",
     "text": [
      "/Users/arnaudon/base/lib/python3.10/site-packages/scipy/integrate/_odepack_py.py:247: ODEintWarning: Excess work done on this call (perhaps wrong Dfun type). Run with full_output = 1 to get quantitative information.\n",
      "  warnings.warn(warning_msg, ODEintWarning)\n"
     ]
    },
    {
     "name": "stdout",
     "output_type": "stream",
     "text": [
      " lsoda--  warning..internal t (=r1) and h (=r2) are\u0000\u0000\n",
      "       such that in the machine, t + h = t on the next step  \n",
      "       (h = step size). solver will continue anyway\u0000\u0000\n",
      "      in above,  r1 =  0.1000350247740D+01   r2 =  0.9781804077174D-16\n",
      " lsoda--  warning..internal t (=r1) and h (=r2) are\u0000\u0000\n",
      "       such that in the machine, t + h = t on the next step  \n",
      "       (h = step size). solver will continue anyway\u0000\u0000\n",
      "      in above,  r1 =  0.1000350247740D+01   r2 =  0.9781804077174D-16\n",
      " lsoda--  warning..internal t (=r1) and h (=r2) are\u0000\u0000\n",
      "       such that in the machine, t + h = t on the next step  \n",
      "       (h = step size). solver will continue anyway\u0000\u0000\n",
      "      in above,  r1 =  0.1000350247740D+01   r2 =  0.9781804077174D-16\n",
      " lsoda--  warning..internal t (=r1) and h (=r2) are\u0000\u0000\n",
      "       such that in the machine, t + h = t on the next step  \n",
      "       (h = step size). solver will continue anyway\u0000\u0000\n",
      "      in above,  r1 =  0.1000350247740D+01   r2 =  0.9781804077174D-16\n",
      " lsoda--  warning..internal t (=r1) and h (=r2) are\u0000\u0000\n",
      "       such that in the machine, t + h = t on the next step  \n",
      "       (h = step size). solver will continue anyway\u0000\u0000\n",
      "      in above,  r1 =  0.1000350247740D+01   r2 =  0.7936179851867D-16\n"
     ]
    }
   ],
   "source": [
    "n_steps=100\n",
    "mu = np.hstack((np.linspace(-2, 2, n_steps)))\n",
    "\n",
    "pos, vel = [], []\n",
    "X0_range = ex_utils.initial_conditions(n, len(mu), area)\n",
    "for i, m in enumerate(mu):\n",
    "    p, v = ex_utils.simulate_vanderpol(m, X0_range[i], t)\n",
    "            \n",
    "    pos.append(np.vstack(p))\n",
    "    vel.append(np.vstack(v))\n",
    "    \n",
    "#embed on parabola\n",
    "for i, (p, v) in enumerate(zip(pos, vel)):\n",
    "    end_point = p + v\n",
    "    new_endpoint = ex_utils.parabola(end_point[:,0], end_point[:,1])\n",
    "    pos[i] = ex_utils.parabola(p[:,0], p[:,1])\n",
    "    vel[i] = new_endpoint - pos[i]"
   ]
  },
  {
   "cell_type": "markdown",
   "id": "396b73bb",
   "metadata": {},
   "source": [
    "# Plot vector fields"
   ]
  },
  {
   "cell_type": "code",
   "execution_count": 4,
   "id": "84bbf7b7",
   "metadata": {
    "scrolled": true
   },
   "outputs": [
    {
     "name": "stdout",
     "output_type": "stream",
     "text": [
      "---- Embedding dimension: 3\n",
      "---- Signal dimension: 3\n",
      "\n"
     ]
    },
    {
     "name": "stderr",
     "output_type": "stream",
     "text": [
      "Computing tangent spaces...: 100%|█████████████████████████████████████████████████████████████████████████████████████████████████████████████| 100/100 [00:00<00:00, 663.14it/s]\n"
     ]
    },
    {
     "name": "stdout",
     "output_type": "stream",
     "text": [
      "\n",
      "Fraction of variance explained:  tensor([0.5906, 1.0000, 1.0000])\n",
      "\n",
      "---- Manifold dimension: 2\n"
     ]
    },
    {
     "name": "stderr",
     "output_type": "stream",
     "text": [
      "Computing connections...: 100%|████████████████████████████████████████████████████████████████████████████████████████████████████████████████| 100/100 [00:00<00:00, 160.62it/s]\n"
     ]
    },
    {
     "name": "stdout",
     "output_type": "stream",
     "text": [
      "\n",
      "---- Computing kernels ... Done \n",
      "---- Computing eigendecomposition ... Done \n"
     ]
    }
   ],
   "source": [
    "data = utils.construct_dataset(pos, features=vel, graph_type='cknn', k=20, stop_crit=0.03, vector=True)"
   ]
  },
  {
   "cell_type": "code",
   "execution_count": 5,
   "id": "c9aa06e3",
   "metadata": {
    "scrolled": true
   },
   "outputs": [],
   "source": [
    "#titles = [r'$\\beta$ = {:0.2f}'.format(m) for m in mu]\n",
    "\n",
    "#axes = plotting.fields(data, col=4, alpha=1, width=7, scale=2, titles=titles, view=[70,20])\n",
    "#for ax in axes:\n",
    "#    ex_utils.plot_parabola(ax)\n",
    "\n",
    "#plt.savefig('./outputs/parabolas.svg')"
   ]
  },
  {
   "cell_type": "markdown",
   "id": "57e68335",
   "metadata": {},
   "source": [
    "# Train network"
   ]
  },
  {
   "cell_type": "code",
   "execution_count": null,
   "id": "a7752709",
   "metadata": {
    "scrolled": false
   },
   "outputs": [
    {
     "name": "stdout",
     "output_type": "stream",
     "text": [
      "\n",
      "---- Settings: \n",
      "\n",
      "epochs : 50\n",
      "order : 2\n",
      "hidden_channels : 32\n",
      "out_channels : 5\n",
      "inner_product_features : True\n",
      "batch_size : 64\n",
      "lr : 0.01\n",
      "momentum : 0.9\n",
      "diffusion : False\n",
      "include_positions : False\n",
      "frac_sampled_nb : -1\n",
      "dropout : 0.0\n",
      "n_lin_layers : 2\n",
      "bias : True\n",
      "vec_norm : False\n",
      "batch_norm : None\n",
      "seed : 0\n",
      "processes : 1\n",
      "dim_signal : 3\n",
      "dim_emb : 3\n",
      "dim_man : 2\n",
      "n_sampled_nb : -1\n",
      "\n",
      "---- Number of features to pass to the MLP:  7\n",
      "---- Total number of parameters:  450\n",
      "\n",
      "---- Training network ...\n",
      "\n",
      "Epoch: 1, Training loss: 1.352202, Validation loss: 1.3209, lr: 0.0100 *"
     ]
    }
   ],
   "source": [
    "par = {'epochs': 50, #optimisation epochs\n",
    "       'order': 2, #order of derivatives\n",
    "       'hidden_channels': 32, #number of internal dimensions in MLP\n",
    "       'out_channels': 5,\n",
    "       'inner_product_features': True,\n",
    "      }\n",
    "\n",
    "model = net(data, par=par)\n",
    "model.run_training(data, outdir='./output/vanderpol_data')\n",
    "#model.load_model('./outputs/vanderpol_data/best_model.pth')"
   ]
  },
  {
   "cell_type": "markdown",
   "id": "7818b71e",
   "metadata": {},
   "source": [
    "# Create embeddings"
   ]
  },
  {
   "cell_type": "code",
   "execution_count": null,
   "id": "2f4dded9",
   "metadata": {},
   "outputs": [],
   "source": [
    "data = model.evaluate(data)\n",
    "data = postprocessing(data) #, embed_typ='PCA')"
   ]
  },
  {
   "cell_type": "code",
   "execution_count": null,
   "id": "f67159d6",
   "metadata": {},
   "outputs": [],
   "source": [
    "emb_MDS, _ = geometry.embed(data.dist)#, embed_typ = 'PCA')\n",
    "plotting.embedding(emb_MDS, mu, s=30, alpha=1)\n",
    "#plt.savefig('../results/van_der_pol_MDS.svg')\n",
    "plt.show()"
   ]
  },
  {
   "cell_type": "markdown",
   "id": "0314fb06",
   "metadata": {},
   "source": [
    "# Distance matrix"
   ]
  },
  {
   "cell_type": "code",
   "execution_count": null,
   "id": "12592529",
   "metadata": {},
   "outputs": [],
   "source": [
    "d= data.dist\n",
    "d += np.diag(np.diag(d)*np.nan)\n",
    "im = plt.imshow(d, extent=[mu[0], mu[-1], mu[0], mu[-1]])\n",
    "plt.axhline(0, c='k')\n",
    "plt.axvline(0, c='k')\n",
    "\n",
    "plt.colorbar(im)\n",
    "#plt.savefig('../results/van_der_pol_D.svg')"
   ]
  },
  {
   "cell_type": "markdown",
   "id": "a8ce2f03",
   "metadata": {},
   "source": [
    "# Cluster and visualise embedding"
   ]
  },
  {
   "cell_type": "code",
   "execution_count": null,
   "id": "c246ea45",
   "metadata": {},
   "outputs": [],
   "source": [
    "titles = [r'$\\beta$ = {:0.2f}'.format(m) for m in mu]\n",
    "plotting.embedding(data, mu[data.y.numpy().astype(int)])#, titles=titles)\n",
    "#plt.savefig('../results/van_der_pol_embedding.svg')"
   ]
  },
  {
   "cell_type": "code",
   "execution_count": null,
   "id": "e282191e",
   "metadata": {},
   "outputs": [],
   "source": [
    "mu[data.y.numpy().astype(int)]\n"
   ]
  },
  {
   "cell_type": "code",
   "execution_count": null,
   "id": "48cbd2e8",
   "metadata": {},
   "outputs": [],
   "source": [
    "data"
   ]
  },
  {
   "cell_type": "code",
   "execution_count": null,
   "id": "399c3b17",
   "metadata": {},
   "outputs": [],
   "source": []
  }
 ],
 "metadata": {
  "kernelspec": {
   "display_name": "Python 3 (ipykernel)",
   "language": "python",
   "name": "python3"
  },
  "language_info": {
   "codemirror_mode": {
    "name": "ipython",
    "version": 3
   },
   "file_extension": ".py",
   "mimetype": "text/x-python",
   "name": "python",
   "nbconvert_exporter": "python",
   "pygments_lexer": "ipython3",
   "version": "3.10.10"
  }
 },
 "nbformat": 4,
 "nbformat_minor": 5
}
